{
 "cells": [
  {
   "cell_type": "code",
   "execution_count": 2,
   "metadata": {},
   "outputs": [],
   "source": [
    "import numpy as np\n",
    "import cvxpy as cp\n",
    "from general_method.basis_generator import rand_moment, generate_basis, sel_seq, rand_rho, rand_projs, proj_mul\n",
    "from numpy import linalg as LA\n",
    "import matplotlib.pyplot as plt\n",
    "import random"
   ]
  },
  {
   "cell_type": "code",
   "execution_count": null,
   "metadata": {},
   "outputs": [],
   "source": []
  },
  {
   "cell_type": "code",
   "execution_count": 1,
   "metadata": {},
   "outputs": [],
   "source": [
    "num_obs = 3\n",
    "len_seq = 3\n",
    "out_max = 1\n",
    "seq_method = \"sel_sequences\"\n",
    "remove_last_out = True"
   ]
  },
  {
   "cell_type": "code",
   "execution_count": 3,
   "metadata": {},
   "outputs": [
    {
     "data": {
      "text/plain": [
       "(27,)"
      ]
     },
     "execution_count": 3,
     "metadata": {},
     "output_type": "execute_result"
    }
   ],
   "source": [
    "#behavior d=3\n",
    "\n",
    "dim = 3\n",
    "\n",
    "X = rand_moment(dim, num_obs, len_seq, out_max, seq_method, [len_seq], remove_last_out=remove_last_out)\n",
    "B_3d = np.real(np.diag(X)[1:])\n",
    "\n",
    "B_3d.shape"
   ]
  },
  {
   "cell_type": "code",
   "execution_count": null,
   "metadata": {},
   "outputs": [],
   "source": [
    "#Convex Hull approximation d=2\n",
    "\n",
    "dim = 2\n",
    "B_2d = []\n",
    "\n",
    "for i in range(500):\n",
    "    X = rand_moment(dim, num_obs, len_seq, out_max, seq_method, [len_seq], remove_last_out=remove_last_out)\n",
    "    B_2d.append(np.real(np.diag(X)[1:]))"
   ]
  },
  {
   "cell_type": "code",
   "execution_count": 5,
   "metadata": {},
   "outputs": [
    {
     "name": "stdout",
     "output_type": "stream",
     "text": [
      "Solving...\n",
      "\n",
      "\n",
      "Problem\n",
      "  Name                   :                 \n",
      "  Objective sense        : min             \n",
      "  Type                   : LO (linear optimization problem)\n",
      "  Constraints            : 101             \n",
      "  Cones                  : 0               \n",
      "  Scalar variables       : 28              \n",
      "  Matrix variables       : 0               \n",
      "  Integer variables      : 0               \n",
      "\n",
      "Optimizer started.\n",
      "Problem\n",
      "  Name                   :                 \n",
      "  Objective sense        : min             \n",
      "  Type                   : LO (linear optimization problem)\n",
      "  Constraints            : 101             \n",
      "  Cones                  : 0               \n",
      "  Scalar variables       : 28              \n",
      "  Matrix variables       : 0               \n",
      "  Integer variables      : 0               \n",
      "\n",
      "Optimizer  - threads                : 4               \n",
      "Optimizer  - solved problem         : the dual        \n",
      "Optimizer  - Constraints            : 22\n",
      "Optimizer  - Cones                  : 0\n",
      "Optimizer  - Scalar variables       : 101               conic                  : 0               \n",
      "Optimizer  - Semi-definite variables: 0                 scalarized             : 0               \n",
      "Factor     - setup time             : 0.00              dense det. time        : 0.00            \n",
      "Factor     - ML order time          : 0.00              GP order time          : 0.00            \n",
      "Factor     - nonzeros before factor : 253               after factor           : 253             \n",
      "Factor     - dense dim.             : 0                 flops                  : 5.49e+04        \n",
      "ITE PFEAS    DFEAS    GFEAS    PRSTATUS   POBJ              DOBJ              MU       TIME  \n",
      "0   2.0e+00  2.0e+02  4.0e+00  0.00e+00   0.000000000e+00   -1.000000000e+00  4.0e+00  0.02  \n",
      "1   7.7e-02  7.7e+00  1.5e-01  1.00e+00   -3.194731762e-01  -3.326074961e-01  1.5e-01  0.04  \n",
      "2   1.5e-03  1.5e-01  2.9e-03  -3.05e-01  -9.996184586e-01  -9.649240466e-01  2.9e-03  0.04  \n",
      "3   4.4e-07  4.4e-05  8.8e-07  9.99e-01   -9.999992109e-01  -9.999925037e-01  8.8e-07  0.04  \n",
      "4   4.4e-11  4.4e-09  8.8e-11  1.00e+00   -9.999999999e-01  -9.999999993e-01  8.8e-11  0.04  \n",
      "Basis identification started.\n",
      "Primal basis identification phase started.\n",
      "Primal basis identification phase terminated. Time: 0.00\n",
      "Dual basis identification phase started.\n",
      "Dual basis identification phase terminated. Time: 0.00\n",
      "Basis identification terminated. Time: 0.01\n",
      "Optimizer terminated. Time: 0.06    \n",
      "\n",
      "\n",
      "Interior-point solution summary\n",
      "  Problem status  : PRIMAL_AND_DUAL_FEASIBLE\n",
      "  Solution status : OPTIMAL\n",
      "  Primal.  obj: -9.9999999992e-01   nrm: 1e+01    Viol.  con: 3e-11    var: 0e+00  \n",
      "  Dual.    obj: -9.9999999925e-01   nrm: 1e+00    Viol.  con: 0e+00    var: 2e-09  \n",
      "\n",
      "Basic solution summary\n",
      "  Problem status  : PRIMAL_AND_DUAL_FEASIBLE\n",
      "  Solution status : OPTIMAL\n",
      "  Primal.  obj: -9.9999999992e-01   nrm: 1e+01    Viol.  con: 8e-11    var: 0e+00  \n",
      "  Dual.    obj: -1.0000000000e+00   nrm: 1e+00    Viol.  con: 0e+00    var: 0e+00  \n"
     ]
    },
    {
     "data": {
      "text/plain": [
       "array([2.19270374])"
      ]
     },
     "execution_count": 5,
     "metadata": {},
     "output_type": "execute_result"
    }
   ],
   "source": [
    "#Create the LP instance...\n",
    "\n",
    "gamma = cp.Variable(B_3d.shape)\n",
    "Bnd_2d = cp.Variable(1)\n",
    "\n",
    "constraints = [B_3d @ gamma.T - Bnd_2d <= 1]\n",
    "for b2d in B_2d:\n",
    "    constraints += [b2d @ gamma.T - Bnd_2d <= 0]\n",
    "\n",
    "prob = cp.Problem(cp.Maximize(B_3d @ gamma.T - Bnd_2d),\n",
    "                  constraints)\n",
    "\n",
    "print(\"Solving...\")\n",
    "prob.solve(solver=cp.MOSEK, verbose=True)"
   ]
  },
  {
   "cell_type": "code",
   "execution_count": 6,
   "metadata": {},
   "outputs": [
    {
     "data": {
      "text/plain": [
       "array([1.])"
      ]
     },
     "execution_count": 6,
     "metadata": {},
     "output_type": "execute_result"
    }
   ],
   "source": [
    "B_3d @ gamma.value.T - Bnd_2d.value"
   ]
  },
  {
   "cell_type": "code",
   "execution_count": null,
   "metadata": {},
   "outputs": [],
   "source": []
  }
 ],
 "metadata": {
  "kernelspec": {
   "display_name": "Python 3",
   "language": "python",
   "name": "python3"
  },
  "language_info": {
   "codemirror_mode": {
    "name": "ipython",
    "version": 3
   },
   "file_extension": ".py",
   "mimetype": "text/x-python",
   "name": "python",
   "nbconvert_exporter": "python",
   "pygments_lexer": "ipython3",
   "version": "3.7.6"
  }
 },
 "nbformat": 4,
 "nbformat_minor": 2
}
