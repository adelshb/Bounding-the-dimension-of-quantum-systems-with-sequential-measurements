{
 "cells": [
  {
   "cell_type": "code",
   "execution_count": 2,
   "metadata": {},
   "outputs": [],
   "source": [
    "from general_method.set_geom_prob import visibility\n",
    "import matplotlib.pyplot as plt\n",
    "import seaborn as sns\n",
    "import numpy as np\n",
    "import json\n",
    "import os\n",
    "import pandas as pd"
   ]
  },
  {
   "cell_type": "code",
   "execution_count": 3,
   "metadata": {},
   "outputs": [],
   "source": [
    "def data_parser(dirname):\n",
    "    \n",
    "    keys = ['num of observables', 'maximum length of sequences', 'num of outcomes', 'sequences method', 'dimension behaviors', 'dimension base', 'level', 'probability out', 'base ranks']\n",
    "    data = pd.DataFrame(columns=keys)\n",
    "    for file in os.listdir(dirname):\n",
    "        #print(file)\n",
    "        filename = \"%s/%s\" % (dirname, file)\n",
    "        with open(filename) as json_file:\n",
    "            temp_data = json.load(json_file)\n",
    "        \n",
    "        temp_data['probability out'] = prob_out(temp_data)\n",
    "\n",
    "        del temp_data[\"visibilities\"]\n",
    "        \n",
    "        temp_df = pd.Series(temp_data)\n",
    "        data = data.append(temp_df, ignore_index=True)\n",
    "        \n",
    "    return data\n",
    "\n",
    "\n",
    "def plot_vis_distri(filename):\n",
    "    \n",
    "    with open(filename) as json_file:\n",
    "        data = json.load(json_file)\n",
    "    \n",
    "    eta = data['visibilities']\n",
    "\n",
    "    plt.figure(figsize=(10,5))\n",
    "    ax = sns.distplot(eta, hist=True, kde=True,\n",
    "                 bins=int(len(eta)/10), color = 'darkblue',\n",
    "                 hist_kws={'edgecolor':'black'},\n",
    "                 kde_kws={'linewidth': 4})\n",
    "    ax.set(xlabel='Visibility')\n",
    "\n",
    "    eta_in = [i for i in eta if i>=0.9999]\n",
    "    eta_out = [i for i in eta if i<0.9999]\n",
    "\n",
    "\n",
    "    print(\"Data size: \", len(eta))\n",
    "    print(\"Min: \", min(eta))\n",
    "    print(\"Max: \", max(eta))\n",
    "    print(\"Probability out: \", len(eta_out)/len(eta))\n",
    "    \n",
    "    \n",
    "def prob_out(data):\n",
    "    \n",
    "    eta = data['visibilities']\n",
    "    if len(eta) == 0:\n",
    "        return \n",
    "    \n",
    "    eta_out = [i for i in eta if i<0.9999]\n",
    "    return len(eta_out)/len(eta)"
   ]
  },
  {
   "cell_type": "code",
   "execution_count": 112,
   "metadata": {
    "scrolled": false
   },
   "outputs": [
    {
     "data": {
      "text/html": [
       "<div>\n",
       "<style scoped>\n",
       "    .dataframe tbody tr th:only-of-type {\n",
       "        vertical-align: middle;\n",
       "    }\n",
       "\n",
       "    .dataframe tbody tr th {\n",
       "        vertical-align: top;\n",
       "    }\n",
       "\n",
       "    .dataframe thead th {\n",
       "        text-align: right;\n",
       "    }\n",
       "</style>\n",
       "<table border=\"1\" class=\"dataframe\">\n",
       "  <thead>\n",
       "    <tr style=\"text-align: right;\">\n",
       "      <th></th>\n",
       "      <th>num of observables</th>\n",
       "      <th>maximum length of sequences</th>\n",
       "      <th>num of outcomes</th>\n",
       "      <th>sequences method</th>\n",
       "      <th>dimension behaviors</th>\n",
       "      <th>dimension base</th>\n",
       "      <th>level</th>\n",
       "      <th>probability out</th>\n",
       "      <th>base ranks</th>\n",
       "    </tr>\n",
       "  </thead>\n",
       "  <tbody>\n",
       "    <tr>\n",
       "      <th>0</th>\n",
       "      <td>3</td>\n",
       "      <td>2</td>\n",
       "      <td>2</td>\n",
       "      <td>sel_sequences</td>\n",
       "      <td>5</td>\n",
       "      <td>2</td>\n",
       "      <td>1</td>\n",
       "      <td>0.215904</td>\n",
       "      <td>35</td>\n",
       "    </tr>\n",
       "    <tr>\n",
       "      <th>1</th>\n",
       "      <td>3</td>\n",
       "      <td>2</td>\n",
       "      <td>2</td>\n",
       "      <td>sel_sequences</td>\n",
       "      <td>3</td>\n",
       "      <td>2</td>\n",
       "      <td>4</td>\n",
       "      <td>None</td>\n",
       "      <td>286</td>\n",
       "    </tr>\n",
       "    <tr>\n",
       "      <th>2</th>\n",
       "      <td>3</td>\n",
       "      <td>2</td>\n",
       "      <td>2</td>\n",
       "      <td>sel_sequences</td>\n",
       "      <td>4</td>\n",
       "      <td>2</td>\n",
       "      <td>1</td>\n",
       "      <td>0.268526</td>\n",
       "      <td>35</td>\n",
       "    </tr>\n",
       "    <tr>\n",
       "      <th>3</th>\n",
       "      <td>3</td>\n",
       "      <td>2</td>\n",
       "      <td>2</td>\n",
       "      <td>sel_sequences</td>\n",
       "      <td>3</td>\n",
       "      <td>2</td>\n",
       "      <td>1</td>\n",
       "      <td>0.365198</td>\n",
       "      <td>35</td>\n",
       "    </tr>\n",
       "    <tr>\n",
       "      <th>4</th>\n",
       "      <td>3</td>\n",
       "      <td>2</td>\n",
       "      <td>2</td>\n",
       "      <td>sel_sequences</td>\n",
       "      <td>3</td>\n",
       "      <td>2</td>\n",
       "      <td>3</td>\n",
       "      <td>None</td>\n",
       "      <td>165</td>\n",
       "    </tr>\n",
       "    <tr>\n",
       "      <th>5</th>\n",
       "      <td>4</td>\n",
       "      <td>2</td>\n",
       "      <td>2</td>\n",
       "      <td>sel_sequences</td>\n",
       "      <td>3</td>\n",
       "      <td>2</td>\n",
       "      <td>1</td>\n",
       "      <td>0.782427</td>\n",
       "      <td>102</td>\n",
       "    </tr>\n",
       "    <tr>\n",
       "      <th>6</th>\n",
       "      <td>3</td>\n",
       "      <td>2</td>\n",
       "      <td>2</td>\n",
       "      <td>sel_sequences</td>\n",
       "      <td>3</td>\n",
       "      <td>2</td>\n",
       "      <td>2</td>\n",
       "      <td>0.392267</td>\n",
       "      <td>84</td>\n",
       "    </tr>\n",
       "    <tr>\n",
       "      <th>7</th>\n",
       "      <td>3</td>\n",
       "      <td>2</td>\n",
       "      <td>2</td>\n",
       "      <td>sel_sequences</td>\n",
       "      <td>4</td>\n",
       "      <td>2</td>\n",
       "      <td>2</td>\n",
       "      <td>0.317939</td>\n",
       "      <td>84</td>\n",
       "    </tr>\n",
       "    <tr>\n",
       "      <th>8</th>\n",
       "      <td>3</td>\n",
       "      <td>2</td>\n",
       "      <td>2</td>\n",
       "      <td>sel_sequences</td>\n",
       "      <td>5</td>\n",
       "      <td>2</td>\n",
       "      <td>2</td>\n",
       "      <td>0.247898</td>\n",
       "      <td>84</td>\n",
       "    </tr>\n",
       "  </tbody>\n",
       "</table>\n",
       "</div>"
      ],
      "text/plain": [
       "  num of observables maximum length of sequences num of outcomes  \\\n",
       "0                  3                           2               2   \n",
       "1                  3                           2               2   \n",
       "2                  3                           2               2   \n",
       "3                  3                           2               2   \n",
       "4                  3                           2               2   \n",
       "5                  4                           2               2   \n",
       "6                  3                           2               2   \n",
       "7                  3                           2               2   \n",
       "8                  3                           2               2   \n",
       "\n",
       "  sequences method dimension behaviors dimension base level probability out  \\\n",
       "0    sel_sequences                   5              2     1        0.215904   \n",
       "1    sel_sequences                   3              2     4            None   \n",
       "2    sel_sequences                   4              2     1        0.268526   \n",
       "3    sel_sequences                   3              2     1        0.365198   \n",
       "4    sel_sequences                   3              2     3            None   \n",
       "5    sel_sequences                   3              2     1        0.782427   \n",
       "6    sel_sequences                   3              2     2        0.392267   \n",
       "7    sel_sequences                   4              2     2        0.317939   \n",
       "8    sel_sequences                   5              2     2        0.247898   \n",
       "\n",
       "  base ranks  \n",
       "0         35  \n",
       "1        286  \n",
       "2         35  \n",
       "3         35  \n",
       "4        165  \n",
       "5        102  \n",
       "6         84  \n",
       "7         84  \n",
       "8         84  "
      ]
     },
     "execution_count": 112,
     "metadata": {},
     "output_type": "execute_result"
    }
   ],
   "source": [
    "filename = \"general_method/data\"\n",
    "data = data_parser(filename)\n",
    "\n",
    "data"
   ]
  },
  {
   "cell_type": "code",
   "execution_count": 78,
   "metadata": {},
   "outputs": [
    {
     "name": "stdout",
     "output_type": "stream",
     "text": [
      "Data size:  9781\n",
      "Min:  2.818850071571792e-07\n",
      "Max:  3.2352471320642007\n",
      "Probability out:  0.3651978325324609\n"
     ]
    },
    {
     "data": {
      "image/png": "[encoded data removed]",
      "text/plain": [
       "<Figure size 720x360 with 1 Axes>"
      ]
     },
     "metadata": {
      "needs_background": "light"
     },
     "output_type": "display_data"
    }
   ],
   "source": [
    "filename = \"general_method/data/3-num_obs-2-len_seq-1-out_max-3-dim_behavior-2-dim_base-1-level.json\"\n",
    "plot_vis_distri(filename)"
   ]
  },
  {
   "cell_type": "code",
   "execution_count": 113,
   "metadata": {},
   "outputs": [
    {
     "name": "stdout",
     "output_type": "stream",
     "text": [
      "Data size:  4912\n",
      "Min:  1.5354578251022311e-06\n",
      "Max:  2.6144360891264835\n",
      "Probability out:  0.2685260586319218\n"
     ]
    },
    {
     "data": {
      "image/png": "[encoded data removed]",
      "text/plain": [
       "<Figure size 720x360 with 1 Axes>"
      ]
     },
     "metadata": {
      "needs_background": "light"
     },
     "output_type": "display_data"
    }
   ],
   "source": [
    "filename = \"general_method/data/3-num_obs-2-len_seq-1-out_max-4-dim_behavior-2-dim_base-1-level.json\"\n",
    "plot_vis_distri(filename)"
   ]
  },
  {
   "cell_type": "markdown",
   "metadata": {},
   "source": [
    "# Scenario 3-2-2 with Q2"
   ]
  },
  {
   "cell_type": "code",
   "execution_count": 4,
   "metadata": {},
   "outputs": [
    {
     "name": "stdout",
     "output_type": "stream",
     "text": [
      "Data size:  9621\n",
      "Min:  2.1744541530476386e-08\n",
      "Max:  3.29002521895401\n",
      "Probability out:  0.39226691612098535\n"
     ]
    },
    {
     "data": {
      "image/png": "[encoded data removed]",
      "text/plain": [
       "<Figure size 720x360 with 1 Axes>"
      ]
     },
     "metadata": {
      "needs_background": "light"
     },
     "output_type": "display_data"
    }
   ],
   "source": [
    "filename = \"general_method/data/3-num_obs-2-len_seq-1-out_max-3-dim_behavior-2-dim_base-2-level.json\"\n",
    "plot_vis_distri(filename)"
   ]
  },
  {
   "cell_type": "code",
   "execution_count": 46,
   "metadata": {},
   "outputs": [
    {
     "data": {
      "text/plain": [
       "dict_keys(['num of observables', 'maximum length of sequences', 'num of outcomes', 'sequences method', 'dimension behaviors', 'dimension base', 'level', 'visibilities', 'base ranks'])"
      ]
     },
     "execution_count": 46,
     "metadata": {},
     "output_type": "execute_result"
    }
   ],
   "source": [
    "data.keys()fig = plt.subplots(figsize=(8,5))\n",
    "plt.plot(range(1,len(prob_out)+1), prob_out, color='red', marker='o')\n",
    "plt.xlabel('Level', fontsize=14)\n",
    "plt.ylabel('Probability out', fontsize=14)\n",
    "plt.grid(True)\n",
    "plt.show()"
   ]
  },
  {
   "cell_type": "code",
   "execution_count": 43,
   "metadata": {},
   "outputs": [
    {
     "data": {
      "text/plain": [
       "[0.2159044921084581,\n",
       " None,\n",
       " 0.2685260586319218,\n",
       " 0.3651978325324609,\n",
       " None,\n",
       " 0.7824267782426778,\n",
       " 0.39226691612098535,\n",
       " 0.3179392446633826,\n",
       " 0.24789829813409883]"
      ]
     },
     "execution_count": 43,
     "metadata": {},
     "output_type": "execute_result"
    }
   ],
   "source": [
    "all_prob"
   ]
  }
 ],
 "metadata": {
  "kernelspec": {
   "display_name": "Python 3",
   "language": "python",
   "name": "python3"
  },
  "language_info": {
   "codemirror_mode": {
    "name": "ipython",
    "version": 3
   },
   "file_extension": ".py",
   "mimetype": "text/x-python",
   "name": "python",
   "nbconvert_exporter": "python",
   "pygments_lexer": "ipython3",
   "version": "3.7.3"
  }
 },
 "nbformat": 4,
 "nbformat_minor": 2
}
