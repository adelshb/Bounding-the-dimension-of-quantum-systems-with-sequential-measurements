{
 "cells": [
  {
   "cell_type": "code",
   "execution_count": 42,
   "metadata": {},
   "outputs": [],
   "source": [
    "from general_method.basis_generator import rand_moment, all_seq, random_ints_with_sum\n",
    "from itertools import combinations, product\n",
    "from numpy import linalg as LA\n",
    "import numpy as np\n",
    "import matplotlib.pyplot as plt\n",
    "from scipy.stats import unitary_group"
   ]
  },
  {
   "cell_type": "code",
   "execution_count": 63,
   "metadata": {},
   "outputs": [],
   "source": [
    "dim=4\n",
    "num_obs=3\n",
    "len_seq=2\n",
    "out_max=1\n",
    "seq_method=\"all_sequences\""
   ]
  },
  {
   "cell_type": "code",
   "execution_count": 79,
   "metadata": {
    "scrolled": false
   },
   "outputs": [
    {
     "name": "stdout",
     "output_type": "stream",
     "text": [
      "size X: (13, 13)\n",
      "rank X: 8\n"
     ]
    },
    {
     "data": {
      "image/png": "[encoded data removed]",
      "text/plain": [
       "<Figure size 432x288 with 2 Axes>"
      ]
     },
     "metadata": {
      "needs_background": "light"
     },
     "output_type": "display_data"
    },
    {
     "name": "stdout",
     "output_type": "stream",
     "text": [
      "[7.07240208e-01 7.07240206e-01 2.80625276e-01 2.80625276e-01\n",
      " 2.45115104e-02 2.45114386e-02 2.86974021e-03 4.40052669e-05\n",
      " 4.40098358e-05 1.21746750e-07 2.41191763e-08 1.06783176e-08\n",
      " 1.78743979e-08]\n"
     ]
    },
    {
     "data": {
      "image/png": "[encoded data removed]",
      "text/plain": [
       "<Figure size 432x288 with 1 Axes>"
      ]
     },
     "metadata": {
      "needs_background": "light"
     },
     "output_type": "display_data"
    }
   ],
   "source": [
    "X = rand_moment(dim, num_obs, len_seq, out_max, seq_method)\n",
    "rX = LA.matrix_rank(X)\n",
    "\n",
    "print(\"size X:\", X.shape)\n",
    "print(\"rank X:\", rX)\n",
    "\n",
    "plt.imshow(X, cmap='hot', interpolation='nearest')\n",
    "plt.colorbar()\n",
    "plt.show()\n",
    "\n",
    "D, U = LA.eig(X)\n",
    "H = U @ np.sqrt(np.diag(D))\n",
    "\n",
    "eigH = np.abs(LA.eig(H)[0])\n",
    "\n",
    "print(eigH)\n",
    "\n",
    "plt.plot(eigH,'bs')\n",
    "plt.show()"
   ]
  },
  {
   "cell_type": "code",
   "execution_count": 75,
   "metadata": {},
   "outputs": [
    {
     "data": {
      "text/plain": [
       "array([ 2.49203845e+00,  5.25504115e-01,  1.64762367e-01,  6.69485552e-02,\n",
       "        3.00333297e-02,  1.93718751e-02,  3.90258108e-03,  6.22268535e-04,\n",
       "       -3.74312156e-17, -9.54795455e-17,  1.99467367e-17,  6.59958274e-18,\n",
       "       -1.93467379e-18])"
      ]
     },
     "execution_count": 75,
     "metadata": {},
     "output_type": "execute_result"
    }
   ],
   "source": [
    "D"
   ]
  },
  {
   "cell_type": "code",
   "execution_count": null,
   "metadata": {},
   "outputs": [],
   "source": []
  }
 ],
 "metadata": {
  "kernelspec": {
   "display_name": "Python 3",
   "language": "python",
   "name": "python3"
  },
  "language_info": {
   "codemirror_mode": {
    "name": "ipython",
    "version": 3
   },
   "file_extension": ".py",
   "mimetype": "text/x-python",
   "name": "python",
   "nbconvert_exporter": "python",
   "pygments_lexer": "ipython3",
   "version": "3.7.6"
  }
 },
 "nbformat": 4,
 "nbformat_minor": 2
}
