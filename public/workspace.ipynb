{
 "cells": [
  {
   "cell_type": "code",
   "execution_count": 1,
   "metadata": {},
   "outputs": [],
   "source": [
    "import numpy as np\n",
    "\n",
    "from basis_generator import rand_moment\n",
    "from save_visibility import single_behavior_visibility\n",
    "\n",
    "import multiprocessing"
   ]
  },
  {
   "cell_type": "code",
   "execution_count": 2,
   "metadata": {},
   "outputs": [],
   "source": [
    "def basis_prop(filename):\n",
    "    X_basis = np.load(filename)\n",
    "    print(\"number of LI independent: \",len(X_basis))\n",
    "    print(\"moment matrix shape: \",X_basis[0].shape)"
   ]
  },
  {
   "cell_type": "code",
   "execution_count": 6,
   "metadata": {},
   "outputs": [
    {
     "name": "stdout",
     "output_type": "stream",
     "text": [
      "number of LI independent:  84\n",
      "moment matrix shape:  (37, 37)\n"
     ]
    }
   ],
   "source": [
    "basis_filename = \"data_basis/2-dim-3-num_obs-2-len_seq-2-num_out.npy\"\n",
    "basis_prop(basis_filename)"
   ]
  },
  {
   "cell_type": "code",
   "execution_count": 7,
   "metadata": {},
   "outputs": [
    {
     "name": "stdout",
     "output_type": "stream",
     "text": [
      "number of LI independent:  35\n",
      "moment matrix shape:  (10, 10)\n"
     ]
    }
   ],
   "source": [
    "basis_filename = \"data_basis/2-dim-3-num_obs-2-len_seq-2-num_out-1-level.npy\"\n",
    "basis_prop(basis_filename)"
   ]
  },
  {
   "cell_type": "code",
   "execution_count": 8,
   "metadata": {},
   "outputs": [
    {
     "name": "stdout",
     "output_type": "stream",
     "text": [
      "number of LI independent:  84\n",
      "moment matrix shape:  (37, 37)\n"
     ]
    }
   ],
   "source": [
    "basis_filename = \"data_basis/2-dim-3-num_obs-2-len_seq-2-num_out-2-level.npy\"\n",
    "basis_prop(basis_filename)"
   ]
  },
  {
   "cell_type": "code",
   "execution_count": 10,
   "metadata": {},
   "outputs": [
    {
     "name": "stdout",
     "output_type": "stream",
     "text": [
      "number of LI independent:  84\n",
      "moment matrix shape:  (28, 28)\n"
     ]
    }
   ],
   "source": [
    "basis_filename = \"data_basis/2-dim-3-num_obs-3-len_seq-2-num_out.npy\"\n",
    "basis_prop(basis_filename)"
   ]
  },
  {
   "cell_type": "code",
   "execution_count": null,
   "metadata": {},
   "outputs": [],
   "source": []
  }
 ],
 "metadata": {
  "kernelspec": {
   "display_name": "Python 3",
   "language": "python",
   "name": "python3"
  },
  "language_info": {
   "codemirror_mode": {
    "name": "ipython",
    "version": 3
   },
   "file_extension": ".py",
   "mimetype": "text/x-python",
   "name": "python",
   "nbconvert_exporter": "python",
   "pygments_lexer": "ipython3",
   "version": "3.6.7"
  }
 },
 "nbformat": 4,
 "nbformat_minor": 2
}
