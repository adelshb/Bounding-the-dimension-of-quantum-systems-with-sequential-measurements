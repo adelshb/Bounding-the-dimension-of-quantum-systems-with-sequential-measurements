{
 "cells": [
  {
   "cell_type": "code",
   "execution_count": 20,
   "metadata": {},
   "outputs": [],
   "source": [
    "import cvxpy as cp\n",
    "import numpy as np\n",
    "from basis_generator import generate_basis, sel_seq"
   ]
  },
  {
   "cell_type": "code",
   "execution_count": 16,
   "metadata": {},
   "outputs": [],
   "source": [
    "dim = 2\n",
    "num_obs = 5\n",
    "len_seq = 2\n",
    "out_max = 1\n",
    "basis_size= 242\n",
    "seq_method=\"sel_sequences\"\n",
    "\n",
    "KCBS_events = [((0, 1), (0, 1)),\n",
    "            ((0, 1), (1, 2)),\n",
    "            ((0, 1), (2, 3)),\n",
    "            ((0, 1), (3, 4)),\n",
    "            ((0, 1), (4, 0)),\n",
    "            ((1, 0), (0, 1)),\n",
    "            ((1, 0), (1, 2)),\n",
    "            ((1, 0), (2, 3)),\n",
    "            ((1, 0), (3, 4)),\n",
    "            ((1, 0), (4, 0)),\n",
    "                ]"
   ]
  },
  {
   "cell_type": "code",
   "execution_count": 17,
   "metadata": {},
   "outputs": [],
   "source": [
    "X_basis, rank = generate_basis(dim = dim,\n",
    "                num_obs = num_obs,\n",
    "                len_seq = len_seq,\n",
    "                out_max = out_max,\n",
    "                batch_size = basis_size,\n",
    "                seq_method= seq_method,\n",
    "                sel_sequences = [len_seq],\n",
    "                remove_last_out = False)"
   ]
  },
  {
   "cell_type": "code",
   "execution_count": 22,
   "metadata": {},
   "outputs": [],
   "source": [
    "alpha = cp.Variable((len(X_basis), 1))\n",
    "X = cp.Variable(X_basis[0].shape, symmetric=True)\n",
    "\n",
    "constraints = [X >> 0]\n",
    "constraints += [\n",
    "    X == sum([alpha[i]*X_basis[i] for i in range(len(X_basis))])\n",
    "]\n",
    "constraints += [\n",
    "    cp.trace(X) == num_obs**len_seq\n",
    "]"
   ]
  },
  {
   "cell_type": "code",
   "execution_count": 23,
   "metadata": {},
   "outputs": [],
   "source": [
    "sequences = sel_seq(num_obs = num_obs,\n",
    "                len_seq = len_seq,\n",
    "                out_max = out_max,\n",
    "                remove_last_out = False)\n",
    "\n",
    "C = np.zeros(X_basis[0].shape)\n",
    "for i, seq_row in enumerate(sequences):\n",
    "    if seq_row in KCBS_events:\n",
    "        C[i,i] = 1\n",
    "        \n",
    "prob = cp.Problem(cp.Maximize(cp.trace(C@X)),\n",
    "                  constraints)"
   ]
  },
  {
   "cell_type": "code",
   "execution_count": 24,
   "metadata": {},
   "outputs": [
    {
     "name": "stdout",
     "output_type": "stream",
     "text": [
      "optimal\n",
      "The optimal value is 4.522542433953802\n"
     ]
    }
   ],
   "source": [
    "prob.solve(solver=cp.MOSEK, verbose=False)\n",
    "\n",
    "print(prob.status)\n",
    "print(\"The optimal value is\", prob.value)"
   ]
  }
 ],
 "metadata": {
  "kernelspec": {
   "display_name": "Python 3",
   "language": "python",
   "name": "python3"
  },
  "language_info": {
   "codemirror_mode": {
    "name": "ipython",
    "version": 3
   },
   "file_extension": ".py",
   "mimetype": "text/x-python",
   "name": "python",
   "nbconvert_exporter": "python",
   "pygments_lexer": "ipython3",
   "version": "3.7.3"
  }
 },
 "nbformat": 4,
 "nbformat_minor": 2
}
