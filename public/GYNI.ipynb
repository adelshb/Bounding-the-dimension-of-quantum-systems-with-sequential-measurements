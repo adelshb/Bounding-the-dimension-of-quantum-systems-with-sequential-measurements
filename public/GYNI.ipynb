{
 "cells": [
  {
   "cell_type": "code",
   "execution_count": 1,
   "metadata": {},
   "outputs": [],
   "source": [
    "import cvxpy as cp\n",
    "import numpy as np\n",
    "\n",
    "from basis_generator import basis_gs, sel_seq"
   ]
  },
  {
   "cell_type": "markdown",
   "metadata": {},
   "source": [
    "# Guess Your Neighboors Input parameters"
   ]
  },
  {
   "cell_type": "code",
   "execution_count": 2,
   "metadata": {},
   "outputs": [],
   "source": [
    "dim = 2\n",
    "num_obs = 2\n",
    "len_seq = 3\n",
    "out_max = 1\n",
    "basis_size= 15\n",
    "seq_method=\"sel_sequences\"\n",
    "\n",
    "GYN_events = [((0, 0, 0), (0, 0, 0)),\n",
    "            ((1, 1, 0), (0, 1, 1)),\n",
    "            ((0, 1, 1), (1, 0, 1)),\n",
    "            ((1, 0, 1), (1, 1, 0)),]"
   ]
  },
  {
   "cell_type": "markdown",
   "metadata": {},
   "source": [
    "# Optimization with the First Level of the Hierarchy"
   ]
  },
  {
   "cell_type": "code",
   "execution_count": 3,
   "metadata": {
    "scrolled": false
   },
   "outputs": [
    {
     "name": "stdout",
     "output_type": "stream",
     "text": [
      "Nul matrix found\n",
      "Number of LI moment matrices:  52\n"
     ]
    }
   ],
   "source": [
    "X_basis = basis_gs(dim = 2,\n",
    "            num_obs = 3,\n",
    "            len_seq = 2,\n",
    "            num_out = 2,\n",
    "            prec = 1e-15,\n",
    "            stop = 10000)"
   ]
  },
  {
   "cell_type": "code",
   "execution_count": 4,
   "metadata": {},
   "outputs": [],
   "source": [
    "alpha = cp.Variable((len(X_basis), 1))\n",
    "X = cp.Variable(X_basis[0].shape, symmetric=True)\n",
    "\n",
    "constraints = [X >> 0]\n",
    "constraints += [\n",
    "    X == sum([alpha[i]*X_basis[i] for i in range(len(X_basis))])\n",
    "]\n",
    "constraints += [\n",
    "    cp.trace(X) == num_obs**len_seq\n",
    "]"
   ]
  },
  {
   "cell_type": "code",
   "execution_count": 5,
   "metadata": {},
   "outputs": [],
   "source": [
    "sequences = sel_seq(num_obs = 3,\n",
    "                len_seq = 2,\n",
    "                num_out = 2,\n",
    "                remove_last_out = False)\n",
    "\n",
    "C = np.zeros(X_basis[0].shape)\n",
    "for i, seq_row in enumerate(sequences):\n",
    "    if seq_row in GYN_events:\n",
    "        C[i,i] = 1\n",
    "        \n",
    "prob = cp.Problem(cp.Maximize(cp.trace(C@X)),\n",
    "                  constraints)"
   ]
  },
  {
   "cell_type": "code",
   "execution_count": 6,
   "metadata": {
    "scrolled": false
   },
   "outputs": [
    {
     "name": "stdout",
     "output_type": "stream",
     "text": [
      "optimal\n",
      "The optimal value is -0.0\n"
     ]
    }
   ],
   "source": [
    "prob.solve(solver=cp.MOSEK, verbose=False)\n",
    "\n",
    "print(prob.status)\n",
    "print(\"The optimal value is\", prob.value)"
   ]
  }
 ],
 "metadata": {
  "kernelspec": {
   "display_name": "Python 3",
   "language": "python",
   "name": "python3"
  },
  "language_info": {
   "codemirror_mode": {
    "name": "ipython",
    "version": 3
   },
   "file_extension": ".py",
   "mimetype": "text/x-python",
   "name": "python",
   "nbconvert_exporter": "python",
   "pygments_lexer": "ipython3",
   "version": "3.6.7"
  }
 },
 "nbformat": 4,
 "nbformat_minor": 2
}
