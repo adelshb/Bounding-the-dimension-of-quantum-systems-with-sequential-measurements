{
 "cells": [
  {
   "cell_type": "code",
   "execution_count": 1,
   "metadata": {},
   "outputs": [],
   "source": [
    "import cvxpy as cp\n",
    "import numpy as np\n",
    "\n",
    "from basis_generator import basis_gs, sel_seq"
   ]
  },
  {
   "cell_type": "markdown",
   "metadata": {},
   "source": [
    "# Guess Your Neighboors Input parameters"
   ]
  },
  {
   "cell_type": "code",
   "execution_count": 2,
   "metadata": {},
   "outputs": [],
   "source": [
    "dim = 2\n",
    "num_obs = 2\n",
    "len_seq = 3\n",
    "out_max = 1\n",
    "basis_size= 15\n",
    "seq_method=\"sel_sequences\"\n",
    "\n",
    "GYN_events = [((0, 0, 0), (0, 0, 0)),\n",
    "            ((1, 1, 0), (0, 1, 1)),\n",
    "            ((0, 1, 1), (1, 0, 1)),\n",
    "            ((1, 0, 1), (1, 1, 0)),]"
   ]
  },
  {
   "cell_type": "markdown",
   "metadata": {},
   "source": [
    "# Optimization with Unrestricted Dimension"
   ]
  },
  {
   "cell_type": "code",
   "execution_count": 10,
   "metadata": {},
   "outputs": [],
   "source": [
    "def comp_seq(ind1,ind2,seq):\n",
    "    \n",
    "    S = [list(seq[ind2][0][::-1]+seq[ind1][0]),list(seq[ind2][1][::-1]+seq[ind1][1])]\n",
    "\n",
    "    ind = 1\n",
    "    while ind < len(S[0]):\n",
    "        if S[0][ind-1] == S[0][ind] and S[1][ind-1] == S[1][ind]:\n",
    "            del S[0][ind]\n",
    "            del S[1][ind]\n",
    "        elif S[0][ind-1] != S[0][ind] and S[1][ind-1] == S[1][ind]:\n",
    "            return []\n",
    "        else:\n",
    "            ind+=1\n",
    "    return S"
   ]
  },
  {
   "cell_type": "code",
   "execution_count": 11,
   "metadata": {},
   "outputs": [],
   "source": [
    "seq = sel_seq(num_obs = 3,\n",
    "                len_seq = 2,\n",
    "                num_out = 2,\n",
    "                remove_last_out = False)\n",
    "n = len(seq)"
   ]
  },
  {
   "cell_type": "code",
   "execution_count": 20,
   "metadata": {},
   "outputs": [],
   "source": [
    "M = cp.Variable((n,n),symmetric=True)\n",
    "\n",
    "constraints = [M >> 0]\n",
    "# constraints += [\n",
    "#     cp.trace(X) == num_obs**len_seq\n",
    "# ]"
   ]
  },
  {
   "cell_type": "code",
   "execution_count": 16,
   "metadata": {
    "scrolled": true
   },
   "outputs": [],
   "source": [
    "for ind11 in range(len(seq)):\n",
    "    for ind12 in range(ind11,len(seq)):\n",
    "        for ind21 in range(len(seq)):\n",
    "            for ind22 in range(ind21,len(seq)):\n",
    "                #print([ind11,ind12],[ind21,ind22])\n",
    "                S1 = comp_seq(ind11,ind12,seq)\n",
    "                S2 = comp_seq(ind21,ind22,seq)\n",
    "                if S1 == S2:\n",
    "                    constraints += [M[ind11,ind12] == M[ind21,ind22]]\n",
    "                    constraints += [M[ind12,ind11] == M[ind22,ind21]]\n",
    "                elif len(S1)==0:\n",
    "                    constraints += [M[ind11,ind12] == 0]\n",
    "                    constraints += [M[ind12,ind11] == 0]\n",
    "                elif len(S2)==0:\n",
    "                    constraints += [M[ind21,ind22] == 0]\n",
    "                    constraints += [M[ind22,ind21] == 0]"
   ]
  },
  {
   "cell_type": "code",
   "execution_count": 18,
   "metadata": {},
   "outputs": [],
   "source": [
    "C = np.zeros((n,n))\n",
    "for i, seq_row in enumerate(sequences):\n",
    "    if seq_row in GYN_events:\n",
    "        C[i,i] = 1\n",
    "        \n",
    "prob = cp.Problem(cp.Maximize(cp.trace(C@M)),\n",
    "                  constraints)"
   ]
  },
  {
   "cell_type": "code",
   "execution_count": 21,
   "metadata": {},
   "outputs": [
    {
     "name": "stdout",
     "output_type": "stream",
     "text": [
      "\n",
      "\n",
      "Problem\n",
      "  Name                   :                 \n",
      "  Objective sense        : min             \n",
      "  Type                   : CONIC (conic optimization problem)\n",
      "  Constraints            : 930836          \n",
      "  Cones                  : 0               \n",
      "  Scalar variables       : 1296            \n",
      "  Matrix variables       : 1               \n",
      "  Integer variables      : 0               \n",
      "\n",
      "Optimizer started.\n",
      "Problem\n",
      "  Name                   :                 \n",
      "  Objective sense        : min             \n",
      "  Type                   : CONIC (conic optimization problem)\n",
      "  Constraints            : 930836          \n",
      "  Cones                  : 0               \n",
      "  Scalar variables       : 1296            \n",
      "  Matrix variables       : 1               \n",
      "  Integer variables      : 0               \n",
      "\n",
      "Optimizer  - threads                : 12              \n",
      "Optimizer  - solved problem         : the primal      \n",
      "Optimizer  - Constraints            : 1296\n",
      "Optimizer  - Cones                  : 1\n",
      "Optimizer  - Scalar variables       : 523               conic                  : 523             \n",
      "Optimizer  - Semi-definite variables: 1                 scalarized             : 666             \n",
      "Factor     - setup time             : 0.06              dense det. time        : 0.00            \n",
      "Factor     - ML order time          : 0.03              GP order time          : 0.00            \n",
      "Factor     - nonzeros before factor : 8.41e+05          after factor           : 8.41e+05        \n",
      "Factor     - dense dim.             : 2                 flops                  : 7.32e+08        \n",
      "ITE PFEAS    DFEAS    GFEAS    PRSTATUS   POBJ              DOBJ              MU       TIME  \n",
      "0   1.0e+00  1.0e+00  1.0e+00  0.00e+00   0.000000000e+00   0.000000000e+00   1.0e+00  0.77  \n",
      "1   2.4e-01  2.4e-01  1.2e-01  1.00e+00   0.000000000e+00   0.000000000e+00   2.4e-01  0.85  \n",
      "2   2.1e-02  2.1e-02  3.2e-03  1.00e+00   0.000000000e+00   0.000000000e+00   2.1e-02  0.90  \n",
      "3   3.2e-05  3.2e-05  1.9e-07  1.00e+00   0.000000000e+00   0.000000000e+00   3.2e-05  0.95  \n",
      "4   2.4e-09  2.4e-09  1.4e-11  1.00e+00   0.000000000e+00   0.000000000e+00   2.4e-09  1.00  \n",
      "Optimizer terminated. Time: 1.17    \n",
      "\n",
      "\n",
      "Interior-point solution summary\n",
      "  Problem status  : PRIMAL_AND_DUAL_FEASIBLE\n",
      "  Solution status : OPTIMAL\n",
      "  Primal.  obj: 0.0000000000e+00    nrm: 2e+00    Viol.  con: 3e-09    var: 0e+00    barvar: 0e+00  \n",
      "  Dual.    obj: 0.0000000000e+00    nrm: 1e+00    Viol.  con: 0e+00    var: 3e-21    barvar: 3e-09  \n",
      "optimal\n",
      "The optimal value is -0.0\n"
     ]
    }
   ],
   "source": [
    "prob.solve(solver=cp.MOSEK, verbose=True)\n",
    "\n",
    "print(prob.status)\n",
    "print(\"The optimal value is\", prob.value)"
   ]
  },
  {
   "cell_type": "markdown",
   "metadata": {},
   "source": [
    "# Optimization with the First Level of the Hierarchy"
   ]
  },
  {
   "cell_type": "code",
   "execution_count": 3,
   "metadata": {
    "scrolled": false
   },
   "outputs": [
    {
     "name": "stdout",
     "output_type": "stream",
     "text": [
      "Nul matrix found\n",
      "Number of LI moment matrices:  52\n"
     ]
    }
   ],
   "source": [
    "X_basis = basis_gs(dim = 2,\n",
    "            num_obs = 3,\n",
    "            len_seq = 2,\n",
    "            num_out = 2,\n",
    "            prec = 1e-15,\n",
    "            stop = 10000)"
   ]
  },
  {
   "cell_type": "code",
   "execution_count": 4,
   "metadata": {},
   "outputs": [],
   "source": [
    "alpha = cp.Variable((len(X_basis), 1))\n",
    "X = cp.Variable(X_basis[0].shape, symmetric=True)\n",
    "\n",
    "constraints = [X >> 0]\n",
    "constraints += [\n",
    "    X == sum([alpha[i]*X_basis[i] for i in range(len(X_basis))])\n",
    "]\n",
    "constraints += [\n",
    "    cp.trace(X) == num_obs**len_seq\n",
    "]"
   ]
  },
  {
   "cell_type": "code",
   "execution_count": 5,
   "metadata": {},
   "outputs": [],
   "source": [
    "sequences = sel_seq(num_obs = 3,\n",
    "                len_seq = 2,\n",
    "                num_out = 2,\n",
    "                remove_last_out = False)\n",
    "\n",
    "C = np.zeros(X_basis[0].shape)\n",
    "for i, seq_row in enumerate(sequences):\n",
    "    if seq_row in GYN_events:\n",
    "        C[i,i] = 1\n",
    "        \n",
    "prob = cp.Problem(cp.Maximize(cp.trace(C@X)),\n",
    "                  constraints)"
   ]
  },
  {
   "cell_type": "code",
   "execution_count": 6,
   "metadata": {
    "scrolled": false
   },
   "outputs": [
    {
     "name": "stdout",
     "output_type": "stream",
     "text": [
      "optimal\n",
      "The optimal value is -0.0\n"
     ]
    }
   ],
   "source": [
    "prob.solve(solver=cp.MOSEK, verbose=False)\n",
    "\n",
    "print(prob.status)\n",
    "print(\"The optimal value is\", prob.value)"
   ]
  }
 ],
 "metadata": {
  "kernelspec": {
   "display_name": "Python 3",
   "language": "python",
   "name": "python3"
  },
  "language_info": {
   "codemirror_mode": {
    "name": "ipython",
    "version": 3
   },
   "file_extension": ".py",
   "mimetype": "text/x-python",
   "name": "python",
   "nbconvert_exporter": "python",
   "pygments_lexer": "ipython3",
   "version": "3.6.7"
  }
 },
 "nbformat": 4,
 "nbformat_minor": 2
}
