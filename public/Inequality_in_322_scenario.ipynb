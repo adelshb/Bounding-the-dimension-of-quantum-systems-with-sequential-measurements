{
 "cells": [
  {
   "cell_type": "code",
   "execution_count": 127,
   "metadata": {},
   "outputs": [],
   "source": [
    "import numpy as np\n",
    "import cvxpy as cp\n",
    "from basis_generator import rand_moment\n",
    "import json"
   ]
  },
  {
   "cell_type": "code",
   "execution_count": 30,
   "metadata": {},
   "outputs": [],
   "source": [
    "def single_behavior_visibility(X, X_basis):\n",
    "    \n",
    "    eta = cp.Variable((1, 1))\n",
    "    alpha = cp.Variable((len(X_basis), 1))\n",
    "    beta = cp.Variable((len(X_basis), 1))\n",
    "    M = cp.Variable(X_basis[0].shape)\n",
    "    N = cp.Variable(X_basis[0].shape)\n",
    "\n",
    "    constraints = [N >> 0]\n",
    "    constraints += [N == sum([beta[j]*X_basis[j] for j in range(len(X_basis))])]\n",
    "    constraints += [N[0,0] == 1 - eta]\n",
    "\n",
    "    for i in range(1,len(X)):\n",
    "        constraints += [\n",
    "            eta*X[i,i] + N[i,i] == M[i,i]\n",
    "        ]\n",
    "\n",
    "    constraints += [M >> 0]\n",
    "    constraints += [M == sum([alpha[j]*X_basis[j] for j in range(len(X_basis))])]\n",
    "    constraints += [M[0,0] == 1]\n",
    "\n",
    "    prob = cp.Problem(cp.Maximize(eta),\n",
    "                      constraints)\n",
    "    prob.solve(solver=cp.MOSEK, verbose=False)\n",
    "    \n",
    "    coef = []\n",
    "    for __ in range(3,len(constraints)-3):\n",
    "        coef.append(np.real(constraints[__].dual_value[0][0]))\n",
    "    \n",
    "    return eta.value[0][0], coef"
   ]
  },
  {
   "cell_type": "code",
   "execution_count": 42,
   "metadata": {},
   "outputs": [],
   "source": [
    "def NPA_bound(coef,X_basis):\n",
    "    beta = cp.Variable((len(X_basis), 1))\n",
    "    N = cp.Variable(X_basis[0].shape)\n",
    "\n",
    "    constraints = [N >> 0]\n",
    "    constraints += [N == sum([beta[j]*X_basis[j] for j in range(len(X_basis))])]\n",
    "    constraints += [N[0,0] == 1]\n",
    "\n",
    "    prob = cp.Problem(cp.Minimize(\n",
    "            sum([N[j+1,j+1]*coef[j] for j in range(len(coef))])\n",
    "            ),constraints)\n",
    "    prob.solve(solver=cp.MOSEK, verbose=False)\n",
    "    return prob.value"
   ]
  },
  {
   "cell_type": "code",
   "execution_count": 27,
   "metadata": {},
   "outputs": [],
   "source": [
    "# Import basis\n",
    "basis_filename = \"data_basis/2-dim-3-num_obs-2-len_seq-2-num_out.npy\"\n",
    "X_basis = np.load(basis_filename)"
   ]
  },
  {
   "cell_type": "code",
   "execution_count": 125,
   "metadata": {},
   "outputs": [],
   "source": [
    "dimX = 3\n",
    "dim_base = 2\n",
    "num_obs = 3\n",
    "len_seq = 2\n",
    "num_out = 2\n",
    "remove_last_out = True"
   ]
  },
  {
   "cell_type": "code",
   "execution_count": 32,
   "metadata": {},
   "outputs": [],
   "source": [
    "X, rho, P = rand_moment(dimX, num_obs, len_seq, num_out, [len_seq], remove_last_out)\n",
    "eta, coef = single_behavior_visibility(X, X_basis)"
   ]
  },
  {
   "cell_type": "code",
   "execution_count": 133,
   "metadata": {},
   "outputs": [
    {
     "name": "stdout",
     "output_type": "stream",
     "text": [
      "0.8417785173037825\n"
     ]
    }
   ],
   "source": [
    "for __ in range(100):\n",
    "    X_t, rho_t, P_t = rand_moment(dimX, num_obs, len_seq, num_out, [len_seq], remove_last_out)\n",
    "    eta_t, coef_t = single_behavior_visibility(X_t, X_basis)\n",
    "    if eta_t < eta:\n",
    "        eta = eta_t\n",
    "        coef = coef_t\n",
    "        X = X_t\n",
    "        rho = rho_t\n",
    "        P = P_t\n",
    "\n",
    "print(eta)"
   ]
  },
  {
   "cell_type": "code",
   "execution_count": 134,
   "metadata": {},
   "outputs": [
    {
     "name": "stdout",
     "output_type": "stream",
     "text": [
      "-0.6372680915558379\n"
     ]
    }
   ],
   "source": [
    "Q = np.real(np.diag(X)[1:] @ coef)\n",
    "print(Q)"
   ]
  },
  {
   "cell_type": "code",
   "execution_count": 135,
   "metadata": {},
   "outputs": [
    {
     "name": "stdout",
     "output_type": "stream",
     "text": [
      "-0.47904664250464357\n"
     ]
    }
   ],
   "source": [
    "C = NPA_bound(coef,X_basis)\n",
    "print(C)"
   ]
  },
  {
   "cell_type": "code",
   "execution_count": 136,
   "metadata": {},
   "outputs": [],
   "source": [
    "data = {}\n",
    "# data[\"Moment Matrix\"] = X\n",
    "# data[\"Quantum State\"] = rho\n",
    "# data[\"Measurements\"] = P\n",
    "data[\"Inequality\"] = coef\n",
    "data[\"Classical Bound\"] = C\n",
    "data[\"Quantum Bound\"] = Q\n",
    "\n",
    "data[\"num of observables\"] = num_obs\n",
    "data[\"maximum length of sequences\"] = len_seq\n",
    "data[\"num of outcomes\"] = num_out\n",
    "data[\"dimension behavior\"] = dimX\n",
    "data[\"dimension base\"] = dim_base\n",
    "\n",
    "NAME = '{}-num_obs-{}-len_seq-{}-out_max-{}-dim_behavior-{}-dim_base'.format(num_obs, len_seq, num_out, dimX, dim_base)\n",
    "\n",
    "with open(\"dimension_witness/\" + NAME + '.json', 'w') as fp:\n",
    "    json.dump(data, fp, indent=2)\n",
    "    \n",
    "np.save(\"dimension_witness/\" + NAME + \"-moment_matrix\", X)\n",
    "np.save(\"dimension_witness/\" + NAME + \"-state\", rho)\n",
    "np.save(\"dimension_witness/\" + NAME + \"-measurements\", P)"
   ]
  },
  {
   "cell_type": "code",
   "execution_count": null,
   "metadata": {},
   "outputs": [],
   "source": []
  }
 ],
 "metadata": {
  "kernelspec": {
   "display_name": "Python 3",
   "language": "python",
   "name": "python3"
  },
  "language_info": {
   "codemirror_mode": {
    "name": "ipython",
    "version": 3
   },
   "file_extension": ".py",
   "mimetype": "text/x-python",
   "name": "python",
   "nbconvert_exporter": "python",
   "pygments_lexer": "ipython3",
   "version": "3.6.7"
  }
 },
 "nbformat": 4,
 "nbformat_minor": 2
}
