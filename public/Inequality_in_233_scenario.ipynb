{
 "cells": [
  {
   "cell_type": "code",
   "execution_count": 1,
   "metadata": {},
   "outputs": [],
   "source": [
    "import numpy as np\n",
    "import cvxpy as cp\n",
    "from basis_generator import rand_moment"
   ]
  },
  {
   "cell_type": "code",
   "execution_count": 2,
   "metadata": {},
   "outputs": [],
   "source": [
    "def single_behavior_visibility(X, X_basis):\n",
    "    \n",
    "    eta = cp.Variable((1, 1))\n",
    "    alpha = cp.Variable((len(X_basis), 1))\n",
    "    beta = cp.Variable((len(X_basis), 1))\n",
    "    M = cp.Variable(X_basis[0].shape)\n",
    "    N = cp.Variable(X_basis[0].shape)\n",
    "\n",
    "    constraints = [N >> 0]\n",
    "    constraints += [N == sum([beta[j]*X_basis[j] for j in range(len(X_basis))])]\n",
    "    constraints += [N[0,0] == 1 - eta]\n",
    "\n",
    "    for i in range(1,len(X)):\n",
    "        constraints += [\n",
    "            eta*X[i,i] + N[i,i] == M[i,i]\n",
    "        ]\n",
    "\n",
    "    constraints += [M >> 0]\n",
    "    constraints += [M == sum([alpha[j]*X_basis[j] for j in range(len(X_basis))])]\n",
    "    constraints += [M[0,0] == 1]\n",
    "\n",
    "    prob = cp.Problem(cp.Maximize(eta),\n",
    "                      constraints)\n",
    "    prob.solve(solver=cp.MOSEK, verbose=False)\n",
    "    \n",
    "    coef = []\n",
    "    for __ in range(3,len(constraints)-3):\n",
    "        coef.append(np.real(constraints[__].dual_value[0][0]))\n",
    "    \n",
    "    return eta.value[0][0], coef"
   ]
  },
  {
   "cell_type": "code",
   "execution_count": 3,
   "metadata": {},
   "outputs": [],
   "source": [
    "def NPA_bound(coef,X_basis):\n",
    "    beta = cp.Variable((len(X_basis), 1))\n",
    "    N = cp.Variable(X_basis[0].shape)\n",
    "\n",
    "    constraints = [N >> 0]\n",
    "    constraints += [N == sum([beta[j]*X_basis[j] for j in range(len(X_basis))])]\n",
    "    constraints += [N[0,0] == 1]\n",
    "\n",
    "    prob = cp.Problem(cp.Minimize(\n",
    "            sum([N[j+1,j+1]*coef[j] for j in range(len(coef))])\n",
    "            ),constraints)\n",
    "    prob.solve(solver=cp.MOSEK, verbose=False)\n",
    "    return prob.value"
   ]
  },
  {
   "cell_type": "code",
   "execution_count": 4,
   "metadata": {},
   "outputs": [],
   "source": [
    "# Import basis\n",
    "basis_filename = \"data_basis/3-dim-2-num_obs-3-len_seq-3-num_out.npy\"\n",
    "X_basis = np.load(basis_filename)"
   ]
  },
  {
   "cell_type": "code",
   "execution_count": 5,
   "metadata": {},
   "outputs": [],
   "source": [
    "dimX = 4\n",
    "num_obs = 2\n",
    "len_seq = 3\n",
    "num_out = 3\n",
    "remove_last_out = True"
   ]
  },
  {
   "cell_type": "code",
   "execution_count": 6,
   "metadata": {},
   "outputs": [],
   "source": [
    "X, rho, P = rand_moment(dimX, num_obs, len_seq, num_out, [len_seq], remove_last_out)\n",
    "eta, coef = single_behavior_visibility(X, X_basis)"
   ]
  },
  {
   "cell_type": "code",
   "execution_count": null,
   "metadata": {},
   "outputs": [],
   "source": [
    "for __ in range(5):\n",
    "    X_t, rho_t, P_t = rand_moment(dimX, num_obs, len_seq, num_out, [len_seq], remove_last_out)\n",
    "    eta_t, coef_t = single_behavior_visibility(X_t, X_basis)\n",
    "    if eta_t < eta:\n",
    "        eta = eta_t\n",
    "        coef = coef_t\n",
    "        X = X_t\n",
    "        rho = rho_t\n",
    "        P = P_t\n",
    "\n",
    "print(eta)"
   ]
  },
  {
   "cell_type": "code",
   "execution_count": null,
   "metadata": {},
   "outputs": [],
   "source": [
    "np.real(np.diag(X)[1:] @ coef)"
   ]
  },
  {
   "cell_type": "code",
   "execution_count": null,
   "metadata": {},
   "outputs": [],
   "source": [
    "NPA_bound(coef,X_basis)"
   ]
  },
  {
   "cell_type": "code",
   "execution_count": null,
   "metadata": {},
   "outputs": [],
   "source": []
  }
 ],
 "metadata": {
  "kernelspec": {
   "display_name": "Python 3",
   "language": "python",
   "name": "python3"
  },
  "language_info": {
   "codemirror_mode": {
    "name": "ipython",
    "version": 3
   },
   "file_extension": ".py",
   "mimetype": "text/x-python",
   "name": "python",
   "nbconvert_exporter": "python",
   "pygments_lexer": "ipython3",
   "version": "3.6.7"
  }
 },
 "nbformat": 4,
 "nbformat_minor": 2
}
