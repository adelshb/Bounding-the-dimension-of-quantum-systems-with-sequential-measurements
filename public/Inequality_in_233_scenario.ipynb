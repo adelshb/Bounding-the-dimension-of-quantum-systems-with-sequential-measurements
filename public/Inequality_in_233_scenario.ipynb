{
 "cells": [
  {
   "cell_type": "code",
   "execution_count": 36,
   "metadata": {},
   "outputs": [],
   "source": [
    "import numpy as np\n",
    "import cvxpy as cp\n",
    "from basis_generator import rand_moment, sel_seq, proj_mul\n",
    "import json"
   ]
  },
  {
   "cell_type": "code",
   "execution_count": 2,
   "metadata": {},
   "outputs": [],
   "source": [
    "def single_behavior_visibility(X, X_basis):\n",
    "    \n",
    "    eta = cp.Variable((1, 1))\n",
    "    alpha = cp.Variable((len(X_basis), 1))\n",
    "    beta = cp.Variable((len(X_basis), 1))\n",
    "    M = cp.Variable(X_basis[0].shape)\n",
    "    N = cp.Variable(X_basis[0].shape)\n",
    "\n",
    "    constraints = [N >> 0]\n",
    "    constraints += [N == sum([beta[j]*X_basis[j] for j in range(len(X_basis))])]\n",
    "    constraints += [N[0,0] == 1 - eta]\n",
    "\n",
    "    for i in range(1,len(X)):\n",
    "        constraints += [\n",
    "            eta*X[i,i] + N[i,i] == M[i,i]\n",
    "        ]\n",
    "\n",
    "    constraints += [M >> 0]\n",
    "    constraints += [M == sum([alpha[j]*X_basis[j] for j in range(len(X_basis))])]\n",
    "    constraints += [M[0,0] == 1]\n",
    "\n",
    "    prob = cp.Problem(cp.Maximize(eta),\n",
    "                      constraints)\n",
    "    prob.solve(solver=cp.MOSEK, verbose=False)\n",
    "    \n",
    "    coef = []\n",
    "    for __ in range(3,len(constraints)-3):\n",
    "        coef.append(np.real(constraints[__].dual_value[0][0]))\n",
    "    \n",
    "    return eta.value[0][0], coef"
   ]
  },
  {
   "cell_type": "code",
   "execution_count": 43,
   "metadata": {},
   "outputs": [],
   "source": [
    "def NPA_bound(coef,X_basis):\n",
    "    beta = cp.Variable((len(X_basis), 1))\n",
    "    N = cp.Variable(X_basis[0].shape)\n",
    "\n",
    "    constraints = [N >> 0]\n",
    "    constraints += [N == sum([beta[j]*X_basis[j] for j in range(len(X_basis))])]\n",
    "    constraints += [N[0,0] == 1]\n",
    "\n",
    "    prob = cp.Problem(cp.Minimize(\n",
    "            sum([N[j+1,j+1]*coef[j] for j in range(len(coef))])\n",
    "            ),constraints)\n",
    "    prob.solve(solver=cp.MOSEK, verbose=False)\n",
    "    return prob.value"
   ]
  },
  {
   "cell_type": "code",
   "execution_count": 45,
   "metadata": {},
   "outputs": [
    {
     "ename": "FileNotFoundError",
     "evalue": "[Errno 2] No such file or directory: 'data_basis/3-dim-2-num_obs-3-len_seq-3-num_out.npy'",
     "output_type": "error",
     "traceback": [
      "\u001b[0;31m---------------------------------------------------------------------------\u001b[0m",
      "\u001b[0;31mFileNotFoundError\u001b[0m                         Traceback (most recent call last)",
      "\u001b[0;32m<ipython-input-45-ac1f8631c521>\u001b[0m in \u001b[0;36m<module>\u001b[0;34m\u001b[0m\n\u001b[1;32m      1\u001b[0m \u001b[0;31m# Import basis\u001b[0m\u001b[0;34m\u001b[0m\u001b[0;34m\u001b[0m\u001b[0;34m\u001b[0m\u001b[0m\n\u001b[1;32m      2\u001b[0m \u001b[0mbasis_filename\u001b[0m \u001b[0;34m=\u001b[0m \u001b[0;34m\"data_basis/3-dim-2-num_obs-3-len_seq-3-num_out.npy\"\u001b[0m\u001b[0;34m\u001b[0m\u001b[0;34m\u001b[0m\u001b[0m\n\u001b[0;32m----> 3\u001b[0;31m \u001b[0mX_basis\u001b[0m \u001b[0;34m=\u001b[0m \u001b[0mnp\u001b[0m\u001b[0;34m.\u001b[0m\u001b[0mload\u001b[0m\u001b[0;34m(\u001b[0m\u001b[0mbasis_filename\u001b[0m\u001b[0;34m)\u001b[0m\u001b[0;34m\u001b[0m\u001b[0;34m\u001b[0m\u001b[0m\n\u001b[0m",
      "\u001b[0;32m/usr/local/lib/python3.7/site-packages/numpy/lib/npyio.py\u001b[0m in \u001b[0;36mload\u001b[0;34m(file, mmap_mode, allow_pickle, fix_imports, encoding)\u001b[0m\n\u001b[1;32m    426\u001b[0m         \u001b[0mown_fid\u001b[0m \u001b[0;34m=\u001b[0m \u001b[0;32mFalse\u001b[0m\u001b[0;34m\u001b[0m\u001b[0;34m\u001b[0m\u001b[0m\n\u001b[1;32m    427\u001b[0m     \u001b[0;32melse\u001b[0m\u001b[0;34m:\u001b[0m\u001b[0;34m\u001b[0m\u001b[0;34m\u001b[0m\u001b[0m\n\u001b[0;32m--> 428\u001b[0;31m         \u001b[0mfid\u001b[0m \u001b[0;34m=\u001b[0m \u001b[0mopen\u001b[0m\u001b[0;34m(\u001b[0m\u001b[0mos_fspath\u001b[0m\u001b[0;34m(\u001b[0m\u001b[0mfile\u001b[0m\u001b[0;34m)\u001b[0m\u001b[0;34m,\u001b[0m \u001b[0;34m\"rb\"\u001b[0m\u001b[0;34m)\u001b[0m\u001b[0;34m\u001b[0m\u001b[0;34m\u001b[0m\u001b[0m\n\u001b[0m\u001b[1;32m    429\u001b[0m         \u001b[0mown_fid\u001b[0m \u001b[0;34m=\u001b[0m \u001b[0;32mTrue\u001b[0m\u001b[0;34m\u001b[0m\u001b[0;34m\u001b[0m\u001b[0m\n\u001b[1;32m    430\u001b[0m \u001b[0;34m\u001b[0m\u001b[0m\n",
      "\u001b[0;31mFileNotFoundError\u001b[0m: [Errno 2] No such file or directory: 'data_basis/3-dim-2-num_obs-3-len_seq-3-num_out.npy'"
     ]
    }
   ],
   "source": [
    "# Import basis\n",
    "basis_filename = \"data_basis/3-dim-2-num_obs-3-len_seq-3-num_out.npy\"\n",
    "X_basis = np.load(basis_filename)"
   ]
  },
  {
   "cell_type": "code",
   "execution_count": 2,
   "metadata": {},
   "outputs": [],
   "source": [
    "dimX = 4\n",
    "dim_base = 3\n",
    "num_obs = 2\n",
    "len_seq = 3\n",
    "num_out = 3\n",
    "remove_last_out = True"
   ]
  },
  {
   "cell_type": "code",
   "execution_count": 6,
   "metadata": {},
   "outputs": [],
   "source": [
    "X, rho, P = rand_moment(dimX, num_obs, len_seq, num_out, [len_seq], remove_last_out)\n",
    "eta, coef = single_behavior_visibility(X, X_basis)"
   ]
  },
  {
   "cell_type": "code",
   "execution_count": 80,
   "metadata": {},
   "outputs": [
    {
     "name": "stdout",
     "output_type": "stream",
     "text": [
      "0.8201995428547537\n"
     ]
    }
   ],
   "source": [
    "for __ in range(5):\n",
    "    X_t, rho_t, P_t = rand_moment(dimX, num_obs, len_seq, num_out, [len_seq], remove_last_out)\n",
    "    eta_t, coef_t = single_behavior_visibility(X_t, X_basis)\n",
    "    if eta_t < eta:\n",
    "        eta = eta_t\n",
    "        coef = coef_t\n",
    "        X = X_t\n",
    "        rho = rho_t\n",
    "        P = P_t\n",
    "\n",
    "print(eta)"
   ]
  },
  {
   "cell_type": "code",
   "execution_count": 81,
   "metadata": {},
   "outputs": [
    {
     "name": "stdout",
     "output_type": "stream",
     "text": [
      "-0.7488070170722095\n"
     ]
    }
   ],
   "source": [
    "Q = np.real(np.diag(X)[1:] @ coef)\n",
    "print(Q)"
   ]
  },
  {
   "cell_type": "code",
   "execution_count": 82,
   "metadata": {},
   "outputs": [
    {
     "name": "stdout",
     "output_type": "stream",
     "text": [
      "-0.5690064392946877\n"
     ]
    }
   ],
   "source": [
    "C = NPA_bound(coef,X_basis)\n",
    "print(C)"
   ]
  },
  {
   "cell_type": "code",
   "execution_count": 83,
   "metadata": {},
   "outputs": [],
   "source": [
    "data = {}\n",
    "# data[\"Moment Matrix\"] = X\n",
    "# data[\"Quantum State\"] = rho\n",
    "# data[\"Measurements\"] = P\n",
    "data[\"Inequality\"] = coef\n",
    "data[\"Classical Bound\"] = C\n",
    "data[\"Quantum Bound\"] = Q\n",
    "\n",
    "data[\"num of observables\"] = num_obs\n",
    "data[\"maximum length of sequences\"] = len_seq\n",
    "data[\"num of outcomes\"] = num_out\n",
    "data[\"dimension behavior\"] = dimX\n",
    "data[\"dimension base\"] = dim_base\n",
    "\n",
    "NAME = '{}-num_obs-{}-len_seq-{}-out_max-{}-dim_behavior-{}-dim_base'.format(num_obs, len_seq, num_out, dimX, dim_base)\n",
    "\n",
    "with open(\"dimension_witness/\" + NAME + '.json', 'w') as fp:\n",
    "    json.dump(data, fp, indent=2)\n",
    "    \n",
    "np.save(\"dimension_witness/\" + NAME + \"-moment_matrix\", X)\n",
    "np.save(\"dimension_witness/\" + NAME + \"-state\", rho)\n",
    "np.save(\"dimension_witness/\" + NAME + \"-measurements\", P)"
   ]
  },
  {
   "cell_type": "code",
   "execution_count": 1,
   "metadata": {},
   "outputs": [
    {
     "ename": "NameError",
     "evalue": "name 'NAME' is not defined",
     "output_type": "error",
     "traceback": [
      "\u001b[0;31m---------------------------------------------------------------------------\u001b[0m",
      "\u001b[0;31mNameError\u001b[0m                                 Traceback (most recent call last)",
      "\u001b[0;32m<ipython-input-1-0942bd44bb31>\u001b[0m in \u001b[0;36m<module>\u001b[0;34m\u001b[0m\n\u001b[0;32m----> 1\u001b[0;31m \u001b[0;34m\"dimension_witness/\"\u001b[0m \u001b[0;34m+\u001b[0m \u001b[0mNAME\u001b[0m \u001b[0;34m+\u001b[0m \u001b[0;34m\"-state\"\u001b[0m\u001b[0;34m\u001b[0m\u001b[0;34m\u001b[0m\u001b[0m\n\u001b[0m",
      "\u001b[0;31mNameError\u001b[0m: name 'NAME' is not defined"
     ]
    }
   ],
   "source": [
    "\"dimension_witness/\" + NAME + \"-state\""
   ]
  },
  {
   "cell_type": "markdown",
   "metadata": {},
   "source": [
    "## Verification"
   ]
  },
  {
   "cell_type": "code",
   "execution_count": 3,
   "metadata": {},
   "outputs": [],
   "source": [
    "NAME = '{}-num_obs-{}-len_seq-{}-out_max-{}-dim_behavior-{}-dim_base'.format(num_obs, len_seq, num_out, dimX, dim_base)"
   ]
  },
  {
   "cell_type": "code",
   "execution_count": 11,
   "metadata": {},
   "outputs": [
    {
     "name": "stdout",
     "output_type": "stream",
     "text": [
      "(4, 4)\n"
     ]
    },
    {
     "data": {
      "text/plain": [
       "(0.9999999999999994+0j)"
      ]
     },
     "execution_count": 11,
     "metadata": {},
     "output_type": "execute_result"
    }
   ],
   "source": [
    "#### Loading and testing state\n",
    "rho = np.load(\"dimension_witness/\" + NAME + \"-state.npy\")\n",
    "print(rho.shape)\n",
    "np.trace(rho @ rho)"
   ]
  },
  {
   "cell_type": "code",
   "execution_count": 13,
   "metadata": {},
   "outputs": [
    {
     "name": "stdout",
     "output_type": "stream",
     "text": [
      "(2, 3, 4, 4)\n"
     ]
    },
    {
     "data": {
      "text/plain": [
       "(0.9999999999999994+0j)"
      ]
     },
     "execution_count": 13,
     "metadata": {},
     "output_type": "execute_result"
    }
   ],
   "source": [
    "#### Loading measurements\n",
    "P = np.load(\"dimension_witness/\" + NAME + \"-measurements.npy\")\n",
    "print(P.shape)\n",
    "np.trace(rho @ rho)"
   ]
  },
  {
   "cell_type": "code",
   "execution_count": 27,
   "metadata": {},
   "outputs": [
    {
     "data": {
      "text/plain": [
       "array([[ 1.00000000e+00+0.00000000e+00j, -9.02056208e-17+6.93889390e-18j,\n",
       "         4.85722573e-17+5.55111512e-17j, -1.11022302e-16+1.66533454e-16j],\n",
       "       [-9.02056208e-17-6.93889390e-18j,  1.00000000e+00+0.00000000e+00j,\n",
       "         3.46944695e-18-2.51534904e-16j, -8.32667268e-17+6.93889390e-18j],\n",
       "       [ 4.85722573e-17-5.55111512e-17j,  3.46944695e-18+2.51534904e-16j,\n",
       "         1.00000000e+00+0.00000000e+00j, -6.93889390e-17-1.38777878e-17j],\n",
       "       [-1.11022302e-16-1.66533454e-16j, -8.32667268e-17-6.93889390e-18j,\n",
       "        -6.93889390e-17+1.38777878e-17j,  1.00000000e+00+0.00000000e+00j]])"
      ]
     },
     "execution_count": 27,
     "metadata": {},
     "output_type": "execute_result"
    }
   ],
   "source": [
    "#### Completness\n",
    "P[0][0]+P[0][1]+P[0][2]"
   ]
  },
  {
   "cell_type": "code",
   "execution_count": 28,
   "metadata": {},
   "outputs": [
    {
     "data": {
      "text/plain": [
       "array([[ 1.00000000e+00+0.00000000e+00j,  4.02455846e-16+6.93889390e-17j,\n",
       "         0.00000000e+00-1.66533454e-16j,  5.55111512e-17-6.24500451e-17j],\n",
       "       [ 4.02455846e-16-6.93889390e-17j,  1.00000000e+00+0.00000000e+00j,\n",
       "         8.32667268e-17-5.55111512e-17j, -7.28583860e-17+1.11022302e-16j],\n",
       "       [ 0.00000000e+00+1.66533454e-16j,  8.32667268e-17+5.55111512e-17j,\n",
       "         1.00000000e+00+0.00000000e+00j,  5.55111512e-17-2.77555756e-17j],\n",
       "       [ 5.55111512e-17+6.24500451e-17j, -7.28583860e-17-1.11022302e-16j,\n",
       "         5.55111512e-17+2.77555756e-17j,  1.00000000e+00+0.00000000e+00j]])"
      ]
     },
     "execution_count": 28,
     "metadata": {},
     "output_type": "execute_result"
    }
   ],
   "source": [
    "#### Completness\n",
    "P[1][0]+P[1][1]+P[1][2]"
   ]
  },
  {
   "cell_type": "code",
   "execution_count": 29,
   "metadata": {},
   "outputs": [
    {
     "data": {
      "text/plain": [
       "array([[ 0.55914889+0.j        ,  0.10841001-0.02721568j,\n",
       "        -0.15703023-0.00731945j, -0.19230265-0.41510915j],\n",
       "       [ 0.10841001+0.02721568j,  0.02234364+0.j        ,\n",
       "        -0.03008938-0.00906232j, -0.01707963-0.08984304j],\n",
       "       [-0.15703023+0.00731945j, -0.03008938+0.00906232j,\n",
       "         0.04419586+0.j        ,  0.0594398 +0.1140611j ],\n",
       "       [-0.19230265+0.41510915j, -0.01707963+0.08984304j,\n",
       "         0.0594398 -0.1140611j ,  0.3743116 +0.j        ]])"
      ]
     },
     "execution_count": 29,
     "metadata": {},
     "output_type": "execute_result"
    }
   ],
   "source": [
    "P[0][0]"
   ]
  },
  {
   "cell_type": "code",
   "execution_count": 30,
   "metadata": {},
   "outputs": [
    {
     "data": {
      "text/plain": [
       "array([[ 0.55914889+0.j        ,  0.10841001-0.02721568j,\n",
       "        -0.15703023-0.00731945j, -0.19230265-0.41510915j],\n",
       "       [ 0.10841001+0.02721568j,  0.02234364+0.j        ,\n",
       "        -0.03008938-0.00906232j, -0.01707963-0.08984304j],\n",
       "       [-0.15703023+0.00731945j, -0.03008938+0.00906232j,\n",
       "         0.04419586+0.j        ,  0.0594398 +0.1140611j ],\n",
       "       [-0.19230265+0.41510915j, -0.01707963+0.08984304j,\n",
       "         0.0594398 -0.1140611j ,  0.3743116 +0.j        ]])"
      ]
     },
     "execution_count": 30,
     "metadata": {},
     "output_type": "execute_result"
    }
   ],
   "source": [
    "P[0][0]@P[0][0]"
   ]
  },
  {
   "cell_type": "code",
   "execution_count": 34,
   "metadata": {},
   "outputs": [],
   "source": [
    "sequences = sel_seq(num_obs, len_seq, num_out, remove_last_out=True)"
   ]
  },
  {
   "cell_type": "code",
   "execution_count": 37,
   "metadata": {},
   "outputs": [],
   "source": [
    "X = np.eye(len(sequences)+1, dtype=complex)\n",
    "for i, seq_row in enumerate(sequences):\n",
    "    Pi = proj_mul([P[k] for k in seq_row[1]], seq_row[0])\n",
    "    #X[0,i+1] = np.trace(Pi @ np.eye(dim) @ rho)\n",
    "    #X[i+1,0] = np.conjugate(X[0,i+1])#np.trace(np.eye(dim) @ np.conjugate(Pi.T) @ rho)\n",
    "    for j, seq_col in enumerate(sequences):\n",
    "        if i==j:\n",
    "            Pj= proj_mul([P[k] for k in seq_col[1]], seq_col[0])\n",
    "            X[i+1,j+1] = np.trace(Pi @ np.conjugate(Pj.T) @ rho)"
   ]
  },
  {
   "cell_type": "code",
   "execution_count": 40,
   "metadata": {},
   "outputs": [],
   "source": [
    "with open(\"dimension_witness/\" + NAME + '.json') as json_file:\n",
    "     ineq = json.load(json_file)"
   ]
  },
  {
   "cell_type": "code",
   "execution_count": 41,
   "metadata": {},
   "outputs": [
    {
     "data": {
      "text/plain": [
       "-0.7488070170722096"
      ]
     },
     "execution_count": 41,
     "metadata": {},
     "output_type": "execute_result"
    }
   ],
   "source": [
    "np.real(np.diag(X)[1:] @ ineq[\"Inequality\"])"
   ]
  },
  {
   "cell_type": "code",
   "execution_count": 44,
   "metadata": {},
   "outputs": [
    {
     "ename": "NameError",
     "evalue": "name 'X_basis' is not defined",
     "output_type": "error",
     "traceback": [
      "\u001b[0;31m---------------------------------------------------------------------------\u001b[0m",
      "\u001b[0;31mNameError\u001b[0m                                 Traceback (most recent call last)",
      "\u001b[0;32m<ipython-input-44-28f05d58bc62>\u001b[0m in \u001b[0;36m<module>\u001b[0;34m\u001b[0m\n\u001b[0;32m----> 1\u001b[0;31m \u001b[0mNPA_bound\u001b[0m\u001b[0;34m(\u001b[0m\u001b[0mineq\u001b[0m\u001b[0;34m[\u001b[0m\u001b[0;34m\"Inequality\"\u001b[0m\u001b[0;34m]\u001b[0m\u001b[0;34m,\u001b[0m\u001b[0mX_basis\u001b[0m\u001b[0;34m)\u001b[0m\u001b[0;34m\u001b[0m\u001b[0;34m\u001b[0m\u001b[0m\n\u001b[0m",
      "\u001b[0;31mNameError\u001b[0m: name 'X_basis' is not defined"
     ]
    }
   ],
   "source": [
    "NPA_bound(ineq[\"Inequality\"],X_basis)"
   ]
  },
  {
   "cell_type": "code",
   "execution_count": null,
   "metadata": {},
   "outputs": [],
   "source": []
  }
 ],
 "metadata": {
  "kernelspec": {
   "display_name": "Python 3",
   "language": "python",
   "name": "python3"
  },
  "language_info": {
   "codemirror_mode": {
    "name": "ipython",
    "version": 3
   },
   "file_extension": ".py",
   "mimetype": "text/x-python",
   "name": "python",
   "nbconvert_exporter": "python",
   "pygments_lexer": "ipython3",
   "version": "3.7.6"
  }
 },
 "nbformat": 4,
 "nbformat_minor": 2
}
