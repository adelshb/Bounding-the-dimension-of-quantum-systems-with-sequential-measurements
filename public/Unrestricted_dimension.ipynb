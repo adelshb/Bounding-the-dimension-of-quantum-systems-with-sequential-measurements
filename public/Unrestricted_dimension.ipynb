{
 "cells": [
  {
   "cell_type": "code",
   "execution_count": 2,
   "metadata": {},
   "outputs": [],
   "source": [
    "from basis_generator import sel_seq"
   ]
  },
  {
   "cell_type": "raw",
   "metadata": {},
   "source": [
    "if same measurement but different outcome Mrs = 0\n",
    "compute compressed sequenc\n",
    "if same compressed sequence Mr1s1 = Mr2s2"
   ]
  },
  {
   "cell_type": "code",
   "execution_count": 58,
   "metadata": {},
   "outputs": [],
   "source": [
    "def comp_seq(ind1,ind2,seq):\n",
    "    \n",
    "    S = [list(seq[ind2][0][::-1]+seq[ind1][0]),list(seq[ind2][1][::-1]+seq[ind1][1])]\n",
    "\n",
    "    ind = 1\n",
    "    while ind < len(S[0]):\n",
    "        if S[0][ind-1] == S[0][ind] and S[1][ind-1] == S[1][ind]:\n",
    "            del S[0][ind]\n",
    "            del S[1][ind]\n",
    "        elif S[0][ind-1] != S[0][ind] and S[1][ind-1] == S[1][ind]:\n",
    "            return []\n",
    "        else:\n",
    "            ind+=1\n",
    "    return S"
   ]
  },
  {
   "cell_type": "code",
   "execution_count": 59,
   "metadata": {},
   "outputs": [
    {
     "data": {
      "text/plain": [
       "[((0, 0), (0, 0)), ((0, 0), (0, 1)), ((0, 0), (1, 0)), ((0, 0), (1, 1))]"
      ]
     },
     "execution_count": 59,
     "metadata": {},
     "output_type": "execute_result"
    }
   ],
   "source": [
    "seq = sel_seq(num_obs=2,\n",
    "        len_seq=2,\n",
    "        num_out=2,\n",
    "        remove_last_out=True)\n",
    "\n",
    "seq"
   ]
  },
  {
   "cell_type": "code",
   "execution_count": 57,
   "metadata": {},
   "outputs": [],
   "source": [
    "for ind11 in range(len(seq)):\n",
    "    for ind12 in range(len(seq)):\n",
    "        for ind21 in range(len(seq)):\n",
    "            for ind22 in range(len(seq)):\n",
    "                S1 = comp_seq(ind11,ind12,seq)\n",
    "                S2 = comp_seq(ind21,ind22,seq)\n",
    "                if S1 == S2:\n",
    "                    constraints += [M[ind11,ind12] == M[ind21,ind22]]\n",
    "                elif len(S1)==0:\n",
    "                    constraints += [M[ind11,ind12] == 0]\n",
    "                elif len(S2)==0:\n",
    "                    constraints += [M[ind21,ind22] == 0]"
   ]
  },
  {
   "cell_type": "code",
   "execution_count": 52,
   "metadata": {},
   "outputs": [
    {
     "name": "stdout",
     "output_type": "stream",
     "text": [
      "0 0\n",
      "[[0, 0, 0, 0], [0, 0, 0, 0]]\n",
      "[[0], [0]]\n",
      "0 1\n",
      "[[0, 0, 0, 0], [1, 0, 0, 0]]\n",
      "[[0, 0], [1, 0]]\n",
      "0 2\n",
      "[[0, 0, 0, 0], [0, 1, 0, 0]]\n",
      "[[0, 0, 0], [0, 1, 0]]\n",
      "0 3\n",
      "[[0, 0, 0, 0], [1, 1, 0, 0]]\n",
      "[[0, 0], [1, 0]]\n",
      "1 1\n",
      "[[0, 0, 0, 0], [1, 0, 0, 1]]\n",
      "[[0, 0, 0], [1, 0, 1]]\n",
      "1 2\n",
      "[[0, 0, 0, 0], [0, 1, 0, 1]]\n",
      "[[0, 0, 0, 0], [0, 1, 0, 1]]\n",
      "1 3\n",
      "[[0, 0, 0, 0], [1, 1, 0, 1]]\n",
      "[[0, 0, 0], [1, 0, 1]]\n",
      "2 2\n",
      "[[0, 0, 0, 0], [0, 1, 1, 0]]\n",
      "[[0, 0, 0], [0, 1, 0]]\n",
      "2 3\n",
      "[[0, 0, 0, 0], [1, 1, 1, 0]]\n",
      "[[0, 0], [1, 0]]\n",
      "3 3\n",
      "[[0, 0, 0, 0], [1, 1, 1, 1]]\n",
      "[[0], [1]]\n"
     ]
    }
   ],
   "source": [
    "for ind1,s1 in enumerate(seq):\n",
    "    for ind2 in range(ind1,len(seq)):\n",
    "        print(ind1,ind2)\n",
    "        S = [list(seq[ind2][0][::-1]+seq[ind1][0]),list(seq[ind2][1][::-1]+seq[ind1][1])]\n",
    "        #S = [list(seq[ind2][0][::-1]+seq[ind1][0]),list(seq[ind2][1][::-1]+seq[ind1][1])]\n",
    "        print(S)\n",
    "        ind = 1\n",
    "        while ind < len(S[0]):\n",
    "            if S[0][ind-1] == S[0][ind] and S[1][ind-1] == S[1][ind]:\n",
    "                del S[0][ind]\n",
    "                del S[1][ind]\n",
    "            else:\n",
    "                ind+=1\n",
    "        print(S)"
   ]
  },
  {
   "cell_type": "code",
   "execution_count": 35,
   "metadata": {},
   "outputs": [
    {
     "name": "stdout",
     "output_type": "stream",
     "text": [
      "0 0\n",
      "((0, 0, 0, 0), (0, 0, 0, 0))\n",
      "(0, 0)\n",
      "1\n"
     ]
    },
    {
     "ename": "TypeError",
     "evalue": "'int' object is not subscriptable",
     "output_type": "error",
     "traceback": [
      "\u001b[0;31m---------------------------------------------------------------------------\u001b[0m",
      "\u001b[0;31mTypeError\u001b[0m                                 Traceback (most recent call last)",
      "\u001b[0;32m<ipython-input-35-c2cb4c2806c0>\u001b[0m in \u001b[0;36m<module>\u001b[0;34m\u001b[0m\n\u001b[1;32m      8\u001b[0m         \u001b[0;32mfor\u001b[0m \u001b[0mind\u001b[0m \u001b[0;32min\u001b[0m \u001b[0mrange\u001b[0m\u001b[0;34m(\u001b[0m\u001b[0;36m1\u001b[0m\u001b[0;34m,\u001b[0m\u001b[0mlen\u001b[0m\u001b[0;34m(\u001b[0m\u001b[0mS\u001b[0m\u001b[0;34m[\u001b[0m\u001b[0;36m0\u001b[0m\u001b[0;34m]\u001b[0m\u001b[0;34m)\u001b[0m\u001b[0;34m)\u001b[0m\u001b[0;34m:\u001b[0m\u001b[0;34m\u001b[0m\u001b[0;34m\u001b[0m\u001b[0m\n\u001b[1;32m      9\u001b[0m             \u001b[0mprint\u001b[0m\u001b[0;34m(\u001b[0m\u001b[0mind\u001b[0m\u001b[0;34m)\u001b[0m\u001b[0;34m\u001b[0m\u001b[0;34m\u001b[0m\u001b[0m\n\u001b[0;32m---> 10\u001b[0;31m             \u001b[0mS_comp\u001b[0m\u001b[0;34m[\u001b[0m\u001b[0;36m0\u001b[0m\u001b[0;34m]\u001b[0m\u001b[0;34m[\u001b[0m\u001b[0mind\u001b[0m\u001b[0;34m-\u001b[0m\u001b[0;36m1\u001b[0m\u001b[0;34m]\u001b[0m\u001b[0;34m\u001b[0m\u001b[0;34m\u001b[0m\u001b[0m\n\u001b[0m\u001b[1;32m     11\u001b[0m             \u001b[0mS_comp\u001b[0m\u001b[0;34m[\u001b[0m\u001b[0;36m0\u001b[0m\u001b[0;34m]\u001b[0m\u001b[0;34m[\u001b[0m\u001b[0mind\u001b[0m\u001b[0;34m]\u001b[0m\u001b[0;34m\u001b[0m\u001b[0;34m\u001b[0m\u001b[0m\n\u001b[1;32m     12\u001b[0m             \u001b[0mS_comp\u001b[0m\u001b[0;34m[\u001b[0m\u001b[0;36m1\u001b[0m\u001b[0;34m]\u001b[0m\u001b[0;34m[\u001b[0m\u001b[0mind\u001b[0m\u001b[0;34m-\u001b[0m\u001b[0;36m1\u001b[0m\u001b[0;34m]\u001b[0m\u001b[0;34m\u001b[0m\u001b[0;34m\u001b[0m\u001b[0m\n",
      "\u001b[0;31mTypeError\u001b[0m: 'int' object is not subscriptable"
     ]
    }
   ],
   "source": [
    "for ind1,s1 in enumerate(seq):\n",
    "    for ind2 in range(ind1,len(seq)):\n",
    "        print(ind1,ind2)\n",
    "        S = (seq[ind2][0][::-1]+seq[ind1][0],seq[ind2][1][::-1]+seq[ind1][1])\n",
    "        print(S)\n",
    "        S_comp = ((S[0][0]),(S[1][0]))\n",
    "        print(S_comp)\n",
    "        for ind in range(1,len(S[0])):\n",
    "            print(ind)\n",
    "            S_comp[0][ind-1]\n",
    "            S_comp[0][ind]\n",
    "            S_comp[1][ind-1] \n",
    "            S_comp[0][ind]\n",
    "            if S_comp[0][ind-1] == S_comp[0][ind] and S_comp[1][ind-1] == S_comp[0][ind]:\n",
    "                S_comp = (S_comp[0]+S_comp[0][ind],S_comp[1]+S_comp[0][ind])\n",
    "        print(S_comp)"
   ]
  },
  {
   "cell_type": "code",
   "execution_count": 29,
   "metadata": {},
   "outputs": [
    {
     "name": "stdout",
     "output_type": "stream",
     "text": [
      "2\n",
      "3\n",
      "4\n"
     ]
    }
   ],
   "source": [
    "for ind in range(2,5):\n",
    "    print(ind)"
   ]
  },
  {
   "cell_type": "code",
   "execution_count": 39,
   "metadata": {},
   "outputs": [
    {
     "data": {
      "text/plain": [
       "[0, 0]"
      ]
     },
     "execution_count": 39,
     "metadata": {},
     "output_type": "execute_result"
    }
   ],
   "source": [
    "[(0),(0)]"
   ]
  },
  {
   "cell_type": "code",
   "execution_count": null,
   "metadata": {},
   "outputs": [],
   "source": []
  }
 ],
 "metadata": {
  "kernelspec": {
   "display_name": "Python 3",
   "language": "python",
   "name": "python3"
  },
  "language_info": {
   "codemirror_mode": {
    "name": "ipython",
    "version": 3
   },
   "file_extension": ".py",
   "mimetype": "text/x-python",
   "name": "python",
   "nbconvert_exporter": "python",
   "pygments_lexer": "ipython3",
   "version": "3.6.7"
  }
 },
 "nbformat": 4,
 "nbformat_minor": 2
}
