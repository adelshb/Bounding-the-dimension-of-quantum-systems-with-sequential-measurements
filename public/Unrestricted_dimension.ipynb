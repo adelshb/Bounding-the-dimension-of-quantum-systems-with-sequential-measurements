{
 "cells": [
  {
   "cell_type": "code",
   "execution_count": 1,
   "metadata": {},
   "outputs": [],
   "source": [
    "from basis_generator import sel_seq"
   ]
  },
  {
   "cell_type": "raw",
   "metadata": {},
   "source": [
    "if same measurement but different outcome Mrs = 0\n",
    "compute compressed sequenc\n",
    "if same compressed sequence Mr1s1 = Mr2s2"
   ]
  },
  {
   "cell_type": "code",
   "execution_count": 5,
   "metadata": {},
   "outputs": [
    {
     "data": {
      "text/plain": [
       "[((0, 0), (0, 0)),\n",
       " ((0, 0), (0, 1)),\n",
       " ((0, 0), (0, 2)),\n",
       " ((0, 0), (1, 0)),\n",
       " ((0, 0), (1, 1)),\n",
       " ((0, 0), (1, 2)),\n",
       " ((0, 0), (2, 0)),\n",
       " ((0, 0), (2, 1)),\n",
       " ((0, 0), (2, 2))]"
      ]
     },
     "execution_count": 5,
     "metadata": {},
     "output_type": "execute_result"
    }
   ],
   "source": [
    "s = sel_seq(num_obs=3,\n",
    "        len_seq=2,\n",
    "        num_out=2,\n",
    "        remove_last_out=True)\n",
    "\n",
    "s"
   ]
  },
  {
   "cell_type": "code",
   "execution_count": null,
   "metadata": {},
   "outputs": [],
   "source": [
    "for s1 in s:\n",
    "    for s2 in s"
   ]
  }
 ],
 "metadata": {
  "kernelspec": {
   "display_name": "Python 3",
   "language": "python",
   "name": "python3"
  },
  "language_info": {
   "codemirror_mode": {
    "name": "ipython",
    "version": 3
   },
   "file_extension": ".py",
   "mimetype": "text/x-python",
   "name": "python",
   "nbconvert_exporter": "python",
   "pygments_lexer": "ipython3",
   "version": "3.7.6"
  }
 },
 "nbformat": 4,
 "nbformat_minor": 2
}
