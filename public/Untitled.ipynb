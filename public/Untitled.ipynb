{
 "cells": [
  {
   "cell_type": "code",
   "execution_count": 5,
   "metadata": {},
   "outputs": [],
   "source": [
    "import numpy as np\n",
    "\n",
    "from basis_generator import rand_moment\n",
    "from save_visibility import single_behavior_visibility\n",
    "\n",
    "import multiprocessing"
   ]
  },
  {
   "cell_type": "code",
   "execution_count": 6,
   "metadata": {},
   "outputs": [],
   "source": [
    "# Import basis\n",
    "basis_filename = \"data_basis/3-dim-2-num_obs-3-len_seq-3-num_out.npy\"\n",
    "X_basis = np.load(basis_filename)"
   ]
  },
  {
   "cell_type": "code",
   "execution_count": 7,
   "metadata": {},
   "outputs": [],
   "source": [
    "# meta data to generate a random moment matrix\n",
    "\n",
    "dimX = 4\n",
    "num_obs = 2\n",
    "len_seq = 3\n",
    "num_out = 3\n",
    "#level = 1\n",
    "remove_last_out = True"
   ]
  },
  {
   "cell_type": "code",
   "execution_count": 13,
   "metadata": {},
   "outputs": [
    {
     "data": {
      "text/plain": [
       "0.9481364854355416"
      ]
     },
     "execution_count": 13,
     "metadata": {},
     "output_type": "execute_result"
    }
   ],
   "source": [
    "eta_min = 1\n",
    "\n",
    "for __ in range(10):\n",
    "    X = rand_moment(dimX, num_obs, len_seq, num_out, [len_seq], remove_last_out)\n",
    "    eta = single_behavior_visibility(X, X_basis)\n",
    "    if eta < eta_min:\n",
    "        eta_min = eta\n",
    "        Xmin = X\n",
    "        \n",
    "eta_min"
   ]
  },
  {
   "cell_type": "code",
   "execution_count": null,
   "metadata": {},
   "outputs": [],
   "source": []
  }
 ],
 "metadata": {
  "kernelspec": {
   "display_name": "Python 3",
   "language": "python",
   "name": "python3"
  },
  "language_info": {
   "codemirror_mode": {
    "name": "ipython",
    "version": 3
   },
   "file_extension": ".py",
   "mimetype": "text/x-python",
   "name": "python",
   "nbconvert_exporter": "python",
   "pygments_lexer": "ipython3",
   "version": "3.6.7"
  }
 },
 "nbformat": 4,
 "nbformat_minor": 2
}
