{
 "cells": [
  {
   "cell_type": "code",
   "execution_count": 1,
   "metadata": {},
   "outputs": [],
   "source": [
    "# Import packages.\n",
    "import cvxpy as cp\n",
    "import numpy as np\n",
    "from basis_generator import generate_basis, sel_seq"
   ]
  },
  {
   "cell_type": "code",
   "execution_count": 2,
   "metadata": {},
   "outputs": [],
   "source": [
    "dim = 2\n",
    "num_obs = 3\n",
    "len_seq = 2\n",
    "out_max = 1\n",
    "basis_size= 50\n",
    "seq_method=\"sel_sequences\""
   ]
  },
  {
   "cell_type": "code",
   "execution_count": 3,
   "metadata": {},
   "outputs": [],
   "source": [
    "LG_events = [((0, 0), (0, 1)),\n",
    "            ((1, 1), (0, 1)),\n",
    "            ((0, 0), (1, 2)),\n",
    "            ((1, 1), (1, 2)),\n",
    "            ((0, 1), (0, 2)),\n",
    "            ((1, 0), (0, 2)),\n",
    "                ]\n",
    "\n",
    "sequences = sel_seq(num_obs = num_obs,\n",
    "                len_seq = len_seq,\n",
    "                out_max = out_max,\n",
    "                remove_last_out = False)\n",
    "\n",
    "n = len(sequences)"
   ]
  },
  {
   "cell_type": "code",
   "execution_count": 4,
   "metadata": {},
   "outputs": [],
   "source": [
    "X_basis, rank = generate_basis(dim = dim,\n",
    "                num_obs = num_obs,\n",
    "                len_seq = len_seq,\n",
    "                out_max = out_max,\n",
    "                batch_size = basis_size,\n",
    "                seq_method= seq_method,\n",
    "                sel_sequences = [len_seq],\n",
    "                remove_last_out = False)\n"
   ]
  },
  {
   "cell_type": "code",
   "execution_count": 5,
   "metadata": {},
   "outputs": [
    {
     "name": "stdout",
     "output_type": "stream",
     "text": [
      "optimal\n",
      "The optimal value is 1.4999999999918119\n"
     ]
    }
   ],
   "source": [
    "alpha = cp.Variable((len(X_basis), 1))\n",
    "\n",
    "C = np.zeros((n,n))\n",
    "for i, seq_row in enumerate(sequences):\n",
    "    if seq_row in LG_events:\n",
    "        C[i,i] = 1\n",
    "\n",
    "X = cp.Variable((n,n), symmetric=True)\n",
    "constraints = [X >> 0]\n",
    "constraints += [\n",
    "    X == sum([alpha[i]*X_basis[i] for i in range(len(X_basis))])\n",
    "]\n",
    "constraints += [\n",
    "    cp.trace(X) == num_obs**len_seq\n",
    "]\n",
    "\n",
    "prob = cp.Problem(cp.Maximize(2*cp.trace(C@X)-3),\n",
    "                  constraints)\n",
    "\n",
    "prob.solve(solver=cp.MOSEK, verbose=False)\n",
    "\n",
    "print(prob.status)\n",
    "print(\"The optimal value is\", prob.value)"
   ]
  }
 ],
 "metadata": {
  "kernelspec": {
   "display_name": "Python 3",
   "language": "python",
   "name": "python3"
  },
  "language_info": {
   "codemirror_mode": {
    "name": "ipython",
    "version": 3
   },
   "file_extension": ".py",
   "mimetype": "text/x-python",
   "name": "python",
   "nbconvert_exporter": "python",
   "pygments_lexer": "ipython3",
   "version": "3.7.3"
  }
 },
 "nbformat": 4,
 "nbformat_minor": 2
}
