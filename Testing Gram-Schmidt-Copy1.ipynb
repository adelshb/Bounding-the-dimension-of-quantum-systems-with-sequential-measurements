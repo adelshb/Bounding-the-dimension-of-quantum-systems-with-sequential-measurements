{
 "cells": [
  {
   "cell_type": "code",
   "execution_count": 1,
   "metadata": {},
   "outputs": [],
   "source": [
    "import numpy as np\n",
    "from numpy import linalg as LA\n",
    "import multiprocessing\n",
    "\n",
    "from public.basis_generator_v2 import rand_moment\n",
    "#import cvxpy as cp"
   ]
  },
  {
   "cell_type": "code",
   "execution_count": 2,
   "metadata": {},
   "outputs": [],
   "source": [
    "# Parameters\n",
    "dim = 3\n",
    "num_obs = 3\n",
    "len_seq = 3\n",
    "num_out = 2\n",
    "batch_size = 200"
   ]
  },
  {
   "cell_type": "code",
   "execution_count": 3,
   "metadata": {},
   "outputs": [
    {
     "name": "stdout",
     "output_type": "stream",
     "text": [
      "Nul matrix found\n",
      "Number of LI moment matrices:  190\n"
     ]
    }
   ],
   "source": [
    "flag = False\n",
    "X_basis = []\n",
    "norm_prec = 0.0000001\n",
    "\n",
    "X = rand_moment(dim, num_obs, len_seq, num_out, \"sel_sequences\", [len_seq], True)\n",
    "\n",
    "X = X/LA.norm(X)\n",
    "X_basis.append(X)\n",
    "\n",
    "while flag==False:\n",
    "\n",
    "    X = rand_moment(dim, num_obs, len_seq, num_out, \"sel_sequences\", [len_seq], True)\n",
    "\n",
    "    for k in range(len(X_basis)):\n",
    "        X -= X_basis[k]*np.sum(X_basis[k]*np.conjugate(X))\n",
    "\n",
    "    if LA.norm(X) < norm_prec:\n",
    "        print(\"Nul matrix found\")\n",
    "        print(\"Number of LI moment matrices: \", len(X_basis))\n",
    "        flag=True\n",
    "    else:\n",
    "        X = X/LA.norm(X)\n",
    "        X_basis.append(X)"
   ]
  },
  {
   "cell_type": "code",
   "execution_count": null,
   "metadata": {},
   "outputs": [],
   "source": []
  }
 ],
 "metadata": {
  "kernelspec": {
   "display_name": "Python 3",
   "language": "python",
   "name": "python3"
  },
  "language_info": {
   "codemirror_mode": {
    "name": "ipython",
    "version": 3
   },
   "file_extension": ".py",
   "mimetype": "text/x-python",
   "name": "python",
   "nbconvert_exporter": "python",
   "pygments_lexer": "ipython3",
   "version": "3.7.6"
  }
 },
 "nbformat": 4,
 "nbformat_minor": 2
}
