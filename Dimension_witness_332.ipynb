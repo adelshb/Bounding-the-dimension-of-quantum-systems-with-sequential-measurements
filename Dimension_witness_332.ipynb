{
 "cells": [
  {
   "cell_type": "code",
   "execution_count": 1,
   "metadata": {},
   "outputs": [],
   "source": [
    "import numpy as np\n",
    "import cvxpy as cp\n",
    "from general_method.basis_generator import rand_moment, generate_basis, sel_seq"
   ]
  },
  {
   "cell_type": "markdown",
   "metadata": {},
   "source": [
    "# Define the Scenario"
   ]
  },
  {
   "cell_type": "code",
   "execution_count": 2,
   "metadata": {},
   "outputs": [],
   "source": [
    "num_obs = 3\n",
    "len_seq = 2\n",
    "out_max = 1\n",
    "seq_method = \"sel_sequences\"\n",
    "remove_last_out = True"
   ]
  },
  {
   "cell_type": "code",
   "execution_count": 3,
   "metadata": {},
   "outputs": [],
   "source": [
    "sequences = sel_seq(n = num_obs,\n",
    "                    r = len_seq,\n",
    "                    out_max = out_max,\n",
    "                    remove_last_out = remove_last_out)"
   ]
  },
  {
   "cell_type": "code",
   "execution_count": 4,
   "metadata": {},
   "outputs": [
    {
     "name": "stdout",
     "output_type": "stream",
     "text": [
      "9\n"
     ]
    },
    {
     "data": {
      "text/plain": [
       "[((0, 0), (0, 0)),\n",
       " ((0, 0), (0, 1)),\n",
       " ((0, 0), (0, 2)),\n",
       " ((0, 0), (1, 0)),\n",
       " ((0, 0), (1, 1)),\n",
       " ((0, 0), (1, 2)),\n",
       " ((0, 0), (2, 0)),\n",
       " ((0, 0), (2, 1)),\n",
       " ((0, 0), (2, 2))]"
      ]
     },
     "execution_count": 4,
     "metadata": {},
     "output_type": "execute_result"
    }
   ],
   "source": [
    "print(len(sequences))\n",
    "sequences"
   ]
  },
  {
   "cell_type": "markdown",
   "metadata": {},
   "source": [
    "# Sampling Q3 "
   ]
  },
  {
   "cell_type": "code",
   "execution_count": 5,
   "metadata": {},
   "outputs": [],
   "source": [
    "dim = 3\n",
    "sel_sequences = [len_seq]"
   ]
  },
  {
   "cell_type": "code",
   "execution_count": 6,
   "metadata": {},
   "outputs": [
    {
     "data": {
      "text/plain": [
       "46"
      ]
     },
     "execution_count": 6,
     "metadata": {},
     "output_type": "execute_result"
    }
   ],
   "source": [
    "batch_size = 100\n",
    "X_basis_3d, rank = generate_basis(dim, \n",
    "                                  num_obs, \n",
    "                                  len_seq, \n",
    "                                  out_max, \n",
    "                                  batch_size, \n",
    "                                  seq_method = seq_method,\n",
    "                                  sel_sequences = sel_sequences,\n",
    "                                  remove_last_out=remove_last_out)\n",
    "\n",
    "rank"
   ]
  },
  {
   "cell_type": "code",
   "execution_count": 7,
   "metadata": {},
   "outputs": [
    {
     "data": {
      "text/plain": [
       "(10, 10)"
      ]
     },
     "execution_count": 7,
     "metadata": {},
     "output_type": "execute_result"
    }
   ],
   "source": [
    "X = rand_moment(dim, num_obs, len_seq, out_max, seq_method, sel_sequences ,remove_last_out=remove_last_out)\n",
    "X.shape"
   ]
  },
  {
   "cell_type": "markdown",
   "metadata": {},
   "source": [
    "# Generate Q2,NPAk set"
   ]
  },
  {
   "cell_type": "code",
   "execution_count": 8,
   "metadata": {},
   "outputs": [
    {
     "data": {
      "text/plain": [
       "100"
      ]
     },
     "execution_count": 8,
     "metadata": {},
     "output_type": "execute_result"
    }
   ],
   "source": [
    "dim = 2\n",
    "level = 1\n",
    "batch_size = 100\n",
    "\n",
    "batch_size"
   ]
  },
  {
   "cell_type": "code",
   "execution_count": 9,
   "metadata": {},
   "outputs": [
    {
     "name": "stdout",
     "output_type": "stream",
     "text": [
      "9\n"
     ]
    },
    {
     "data": {
      "text/plain": [
       "[((0, 0), (0, 0)),\n",
       " ((0, 0), (0, 1)),\n",
       " ((0, 0), (0, 2)),\n",
       " ((0, 0), (1, 0)),\n",
       " ((0, 0), (1, 1)),\n",
       " ((0, 0), (1, 2)),\n",
       " ((0, 0), (2, 0)),\n",
       " ((0, 0), (2, 1)),\n",
       " ((0, 0), (2, 2))]"
      ]
     },
     "execution_count": 9,
     "metadata": {},
     "output_type": "execute_result"
    }
   ],
   "source": [
    "if level > 1:\n",
    "    hierarchy_seq = sequences + sel_seq(n = num_obs,\n",
    "                                    r = len_seq + level -1,\n",
    "                                    out_max = out_max,\n",
    "                                    remove_last_out = remove_last_out)\n",
    "else:\n",
    "    hierarchy_seq = sequences\n",
    "    \n",
    "print(len(hierarchy_seq))\n",
    "hierarchy_seq"
   ]
  },
  {
   "cell_type": "code",
   "execution_count": 10,
   "metadata": {},
   "outputs": [
    {
     "name": "stdout",
     "output_type": "stream",
     "text": [
      "(10, 10)\n"
     ]
    },
    {
     "data": {
      "text/plain": [
       "35"
      ]
     },
     "execution_count": 10,
     "metadata": {},
     "output_type": "execute_result"
    }
   ],
   "source": [
    "X_basis_2d, rank = generate_basis(dim = dim, \n",
    "                                  num_obs = num_obs, \n",
    "                                  len_seq= len_seq + level - 1,\n",
    "                                  out_max = out_max,\n",
    "                                  batch_size = batch_size,\n",
    "                                  seq_method=seq_method,\n",
    "                                  sel_sequences = [len_seq, len_seq + level - 1],\n",
    "                                  remove_last_out=remove_last_out)\n",
    "\n",
    "print(X_basis_2d[0].shape)\n",
    "rank"
   ]
  },
  {
   "cell_type": "code",
   "execution_count": 11,
   "metadata": {},
   "outputs": [],
   "source": [
    "#X_basis_2d = []\n",
    "\n",
    "for i in range(500):\n",
    "    X_basis_2d.append(rand_moment(dim, num_obs, len_seq, out_max, seq_method, [len_seq, len_seq + level - 1], remove_last_out=remove_last_out))"
   ]
  },
  {
   "cell_type": "markdown",
   "metadata": {},
   "source": [
    "# Testing via SDP"
   ]
  },
  {
   "cell_type": "code",
   "execution_count": 12,
   "metadata": {},
   "outputs": [
    {
     "name": "stdout",
     "output_type": "stream",
     "text": [
      "\n",
      "\n",
      "MOSEK warning 500: The license expires in 5 days.\n",
      "MOSEK warning 500: The license expires in 5 days.\n",
      "Problem\n",
      "  Name                   :                 \n",
      "  Objective sense        : min             \n",
      "  Type                   : CONIC (conic optimization problem)\n",
      "  Constraints            : 420             \n",
      "  Cones                  : 0               \n",
      "  Scalar variables       : 601             \n",
      "  Matrix variables       : 1               \n",
      "  Integer variables      : 0               \n",
      "\n",
      "Optimizer started.\n",
      "Problem\n",
      "  Name                   :                 \n",
      "  Objective sense        : min             \n",
      "  Type                   : CONIC (conic optimization problem)\n",
      "  Constraints            : 420             \n",
      "  Cones                  : 0               \n",
      "  Scalar variables       : 601             \n",
      "  Matrix variables       : 1               \n",
      "  Integer variables      : 0               \n",
      "\n",
      "Optimizer  - threads                : 4               \n",
      "Optimizer  - solved problem         : the primal      \n",
      "Optimizer  - Constraints            : 410\n",
      "Optimizer  - Cones                  : 1\n",
      "Optimizer  - Scalar variables       : 602               conic                  : 602             \n",
      "Optimizer  - Semi-definite variables: 1                 scalarized             : 210             \n",
      "Factor     - setup time             : 0.03              dense det. time        : 0.00            \n",
      "Factor     - ML order time          : 0.00              GP order time          : 0.00            \n",
      "Factor     - nonzeros before factor : 8.37e+04          after factor           : 8.43e+04        \n",
      "Factor     - dense dim.             : 0                 flops                  : 9.90e+07        \n",
      "ITE PFEAS    DFEAS    GFEAS    PRSTATUS   POBJ              DOBJ              MU       TIME  \n",
      "0   1.0e+00  1.0e+00  1.0e+00  0.00e+00   0.000000000e+00   0.000000000e+00   1.0e+00  0.08  \n",
      "1   9.3e-02  9.3e-02  1.5e-02  3.24e-01   -7.930381426e-01  -8.667718757e-01  9.3e-02  0.16  \n",
      "2   8.1e-03  8.1e-03  2.1e-04  1.33e+00   -1.017259722e+00  -1.023392995e+00  8.1e-03  0.19  \n",
      "3   7.8e-04  7.8e-04  4.5e-06  1.13e+00   -1.017533606e+00  -1.018107845e+00  7.8e-04  0.21  \n",
      "4   9.3e-05  9.3e-05  2.0e-07  1.02e+00   -1.016237913e+00  -1.016305243e+00  9.3e-05  0.23  \n",
      "5   1.2e-05  1.2e-05  1.1e-08  1.00e+00   -1.016325671e+00  -1.016334424e+00  1.2e-05  0.25  \n",
      "6   1.5e-06  1.5e-06  4.1e-10  9.98e-01   -1.016339890e+00  -1.016340956e+00  1.5e-06  0.26  \n",
      "7   1.1e-07  1.0e-07  4.6e-12  1.00e+00   -1.016339878e+00  -1.016339957e+00  1.0e-07  0.31  \n",
      "8   2.4e-08  7.3e-09  6.2e-14  1.00e+00   -1.016339961e+00  -1.016339966e+00  7.3e-09  0.34  \n",
      "Optimizer terminated. Time: 0.36    \n",
      "\n",
      "\n",
      "Interior-point solution summary\n",
      "  Problem status  : PRIMAL_AND_DUAL_FEASIBLE\n",
      "  Solution status : OPTIMAL\n",
      "  Primal.  obj: -1.0163399606e+00   nrm: 1e+00    Viol.  con: 2e-08    var: 0e+00    barvar: 0e+00  \n",
      "  Dual.    obj: -1.0163399662e+00   nrm: 3e+00    Viol.  con: 0e+00    var: 1e-10    barvar: 6e-09  \n"
     ]
    },
    {
     "data": {
      "text/plain": [
       "1.0163399606367327"
      ]
     },
     "execution_count": 12,
     "metadata": {},
     "output_type": "execute_result"
    }
   ],
   "source": [
    "eta = cp.Variable((1, 1))\n",
    "alpha = cp.Variable((len(X_basis_2d), 1))\n",
    "\n",
    "constraints = [sum([alpha[j]*X_basis_2d[j] for j in range(len(X_basis_2d))]) >> 0]\n",
    "constraints += [sum([alpha[j]*X_basis_2d[j] for j in range(len(X_basis_2d))])[0,0] == 1]\n",
    "for i in range(1,len(X)):\n",
    "    constraints += [\n",
    "        #eta*X[i,i] + (1-eta)*X_basis_2d[0][i,i] == sum([alpha[j]*X_basis_2d[j][i,i] for j in range(len(X_basis_2d))]) \n",
    "        eta*X[i,i] + (1-eta)/2 == sum([alpha[j]*X_basis_2d[j][i,i] for j in range(len(X_basis_2d))]) \n",
    "\n",
    "    ]\n",
    "\n",
    "prob = cp.Problem(cp.Maximize(eta),\n",
    "                  constraints)\n",
    "\n",
    "prob.solve(solver=cp.MOSEK, verbose=True)"
   ]
  },
  {
   "cell_type": "code",
   "execution_count": 13,
   "metadata": {},
   "outputs": [
    {
     "data": {
      "text/plain": [
       "array([[1.        +0.00000000e+00j, 0.78213454+0.00000000e+00j,\n",
       "        0.20940433+4.59498222e-02j, 0.55177645-1.81578872e-01j,\n",
       "        0.20940433-4.59498222e-02j, 0.11267887+0.00000000e+00j,\n",
       "        0.03203802-1.26137299e-01j, 0.55177645+1.81578872e-01j,\n",
       "        0.03203802+1.26137299e-01j, 0.69910983+0.00000000e+00j],\n",
       "       [0.78213454+0.00000000e+00j, 0.78213454+0.00000000e+00j,\n",
       "        0.40789867-1.38777878e-17j, 0.49619719-1.38777878e-17j,\n",
       "        0.20940433+4.59498222e-02j, 0.20940433+4.59498222e-02j,\n",
       "        0.07154625+9.38545908e-02j, 0.55177645-1.81578872e-01j,\n",
       "        0.1109781 -2.21350785e-01j, 0.55177645-1.81578872e-01j],\n",
       "       [0.20940433-4.59498222e-02j, 0.40789867+1.38777878e-17j,\n",
       "        0.40789867+0.00000000e+00j, 0.17123617-1.45244806e-01j,\n",
       "        0.1115878 +2.44858332e-02j, 0.20940433+4.59498222e-02j,\n",
       "        0.07096926+1.55728634e-02j, 0.28350825-8.69906335e-02j,\n",
       "        0.1109781 -2.21350785e-01j, 0.1109781 -2.21350785e-01j],\n",
       "       [0.55177645+1.81578872e-01j, 0.49619719+0.00000000e+00j,\n",
       "        0.17123617+1.45244806e-01j, 0.49619719+0.00000000e+00j,\n",
       "        0.13451836+2.49614126e-02j, 0.07154625+9.38545908e-02j,\n",
       "        0.07154625+9.38545908e-02j, 0.3628545 -1.05106856e-01j,\n",
       "        0.12540741-5.34060763e-02j, 0.55177645-1.81578872e-01j],\n",
       "       [0.20940433+4.59498222e-02j, 0.20940433-4.59498222e-02j,\n",
       "        0.1115878 -2.44858332e-02j, 0.13451836-2.49614126e-02j,\n",
       "        0.06004454-6.93889390e-18j, 0.06004454+0.00000000e+00j,\n",
       "        0.02745631+2.26651641e-02j, 0.13574609-7.65959073e-02j,\n",
       "        0.01707248-6.72162963e-02j, 0.13574609-7.65959073e-02j],\n",
       "       [0.11267887+0.00000000e+00j, 0.20940433-4.59498222e-02j,\n",
       "        0.20940433-4.59498222e-02j, 0.07154625-9.38545908e-02j,\n",
       "        0.06004454+0.00000000e+00j, 0.11267887+0.00000000e+00j,\n",
       "        0.03818802-6.93889390e-18j, 0.13574609-7.65959073e-02j,\n",
       "        0.03203802-1.26137299e-01j, 0.03203802-1.26137299e-01j],\n",
       "       [0.03203802+1.26137299e-01j, 0.07154625-9.38545908e-02j,\n",
       "        0.07096926-1.55728634e-02j, 0.07154625-9.38545908e-02j,\n",
       "        0.02745631-2.26651641e-02j, 0.03818802+0.00000000e+00j,\n",
       "        0.03818802+0.00000000e+00j, 0.03184994-7.13779013e-02j,\n",
       "        0.01085801-4.27492173e-02j, 0.03203802-1.26137299e-01j],\n",
       "       [0.55177645-1.81578872e-01j, 0.55177645+1.81578872e-01j,\n",
       "        0.28350825+8.69906335e-02j, 0.3628545 +1.05106856e-01j,\n",
       "        0.13574609+7.65959073e-02j, 0.13574609+7.65959073e-02j,\n",
       "        0.03184994+7.13779013e-02j, 0.44813837+0.00000000e+00j,\n",
       "        0.1243413 -1.30181148e-01j, 0.44813837-6.93889390e-18j],\n",
       "       [0.03203802-1.26137299e-01j, 0.1109781 +2.21350785e-01j,\n",
       "        0.1109781 +2.21350785e-01j, 0.12540741+5.34060763e-02j,\n",
       "        0.01707248+6.72162963e-02j, 0.03203802+1.26137299e-01j,\n",
       "        0.01085801+4.27492173e-02j, 0.1243413 +1.30181148e-01j,\n",
       "        0.1503126 +6.93889390e-18j, 0.1503126 +0.00000000e+00j],\n",
       "       [0.69910983+0.00000000e+00j, 0.55177645+1.81578872e-01j,\n",
       "        0.1109781 +2.21350785e-01j, 0.55177645+1.81578872e-01j,\n",
       "        0.13574609+7.65959073e-02j, 0.03203802+1.26137299e-01j,\n",
       "        0.03203802+1.26137299e-01j, 0.44813837-6.93889390e-18j,\n",
       "        0.1503126 +0.00000000e+00j, 0.69910983+3.46944695e-18j]])"
      ]
     },
     "execution_count": 13,
     "metadata": {},
     "output_type": "execute_result"
    }
   ],
   "source": [
    "X"
   ]
  },
  {
   "cell_type": "code",
   "execution_count": null,
   "metadata": {},
   "outputs": [],
   "source": []
  }
 ],
 "metadata": {
  "kernelspec": {
   "display_name": "Python 3",
   "language": "python",
   "name": "python3"
  },
  "language_info": {
   "codemirror_mode": {
    "name": "ipython",
    "version": 3
   },
   "file_extension": ".py",
   "mimetype": "text/x-python",
   "name": "python",
   "nbconvert_exporter": "python",
   "pygments_lexer": "ipython3",
   "version": "3.7.6"
  }
 },
 "nbformat": 4,
 "nbformat_minor": 2
}
