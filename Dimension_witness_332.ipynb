{
 "cells": [
  {
   "cell_type": "code",
   "execution_count": 1,
   "metadata": {},
   "outputs": [],
   "source": [
    "import numpy as np\n",
    "import cvxpy as cp\n",
    "from general_method.basis_generator import rand_moment, generate_basis, sel_seq"
   ]
  },
  {
   "cell_type": "markdown",
   "metadata": {},
   "source": [
    "# Define the Scenario"
   ]
  },
  {
   "cell_type": "code",
   "execution_count": 2,
   "metadata": {},
   "outputs": [],
   "source": [
    "num_obs = 3\n",
    "len_seq = 2\n",
    "out_max = 1\n",
    "seq_method = \"sel_sequences\"\n",
    "remove_last_out = True"
   ]
  },
  {
   "cell_type": "code",
   "execution_count": 3,
   "metadata": {},
   "outputs": [],
   "source": [
    "sequences = sel_seq(n = num_obs,\n",
    "                    r = len_seq,\n",
    "                    out_max = out_max,\n",
    "                    remove_last_out = remove_last_out)"
   ]
  },
  {
   "cell_type": "code",
   "execution_count": 4,
   "metadata": {},
   "outputs": [
    {
     "name": "stdout",
     "output_type": "stream",
     "text": [
      "9\n"
     ]
    },
    {
     "data": {
      "text/plain": [
       "[((0, 0), (0, 0)),\n",
       " ((0, 0), (0, 1)),\n",
       " ((0, 0), (0, 2)),\n",
       " ((0, 0), (1, 0)),\n",
       " ((0, 0), (1, 1)),\n",
       " ((0, 0), (1, 2)),\n",
       " ((0, 0), (2, 0)),\n",
       " ((0, 0), (2, 1)),\n",
       " ((0, 0), (2, 2))]"
      ]
     },
     "execution_count": 4,
     "metadata": {},
     "output_type": "execute_result"
    }
   ],
   "source": [
    "print(len(sequences))\n",
    "sequences"
   ]
  },
  {
   "cell_type": "markdown",
   "metadata": {},
   "source": [
    "# Sampling Q3 "
   ]
  },
  {
   "cell_type": "code",
   "execution_count": 5,
   "metadata": {},
   "outputs": [],
   "source": [
    "dim = 2\n",
    "sel_sequences = [len_seq]"
   ]
  },
  {
   "cell_type": "code",
   "execution_count": 6,
   "metadata": {},
   "outputs": [
    {
     "data": {
      "text/plain": [
       "35"
      ]
     },
     "execution_count": 6,
     "metadata": {},
     "output_type": "execute_result"
    }
   ],
   "source": [
    "batch_size = 100\n",
    "X_basis_3d, rank = generate_basis(dim, \n",
    "                                  num_obs, \n",
    "                                  len_seq, \n",
    "                                  out_max, \n",
    "                                  batch_size, \n",
    "                                  seq_method = seq_method,\n",
    "                                  sel_sequences = sel_sequences,\n",
    "                                  remove_last_out=remove_last_out)\n",
    "\n",
    "rank"
   ]
  },
  {
   "cell_type": "code",
   "execution_count": 7,
   "metadata": {},
   "outputs": [
    {
     "data": {
      "text/plain": [
       "(10, 10)"
      ]
     },
     "execution_count": 7,
     "metadata": {},
     "output_type": "execute_result"
    }
   ],
   "source": [
    "X = rand_moment(dim, num_obs, len_seq, out_max, seq_method, sel_sequences ,remove_last_out=remove_last_out)\n",
    "X.shape"
   ]
  },
  {
   "cell_type": "markdown",
   "metadata": {},
   "source": [
    "# Generate Q2,NPAk set"
   ]
  },
  {
   "cell_type": "code",
   "execution_count": 8,
   "metadata": {},
   "outputs": [
    {
     "data": {
      "text/plain": [
       "100"
      ]
     },
     "execution_count": 8,
     "metadata": {},
     "output_type": "execute_result"
    }
   ],
   "source": [
    "dim = 2\n",
    "level = 1\n",
    "batch_size = 100\n",
    "\n",
    "batch_size"
   ]
  },
  {
   "cell_type": "code",
   "execution_count": 9,
   "metadata": {},
   "outputs": [
    {
     "name": "stdout",
     "output_type": "stream",
     "text": [
      "9\n"
     ]
    },
    {
     "data": {
      "text/plain": [
       "[((0, 0), (0, 0)),\n",
       " ((0, 0), (0, 1)),\n",
       " ((0, 0), (0, 2)),\n",
       " ((0, 0), (1, 0)),\n",
       " ((0, 0), (1, 1)),\n",
       " ((0, 0), (1, 2)),\n",
       " ((0, 0), (2, 0)),\n",
       " ((0, 0), (2, 1)),\n",
       " ((0, 0), (2, 2))]"
      ]
     },
     "execution_count": 9,
     "metadata": {},
     "output_type": "execute_result"
    }
   ],
   "source": [
    "if level > 1:\n",
    "    hierarchy_seq = sequences + sel_seq(n = num_obs,\n",
    "                                    r = len_seq + level -1,\n",
    "                                    out_max = out_max,\n",
    "                                    remove_last_out = remove_last_out)\n",
    "else:\n",
    "    hierarchy_seq = sequences\n",
    "    \n",
    "print(len(hierarchy_seq))\n",
    "hierarchy_seq"
   ]
  },
  {
   "cell_type": "code",
   "execution_count": 10,
   "metadata": {},
   "outputs": [
    {
     "name": "stdout",
     "output_type": "stream",
     "text": [
      "(10, 10)\n"
     ]
    },
    {
     "data": {
      "text/plain": [
       "35"
      ]
     },
     "execution_count": 10,
     "metadata": {},
     "output_type": "execute_result"
    }
   ],
   "source": [
    "X_basis_2d, rank = generate_basis(dim = dim, \n",
    "                                  num_obs = num_obs, \n",
    "                                  len_seq= len_seq + level - 1,\n",
    "                                  out_max = out_max,\n",
    "                                  batch_size = batch_size,\n",
    "                                  seq_method=seq_method,\n",
    "                                  sel_sequences = [len_seq, len_seq + level - 1],\n",
    "                                  remove_last_out=remove_last_out)\n",
    "\n",
    "print(X_basis_2d[0].shape)\n",
    "rank"
   ]
  },
  {
   "cell_type": "code",
   "execution_count": 11,
   "metadata": {},
   "outputs": [],
   "source": [
    "#X_basis_2d = []\n",
    "\n",
    "for i in range(500):\n",
    "    X_basis_2d.append(rand_moment(dim, num_obs, len_seq, out_max, seq_method, [len_seq, len_seq + level - 1], remove_last_out=remove_last_out))"
   ]
  },
  {
   "cell_type": "markdown",
   "metadata": {},
   "source": [
    "# Testing via SDP"
   ]
  },
  {
   "cell_type": "code",
   "execution_count": 12,
   "metadata": {},
   "outputs": [
    {
     "name": "stdout",
     "output_type": "stream",
     "text": [
      "-----------------------------------------------------------------\n",
      "           OSQP v0.5.0  -  Operator Splitting QP Solver\n",
      "              (c) Bartolomeo Stellato,  Goran Banjac\n",
      "        University of Oxford  -  Stanford University 2018\n",
      "-----------------------------------------------------------------\n",
      "problem:  variables n = 601, constraints m = 18\n",
      "          nnz(P) + nnz(A) = 5418\n",
      "settings: linear system solver = qdldl,\n",
      "          eps_abs = 1.0e-05, eps_rel = 1.0e-05,\n",
      "          eps_prim_inf = 1.0e-04, eps_dual_inf = 1.0e-04,\n",
      "          rho = 1.00e-01 (adaptive),\n",
      "          sigma = 1.00e-06, alpha = 1.60, max_iter = 10000\n",
      "          check_termination: on (interval 25),\n",
      "          scaling: on, scaled_termination: off\n",
      "          warm start: on, polish: on\n",
      "\n",
      "iter   objective    pri res    dua res    rho        time\n",
      "   1  -2.4672e+06   8.04e-01   5.12e+02   1.00e-01   6.27e-04s\n",
      "  25  -1.0000e+20   2.48e-04   9.53e-01   1.00e-01   9.89e-04s\n",
      "\n",
      "status:               dual infeasible\n",
      "number of iterations: 25\n",
      "run time:             1.28e-03s\n",
      "optimal rho estimate: 1.80e-03\n",
      "\n"
     ]
    },
    {
     "data": {
      "text/plain": [
       "inf"
      ]
     },
     "execution_count": 12,
     "metadata": {},
     "output_type": "execute_result"
    }
   ],
   "source": [
    "eta = cp.Variable((1, 1))\n",
    "alpha = cp.Variable((len(X_basis_2d), 1))\n",
    "\n",
    "constraints = []\n",
    "\n",
    "for i in range(1,len(X)):\n",
    "    constraints += [\n",
    "        eta*X[i,i] + (1-eta)*X_basis_2d[0][i,i] == sum([alpha[i]*X_basis_2d[i] for i in range(len(X_basis_2d))])[i,i] \n",
    "    ]\n",
    "\n",
    "prob = cp.Problem(cp.Maximize(eta),\n",
    "                  constraints)\n",
    "\n",
    "prob.solve(verbose=True)"
   ]
  },
  {
   "cell_type": "code",
   "execution_count": null,
   "metadata": {},
   "outputs": [],
   "source": []
  }
 ],
 "metadata": {
  "kernelspec": {
   "display_name": "Python 3",
   "language": "python",
   "name": "python3"
  },
  "language_info": {
   "codemirror_mode": {
    "name": "ipython",
    "version": 3
   },
   "file_extension": ".py",
   "mimetype": "text/x-python",
   "name": "python",
   "nbconvert_exporter": "python",
   "pygments_lexer": "ipython3",
   "version": "3.7.3"
  }
 },
 "nbformat": 4,
 "nbformat_minor": 2
}
