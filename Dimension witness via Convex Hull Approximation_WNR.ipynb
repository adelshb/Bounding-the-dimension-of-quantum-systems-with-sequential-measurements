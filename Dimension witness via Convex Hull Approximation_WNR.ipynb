{
 "cells": [
  {
   "cell_type": "code",
   "execution_count": 1,
   "metadata": {},
   "outputs": [],
   "source": [
    "import numpy as np\n",
    "import cvxpy as cp\n",
    "from general_method.basis_generator import rand_moment, generate_basis, sel_seq, rand_rho, rand_projs, proj_mul\n",
    "from numpy import linalg as LA\n",
    "import matplotlib.pyplot as plt\n",
    "import random"
   ]
  },
  {
   "cell_type": "code",
   "execution_count": 2,
   "metadata": {},
   "outputs": [],
   "source": [
    "num_obs = 3\n",
    "len_seq = 3\n",
    "out_max = 1\n",
    "seq_method = \"sel_sequences\"\n",
    "remove_last_out = True"
   ]
  },
  {
   "cell_type": "code",
   "execution_count": 3,
   "metadata": {},
   "outputs": [
    {
     "data": {
      "text/plain": [
       "(27,)"
      ]
     },
     "execution_count": 3,
     "metadata": {},
     "output_type": "execute_result"
    }
   ],
   "source": [
    "#behavior d=3\n",
    "\n",
    "dim = 3\n",
    "\n",
    "X = rand_moment(dim, num_obs, len_seq, out_max, seq_method, [len_seq], remove_last_out=remove_last_out)\n",
    "B_3d = np.real(np.diag(X)[1:])\n",
    "\n",
    "B_3d.shape"
   ]
  },
  {
   "cell_type": "code",
   "execution_count": 4,
   "metadata": {},
   "outputs": [],
   "source": [
    "#Convex Hull approximation d=2\n",
    "\n",
    "dim = 2\n",
    "B_2d = []\n",
    "\n",
    "for i in range(100):\n",
    "    X = rand_moment(dim, num_obs, len_seq, out_max, seq_method, [len_seq], remove_last_out=remove_last_out)\n",
    "    B_2d.append(np.real(np.diag(X)[1:]))"
   ]
  },
  {
   "cell_type": "code",
   "execution_count": 5,
   "metadata": {},
   "outputs": [
    {
     "ename": "SyntaxError",
     "evalue": "invalid syntax (<ipython-input-5-a43087427c60>, line 6)",
     "output_type": "error",
     "traceback": [
      "\u001b[0;36m  File \u001b[0;32m\"<ipython-input-5-a43087427c60>\"\u001b[0;36m, line \u001b[0;32m6\u001b[0m\n\u001b[0;31m    constraints = [eta*B_3d (1-eta)/2 = cp.sum([alpha[i]*B_2d[i] for i in range(len(B_2d))])]\u001b[0m\n\u001b[0m                                      ^\u001b[0m\n\u001b[0;31mSyntaxError\u001b[0m\u001b[0;31m:\u001b[0m invalid syntax\n"
     ]
    }
   ],
   "source": []
  }
 ],
 "metadata": {
  "kernelspec": {
   "display_name": "Python 3",
   "language": "python",
   "name": "python3"
  },
  "language_info": {
   "codemirror_mode": {
    "name": "ipython",
    "version": 3
   },
   "file_extension": ".py",
   "mimetype": "text/x-python",
   "name": "python",
   "nbconvert_exporter": "python",
   "pygments_lexer": "ipython3",
   "version": "3.7.3"
  }
 },
 "nbformat": 4,
 "nbformat_minor": 2
}
