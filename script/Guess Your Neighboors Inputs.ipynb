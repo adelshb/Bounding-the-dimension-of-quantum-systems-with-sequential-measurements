{
 "cells": [
  {
   "cell_type": "code",
   "execution_count": 7,
   "metadata": {},
   "outputs": [],
   "source": [
    "import cvxpy as cp\n",
    "import numpy as np\n",
    "\n",
    "from basis_generator import basis_gs, sel_seq"
   ]
  },
  {
   "cell_type": "markdown",
   "metadata": {},
   "source": [
    "# Parameters"
   ]
  },
  {
   "cell_type": "code",
   "execution_count": 57,
   "metadata": {},
   "outputs": [],
   "source": [
    "dimX = 3\n",
    "dim_base = 2\n",
    "num_obs = 2\n",
    "len_seq = 3\n",
    "num_out = 2\n",
    "remove_last_out = False\n",
    "\n",
    "GYN_events = [((0, 0, 0), (0, 0, 0)),\n",
    "            ((1, 1, 0), (0, 1, 1)),\n",
    "            ((0, 1, 1), (1, 0, 1)),\n",
    "            ((1, 0, 1), (1, 1, 0)),]"
   ]
  },
  {
   "cell_type": "code",
   "execution_count": 58,
   "metadata": {},
   "outputs": [],
   "source": [
    "sequences = sel_seq(num_obs = num_obs,\n",
    "                len_seq = len_seq,\n",
    "                num_out = num_out,\n",
    "                remove_last_out = False)\n",
    "\n",
    "C = np.zeros(X_basis[0].shape)\n",
    "for i, seq_row in enumerate(sequences):\n",
    "    if seq_row in GYN_events:\n",
    "        C[i,i] = 1"
   ]
  },
  {
   "cell_type": "markdown",
   "metadata": {},
   "source": [
    "# Optimization with the First Level of the Hierarchy"
   ]
  },
  {
   "cell_type": "code",
   "execution_count": 59,
   "metadata": {},
   "outputs": [
    {
     "name": "stdout",
     "output_type": "stream",
     "text": [
      "(64, 64)\n",
      "Nul matrix found\n",
      "Number of LI moment matrices:  13\n"
     ]
    }
   ],
   "source": [
    "X_basis = basis_gs(dim = dim_base,\n",
    "            num_obs = num_obs,\n",
    "            len_seq = len_seq,\n",
    "            num_out = num_out,\n",
    "            level = 1,\n",
    "            remove_last_out = remove_last_out,\n",
    "            stop = 1000)"
   ]
  },
  {
   "cell_type": "code",
   "execution_count": 60,
   "metadata": {},
   "outputs": [],
   "source": [
    "alpha = cp.Variable((len(X_basis), 1))\n",
    "X = cp.Variable(X_basis[0].shape, symmetric=True)\n",
    "\n",
    "constraints = [X >> 0]\n",
    "constraints += [\n",
    "    X == sum([alpha[i]*X_basis[i] for i in range(len(X_basis))])\n",
    "]\n",
    "for i in range(8):\n",
    "    constraints += [\n",
    "        sum([X[i+k*8,i+k*8] for k in range(8)]) == 1\n",
    "    ]   "
   ]
  },
  {
   "cell_type": "code",
   "execution_count": 61,
   "metadata": {},
   "outputs": [],
   "source": [
    "prob = cp.Problem(cp.Maximize(cp.trace(C@X)),\n",
    "                  constraints)"
   ]
  },
  {
   "cell_type": "code",
   "execution_count": 62,
   "metadata": {
    "scrolled": false
   },
   "outputs": [
    {
     "name": "stdout",
     "output_type": "stream",
     "text": [
      "\n",
      "\n",
      "Problem\n",
      "  Name                   :                 \n",
      "  Objective sense        : min             \n",
      "  Type                   : CONIC (conic optimization problem)\n",
      "  Constraints            : 12296           \n",
      "  Cones                  : 0               \n",
      "  Scalar variables       : 2093            \n",
      "  Matrix variables       : 1               \n",
      "  Integer variables      : 0               \n",
      "\n",
      "Optimizer started.\n",
      "Problem\n",
      "  Name                   :                 \n",
      "  Objective sense        : min             \n",
      "  Type                   : CONIC (conic optimization problem)\n",
      "  Constraints            : 12296           \n",
      "  Cones                  : 0               \n",
      "  Scalar variables       : 2093            \n",
      "  Matrix variables       : 1               \n",
      "  Integer variables      : 0               \n",
      "\n",
      "Optimizer  - threads                : 12              \n",
      "Optimizer  - solved problem         : the primal      \n",
      "Optimizer  - Constraints            : 4596\n",
      "Optimizer  - Cones                  : 1\n",
      "Optimizer  - Scalar variables       : 510               conic                  : 510             \n",
      "Optimizer  - Semi-definite variables: 1                 scalarized             : 2080            \n",
      "Factor     - setup time             : 1.49              dense det. time        : 0.00            \n",
      "Factor     - ML order time          : 0.84              GP order time          : 0.00            \n",
      "Factor     - nonzeros before factor : 8.40e+06          after factor           : 8.41e+06        \n",
      "Factor     - dense dim.             : 15                flops                  : 2.30e+10        \n",
      "ITE PFEAS    DFEAS    GFEAS    PRSTATUS   POBJ              DOBJ              MU       TIME  \n",
      "0   1.0e+00  1.0e+00  1.0e+00  0.00e+00   -1.000000000e+00  -1.000000000e+00  1.0e+00  1.51  \n",
      "1   1.3e-01  1.3e-01  1.3e-01  -5.19e-01  -6.990377374e-01  -3.457426621e-02  1.3e-01  2.29  \n",
      "2   1.2e-02  1.2e-02  1.8e-03  1.15e+00   -9.429005137e-01  -9.379966194e-01  1.2e-02  3.07  \n",
      "3   8.1e-04  8.1e-04  4.2e-05  9.02e-01   -1.148270465e+00  -1.147027994e+00  8.2e-04  3.82  \n",
      "4   1.0e-06  1.5e-05  3.3e-09  9.84e-01   -1.158799721e+00  -1.158790581e+00  1.2e-06  4.57  \n",
      "5   8.6e-12  2.1e-07  7.9e-17  1.00e+00   -1.158833603e+00  -1.158833603e+00  9.5e-12  5.33  \n",
      "6   6.3e-11  1.1e-09  3.1e-23  1.00e+00   -1.158833604e+00  -1.158833604e+00  3.5e-15  7.53  \n",
      "Optimizer terminated. Time: 7.54    \n",
      "\n",
      "\n",
      "Interior-point solution summary\n",
      "  Problem status  : PRIMAL_AND_DUAL_FEASIBLE\n",
      "  Solution status : OPTIMAL\n",
      "  Primal.  obj: -1.1588336037e+00   nrm: 4e+00    Viol.  con: 1e-10    var: 0e+00    barvar: 0e+00  \n",
      "  Dual.    obj: -1.1588336037e+00   nrm: 1e+01    Viol.  con: 0e+00    var: 3e-11    barvar: 2e-09  \n",
      "optimal\n",
      "The optimal value is 1.1588336036970588\n"
     ]
    }
   ],
   "source": [
    "prob.solve(solver=cp.MOSEK, verbose=True)\n",
    "\n",
    "print(prob.status)\n",
    "print(\"The optimal value is\", prob.value)"
   ]
  }
 ],
 "metadata": {
  "kernelspec": {
   "display_name": "Python 3",
   "language": "python",
   "name": "python3"
  },
  "language_info": {
   "codemirror_mode": {
    "name": "ipython",
    "version": 3
   },
   "file_extension": ".py",
   "mimetype": "text/x-python",
   "name": "python",
   "nbconvert_exporter": "python",
   "pygments_lexer": "ipython3",
   "version": "3.8.5"
  }
 },
 "nbformat": 4,
 "nbformat_minor": 2
}
