{
 "cells": [
  {
   "cell_type": "code",
   "execution_count": 1,
   "metadata": {},
   "outputs": [],
   "source": [
    "import cvxpy as cp\n",
    "import numpy as np\n",
    "\n",
    "from basis_generator import generate_basis, sel_seq"
   ]
  },
  {
   "cell_type": "markdown",
   "metadata": {},
   "source": [
    "# SZDM N=6 Input parameters"
   ]
  },
  {
   "cell_type": "code",
   "execution_count": 2,
   "metadata": {},
   "outputs": [],
   "source": [
    "dim = 2\n",
    "num_obs = 6\n",
    "len_seq = 3\n",
    "out_max = 1\n",
    "basis_size= 500\n",
    "seq_method=\"sel_sequences\"\n",
    "\n",
    "SZDM6_events = [((1, 0, 0), (0, 2, 3)),\n",
    "            ((1, 0, 0), (1, 3, 5)),\n",
    "            ((0, 1, 0), (1, 2, 3)),\n",
    "            ((0, 0, 1), (0, 3, 4)),\n",
    "            ((0, 0, 1), (3, 4, 5))]"
   ]
  },
  {
   "cell_type": "markdown",
   "metadata": {},
   "source": [
    "# Optimization with the First Level of the Hierarchy"
   ]
  },
  {
   "cell_type": "code",
   "execution_count": null,
   "metadata": {
    "scrolled": false
   },
   "outputs": [],
   "source": [
    "X_basis, rank = generate_basis(dim = dim,\n",
    "                num_obs = num_obs,\n",
    "                len_seq = len_seq,\n",
    "                out_max = out_max,\n",
    "                batch_size = basis_size,\n",
    "                seq_method= seq_method,\n",
    "                sel_sequences = [len_seq],\n",
    "                remove_last_out = False)"
   ]
  },
  {
   "cell_type": "code",
   "execution_count": null,
   "metadata": {},
   "outputs": [],
   "source": [
    "rank"
   ]
  },
  {
   "cell_type": "code",
   "execution_count": null,
   "metadata": {},
   "outputs": [],
   "source": [
    "alpha = cp.Variable((len(X_basis), 1))\n",
    "X = cp.Variable(X_basis[0].shape, symmetric=True)\n",
    "\n",
    "constraints = [X >> 0]\n",
    "constraints += [\n",
    "    X == sum([alpha[i]*X_basis[i] for i in range(len(X_basis))])\n",
    "]\n",
    "constraints += [\n",
    "    cp.trace(X) == num_obs**len_seq\n",
    "]"
   ]
  },
  {
   "cell_type": "code",
   "execution_count": null,
   "metadata": {},
   "outputs": [],
   "source": [
    "sequences = sel_seq(num_obs = num_obs,\n",
    "                len_seq = len_seq,\n",
    "                out_max = out_max,\n",
    "                remove_last_out = False)\n",
    "\n",
    "C = np.zeros(X_basis[0].shape)\n",
    "for i, seq_row in enumerate(sequences):\n",
    "    if seq_row in GYN_events:\n",
    "        C[i,i] = 1\n",
    "        \n",
    "prob = cp.Problem(cp.Maximize(cp.trace(C@X)),\n",
    "                  constraints)"
   ]
  },
  {
   "cell_type": "code",
   "execution_count": null,
   "metadata": {
    "scrolled": false
   },
   "outputs": [],
   "source": [
    "prob.solve(solver=cp.MOSEK, verbose=False)\n",
    "\n",
    "print(prob.status)\n",
    "print(\"The optimal value is\", prob.value)"
   ]
  }
 ],
 "metadata": {
  "kernelspec": {
   "display_name": "Python 3",
   "language": "python",
   "name": "python3"
  },
  "language_info": {
   "codemirror_mode": {
    "name": "ipython",
    "version": 3
   },
   "file_extension": ".py",
   "mimetype": "text/x-python",
   "name": "python",
   "nbconvert_exporter": "python",
   "pygments_lexer": "ipython3",
   "version": "3.6.7"
  }
 },
 "nbformat": 4,
 "nbformat_minor": 2
}
