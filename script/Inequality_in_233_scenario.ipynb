{
 "cells": [
  {
   "cell_type": "code",
   "execution_count": 1,
   "metadata": {},
   "outputs": [],
   "source": [
    "import numpy as np\n",
    "from basis_generator import sel_seq, proj_mul\n",
    "from random_witness_generator import NPA_bound\n",
    "import json"
   ]
  },
  {
   "cell_type": "code",
   "execution_count": 2,
   "metadata": {},
   "outputs": [],
   "source": [
    "dimX = 4\n",
    "dim_base = 3\n",
    "num_obs = 2\n",
    "len_seq = 3\n",
    "num_out = 3\n",
    "remove_last_out = True"
   ]
  },
  {
   "cell_type": "code",
   "execution_count": 3,
   "metadata": {},
   "outputs": [],
   "source": [
    "# Import basis\n",
    "basis_filename = \"data/data_basis/3-dim-2-num_obs-3-len_seq-3-num_out.npy\"\n",
    "X_basis = np.load(basis_filename)"
   ]
  },
  {
   "cell_type": "code",
   "execution_count": 4,
   "metadata": {},
   "outputs": [
    {
     "name": "stdout",
     "output_type": "stream",
     "text": [
      "(4, 4)\n",
      "(2, 3, 4, 4)\n"
     ]
    }
   ],
   "source": [
    "NAME = '{}-num_obs-{}-len_seq-{}-out_max-{}-dim_behavior-{}-dim_base'.format(num_obs, len_seq, num_out, dimX, dim_base)\n",
    "\n",
    "#### Loading and testing state\n",
    "rho = np.load(\"data/dimension_witness/\" + NAME + \"-state.npy\")\n",
    "print(rho.shape)\n",
    "\n",
    "#### Loading measurements\n",
    "P = np.load(\"data/dimension_witness/\" + NAME + \"-measurements.npy\")\n",
    "print(P.shape)"
   ]
  },
  {
   "cell_type": "code",
   "execution_count": 5,
   "metadata": {},
   "outputs": [],
   "source": [
    "sequences = sel_seq(num_obs, len_seq, num_out, remove_last_out=True)\n",
    "\n",
    "X = np.eye(len(sequences)+1, dtype=complex)\n",
    "for i, seq_row in enumerate(sequences):\n",
    "    Pi = proj_mul([P[k] for k in seq_row[1]], seq_row[0])\n",
    "    for j, seq_col in enumerate(sequences):\n",
    "        if i==j:\n",
    "            Pj= proj_mul([P[k] for k in seq_col[1]], seq_col[0])\n",
    "            X[i+1,j+1] = np.trace(Pi @ np.conjugate(Pj.T) @ rho)"
   ]
  },
  {
   "cell_type": "code",
   "execution_count": 6,
   "metadata": {},
   "outputs": [],
   "source": [
    "with open(\"data/dimension_witness/\" + NAME + '.json') as json_file:\n",
    "     ineq = json.load(json_file)"
   ]
  },
  {
   "cell_type": "code",
   "execution_count": 7,
   "metadata": {},
   "outputs": [
    {
     "data": {
      "text/plain": [
       "-0.8427977387858502"
      ]
     },
     "execution_count": 7,
     "metadata": {},
     "output_type": "execute_result"
    }
   ],
   "source": [
    "### Dimension 4 bound\n",
    "np.real(np.diag(X)[1:] @ ineq[\"Inequality\"])"
   ]
  },
  {
   "cell_type": "code",
   "execution_count": 8,
   "metadata": {},
   "outputs": [
    {
     "data": {
      "text/plain": [
       "-0.6877266894465444"
      ]
     },
     "execution_count": 8,
     "metadata": {},
     "output_type": "execute_result"
    }
   ],
   "source": [
    "### Dimension 3 bound at 1st level of the hierarchy\n",
    "NPA_bound(ineq[\"Inequality\"],X_basis)"
   ]
  }
 ],
 "metadata": {
  "kernelspec": {
   "display_name": "Python 3",
   "language": "python",
   "name": "python3"
  },
  "language_info": {
   "codemirror_mode": {
    "name": "ipython",
    "version": 3
   },
   "file_extension": ".py",
   "mimetype": "text/x-python",
   "name": "python",
   "nbconvert_exporter": "python",
   "pygments_lexer": "ipython3",
   "version": "3.6.7"
  }
 },
 "nbformat": 4,
 "nbformat_minor": 2
}
