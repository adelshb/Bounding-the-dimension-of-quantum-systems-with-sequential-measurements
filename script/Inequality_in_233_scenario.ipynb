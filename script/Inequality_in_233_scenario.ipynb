{
 "cells": [
  {
   "cell_type": "code",
   "execution_count": 4,
   "metadata": {},
   "outputs": [],
   "source": [
    "import numpy as np\n",
    "import cvxpy as cp\n",
    "from basis_generator import rand_moment, sel_seq, proj_mul\n",
    "import json"
   ]
  },
  {
   "cell_type": "code",
   "execution_count": 35,
   "metadata": {},
   "outputs": [],
   "source": [
    "def single_behavior_visibility(X, X_basis):\n",
    "    \n",
    "    eta = cp.Variable((1, 1))\n",
    "    alpha = cp.Variable((len(X_basis), 1))\n",
    "    beta = cp.Variable((len(X_basis), 1))\n",
    "    M = cp.Variable(X_basis[0].shape)\n",
    "    N = cp.Variable(X_basis[0].shape)\n",
    "\n",
    "    constraints = [N >> 0]\n",
    "    constraints += [N == sum([beta[j]*X_basis[j] for j in range(len(X_basis))])]\n",
    "    constraints += [N[0,0] == 1 - eta]\n",
    "\n",
    "    for i in range(1,len(X)):\n",
    "        constraints += [\n",
    "            eta*X[i,i] + N[i,i] == M[i,i]\n",
    "        ]\n",
    "\n",
    "    constraints += [M >> 0]\n",
    "    constraints += [M == sum([alpha[j]*X_basis[j] for j in range(len(X_basis))])]\n",
    "    constraints += [M[0,0] == 1]\n",
    "\n",
    "    prob = cp.Problem(cp.Maximize(eta),\n",
    "                      constraints)\n",
    "    prob.solve(solver=cp.MOSEK, verbose=False)\n",
    "    \n",
    "    coef = []\n",
    "    for __ in range(3,len(constraints)-3):\n",
    "        coef.append(np.real(constraints[__].dual_value[0][0]))\n",
    "    \n",
    "    return eta.value[0][0], coef"
   ]
  },
  {
   "cell_type": "code",
   "execution_count": 36,
   "metadata": {},
   "outputs": [],
   "source": [
    "def NPA_bound(coef,X_basis):\n",
    "    beta = cp.Variable((len(X_basis), 1))\n",
    "    N = cp.Variable(X_basis[0].shape)\n",
    "\n",
    "    constraints = [N >> 0]\n",
    "    constraints += [N == sum([beta[j]*X_basis[j] for j in range(len(X_basis))])]\n",
    "    constraints += [N[0,0] == 1]\n",
    "\n",
    "    prob = cp.Problem(cp.Minimize(\n",
    "            sum([N[j+1,j+1]*coef[j] for j in range(len(coef))])\n",
    "            ),constraints)\n",
    "    prob.solve(solver=cp.MOSEK, verbose=False)\n",
    "    return prob.value"
   ]
  },
  {
   "cell_type": "code",
   "execution_count": 40,
   "metadata": {},
   "outputs": [],
   "source": [
    "# Import basis\n",
    "basis_filename = \"data_basis/2-dim-3-num_obs-2-len_seq-2-num_out-1-level.npy\"\n",
    "X_basis = np.load(basis_filename)"
   ]
  },
  {
   "cell_type": "code",
   "execution_count": 41,
   "metadata": {},
   "outputs": [],
   "source": [
    "dimX = 3\n",
    "dim_base = 2\n",
    "num_obs = 2\n",
    "len_seq = 2\n",
    "num_out = 2\n",
    "remove_last_out = True"
   ]
  },
  {
   "cell_type": "code",
   "execution_count": 42,
   "metadata": {},
   "outputs": [],
   "source": [
    "X, rho, P = rand_moment(dimX, num_obs, len_seq, num_out, [len_seq], remove_last_out)\n",
    "eta, coef = single_behavior_visibility(X, X_basis)"
   ]
  },
  {
   "cell_type": "code",
   "execution_count": 43,
   "metadata": {},
   "outputs": [
    {
     "name": "stdout",
     "output_type": "stream",
     "text": [
      "0.7421789215215785\n"
     ]
    }
   ],
   "source": [
    "for __ in range(5):\n",
    "    X_t, rho_t, P_t = rand_moment(dimX, num_obs, len_seq, num_out, [len_seq], remove_last_out)\n",
    "    eta_t, coef_t = single_behavior_visibility(X_t, X_basis)\n",
    "    if eta_t < eta:\n",
    "        eta = eta_t\n",
    "        coef = coef_t\n",
    "        X = X_t\n",
    "        rho = rho_t\n",
    "        P = P_t\n",
    "\n",
    "print(eta)"
   ]
  },
  {
   "cell_type": "code",
   "execution_count": 44,
   "metadata": {},
   "outputs": [
    {
     "name": "stdout",
     "output_type": "stream",
     "text": [
      "-0.9085842392451938\n"
     ]
    }
   ],
   "source": [
    "Q = np.real(np.diag(X)[1:] @ coef)\n",
    "print(Q)"
   ]
  },
  {
   "cell_type": "code",
   "execution_count": 45,
   "metadata": {},
   "outputs": [
    {
     "name": "stdout",
     "output_type": "stream",
     "text": [
      "-0.6507631284230208\n"
     ]
    }
   ],
   "source": [
    "C = NPA_bound(coef,X_basis)\n",
    "print(C)"
   ]
  },
  {
   "cell_type": "code",
   "execution_count": 46,
   "metadata": {},
   "outputs": [],
   "source": [
    "data = {}\n",
    "# data[\"Moment Matrix\"] = X\n",
    "# data[\"Quantum State\"] = rho\n",
    "# data[\"Measurements\"] = P\n",
    "data[\"Inequality\"] = coef\n",
    "data[\"Classical Bound\"] = C\n",
    "data[\"Quantum Bound\"] = Q\n",
    "\n",
    "data[\"num of observables\"] = num_obs\n",
    "data[\"maximum length of sequences\"] = len_seq\n",
    "data[\"num of outcomes\"] = num_out\n",
    "data[\"dimension behavior\"] = dimX\n",
    "data[\"dimension base\"] = dim_base\n",
    "\n",
    "NAME = '{}-num_obs-{}-len_seq-{}-out_max-{}-dim_behavior-{}-dim_base'.format(num_obs, len_seq, num_out, dimX, dim_base)\n",
    "\n",
    "with open(\"dimension_witness/\" + NAME + '.json', 'w') as fp:\n",
    "    json.dump(data, fp, indent=2)\n",
    "    \n",
    "np.save(\"dimension_witness/\" + NAME + \"-moment_matrix\", X)\n",
    "np.save(\"dimension_witness/\" + NAME + \"-state\", rho)\n",
    "np.save(\"dimension_witness/\" + NAME + \"-measurements\", P)"
   ]
  },
  {
   "cell_type": "code",
   "execution_count": 47,
   "metadata": {},
   "outputs": [
    {
     "data": {
      "text/plain": [
       "'dimension_witness/2-num_obs-2-len_seq-2-out_max-3-dim_behavior-2-dim_base-state'"
      ]
     },
     "execution_count": 47,
     "metadata": {},
     "output_type": "execute_result"
    }
   ],
   "source": [
    "\"dimension_witness/\" + NAME + \"-state\""
   ]
  },
  {
   "cell_type": "markdown",
   "metadata": {},
   "source": [
    "## Verification"
   ]
  },
  {
   "cell_type": "code",
   "execution_count": 63,
   "metadata": {},
   "outputs": [],
   "source": [
    "dimX = 3\n",
    "dim_base = 2\n",
    "num_obs = 3\n",
    "len_seq = 2\n",
    "num_out = 2\n",
    "remove_last_out = True"
   ]
  },
  {
   "cell_type": "code",
   "execution_count": 64,
   "metadata": {},
   "outputs": [],
   "source": [
    "NAME = '{}-num_obs-{}-len_seq-{}-out_max-{}-dim_behavior-{}-dim_base'.format(num_obs, len_seq, num_out, dimX, dim_base)"
   ]
  },
  {
   "cell_type": "code",
   "execution_count": 65,
   "metadata": {},
   "outputs": [
    {
     "name": "stdout",
     "output_type": "stream",
     "text": [
      "(3, 3)\n"
     ]
    },
    {
     "data": {
      "text/plain": [
       "(0.9999999999999997+0j)"
      ]
     },
     "execution_count": 65,
     "metadata": {},
     "output_type": "execute_result"
    }
   ],
   "source": [
    "#### Loading and testing state\n",
    "rho = np.load(\"dimension_witness/\" + NAME + \"-state.npy\")\n",
    "print(rho.shape)\n",
    "np.trace(rho @ rho)"
   ]
  },
  {
   "cell_type": "code",
   "execution_count": 66,
   "metadata": {},
   "outputs": [
    {
     "name": "stdout",
     "output_type": "stream",
     "text": [
      "(3, 2, 3, 3)\n"
     ]
    },
    {
     "data": {
      "text/plain": [
       "(0.9999999999999997+0j)"
      ]
     },
     "execution_count": 66,
     "metadata": {},
     "output_type": "execute_result"
    }
   ],
   "source": [
    "#### Loading measurements\n",
    "P = np.load(\"dimension_witness/\" + NAME + \"-measurements.npy\")\n",
    "print(P.shape)\n",
    "np.trace(rho @ rho)"
   ]
  },
  {
   "cell_type": "code",
   "execution_count": 67,
   "metadata": {},
   "outputs": [],
   "source": [
    "sequences = sel_seq(num_obs, len_seq, num_out, remove_last_out=True)"
   ]
  },
  {
   "cell_type": "code",
   "execution_count": 68,
   "metadata": {},
   "outputs": [],
   "source": [
    "X = np.eye(len(sequences)+1, dtype=complex)\n",
    "for i, seq_row in enumerate(sequences):\n",
    "    Pi = proj_mul([P[k] for k in seq_row[1]], seq_row[0])\n",
    "    for j, seq_col in enumerate(sequences):\n",
    "        if i==j:\n",
    "            Pj= proj_mul([P[k] for k in seq_col[1]], seq_col[0])\n",
    "            X[i+1,j+1] = np.trace(Pi @ np.conjugate(Pj.T) @ rho)"
   ]
  },
  {
   "cell_type": "code",
   "execution_count": 69,
   "metadata": {},
   "outputs": [],
   "source": [
    "with open(\"dimension_witness/\" + NAME + '.json') as json_file:\n",
    "     ineq = json.load(json_file)"
   ]
  },
  {
   "cell_type": "code",
   "execution_count": 70,
   "metadata": {},
   "outputs": [
    {
     "data": {
      "text/plain": [
       "-0.6372680915558379"
      ]
     },
     "execution_count": 70,
     "metadata": {},
     "output_type": "execute_result"
    }
   ],
   "source": [
    "np.real(np.diag(X)[1:] @ ineq[\"Inequality\"])"
   ]
  },
  {
   "cell_type": "code",
   "execution_count": 71,
   "metadata": {},
   "outputs": [
    {
     "data": {
      "text/plain": [
       "-0.4790466314231945"
      ]
     },
     "execution_count": 71,
     "metadata": {},
     "output_type": "execute_result"
    }
   ],
   "source": [
    "NPA_bound(ineq[\"Inequality\"],X_basis)"
   ]
  },
  {
   "cell_type": "code",
   "execution_count": 62,
   "metadata": {},
   "outputs": [],
   "source": [
    "eta, coef = single_behavior_visibility(X, X_basis)"
   ]
  },
  {
   "cell_type": "code",
   "execution_count": 79,
   "metadata": {},
   "outputs": [
    {
     "data": {
      "text/plain": [
       "0.8417785146809114"
      ]
     },
     "execution_count": 79,
     "metadata": {},
     "output_type": "execute_result"
    }
   ],
   "source": [
    "eta = cp.Variable((1, 1))\n",
    "alpha = cp.Variable((len(X_basis), 1))\n",
    "beta = cp.Variable((len(X_basis), 1))\n",
    "M = cp.Variable(X_basis[0].shape)\n",
    "N = cp.Variable(X_basis[0].shape)\n",
    "\n",
    "constraints = [N >> 0]\n",
    "constraints += [N == sum([beta[j]*X_basis[j] for j in range(len(X_basis))])]\n",
    "constraints += [N[0,0] == 1 - eta]\n",
    "\n",
    "for i in range(1,len(X)):\n",
    "    constraints += [\n",
    "        eta*X[i,i] + N[i,i] == M[i,i]\n",
    "    ]\n",
    "\n",
    "constraints += [M >> 0]\n",
    "constraints += [M == sum([alpha[j]*X_basis[j] for j in range(len(X_basis))])]\n",
    "constraints += [M[0,0] == 1]\n",
    "\n",
    "prob = cp.Problem(cp.Maximize(eta),\n",
    "                  constraints)\n",
    "prob.solve(solver=cp.MOSEK, verbose=False)"
   ]
  },
  {
   "cell_type": "code",
   "execution_count": 117,
   "metadata": {},
   "outputs": [
    {
     "data": {
      "text/plain": [
       "0.8417784938509926"
      ]
     },
     "execution_count": 117,
     "metadata": {},
     "output_type": "execute_result"
    }
   ],
   "source": [
    "eta = cp.Variable((1, 1))\n",
    "alpha = cp.Variable((len(X_basis), 1))\n",
    "beta = cp.Variable((len(X_basis), 1))\n",
    "# M = cp.Variable(X_basis[0].shape)\n",
    "# N = cp.Variable(X_basis[0].shape)\n",
    "\n",
    "constraints = [sum([beta[j]*X_basis[j] for j in range(len(X_basis))]) >> 0]\n",
    "# constraints += [N == sum([beta[j]*X_basis[j] for j in range(len(X_basis))])]\n",
    "constraints += [sum([beta[j]*X_basis[j] for j in range(len(X_basis))])[0,0] == 1 - eta]\n",
    "\n",
    "for i in range(1,len(X)):\n",
    "    constraints += [\n",
    "        eta*X[i,i] + sum([beta[j]*X_basis[j] for j in range(len(X_basis))])[i,i] == sum([alpha[j]*X_basis[j] for j in range(len(X_basis))])[i,i]\n",
    "    ]\n",
    "\n",
    "constraints += [sum([alpha[j]*X_basis[j] for j in range(len(X_basis))]) >> 0]\n",
    "# constraints += [M == sum([alpha[j]*X_basis[j] for j in range(len(X_basis))])]\n",
    "constraints += [sum([alpha[j]*X_basis[j] for j in range(len(X_basis))])[0,0] == 1]\n",
    "\n",
    "prob = cp.Problem(cp.Maximize(eta),\n",
    "                  constraints)\n",
    "prob.solve(solver=cp.MOSEK, verbose=False)"
   ]
  },
  {
   "cell_type": "code",
   "execution_count": 118,
   "metadata": {},
   "outputs": [
    {
     "data": {
      "text/plain": [
       "[Variable(())]"
      ]
     },
     "execution_count": 118,
     "metadata": {},
     "output_type": "execute_result"
    }
   ],
   "source": [
    "constraints[-1].dual_variables"
   ]
  },
  {
   "cell_type": "code",
   "execution_count": 126,
   "metadata": {},
   "outputs": [],
   "source": [
    "def braket(b,k,shape):\n",
    "    BK = np.zeros(shape)\n",
    "    BK[b,k] = 1\n",
    "    return BK"
   ]
  },
  {
   "cell_type": "code",
   "execution_count": 128,
   "metadata": {},
   "outputs": [],
   "source": [
    "x = cp.Variable((1, 1))\n",
    "r = cp.Variable((1, 1))\n",
    "gamma = cp.Variable((len(X)-1, 1))\n",
    "B = cp.Variable(X_basis[0].shape)\n",
    "A = cp.Variable(X_basis[0].shape)\n",
    "\n",
    "constraints = [r == 1 + sum([gamma[i-1]*X[i,i] for i in range(1,len(X))])]\n",
    "constraints += [sum([braket(i,i,X_basis[0].shape)*gamma[i-1] for i in range(1,len(X))]) >> A - x*braket(0,0,X_basis[0].shape)] \n",
    "constraints += [sum([braket(i,i,X_basis[0].shape)*gamma[i-1] for i in range(1,len(X))]) << -B + r*braket(0,0,X_basis[0].shape)] \n",
    "\n",
    "for i in range(len(X_basis)):\n",
    "    constraints += [\n",
    "        cp.trace(X_basis[i] @ A) == 0\n",
    "    ]\n",
    "    constraints += [\n",
    "        cp.trace(X_basis[i] @ B) == 0\n",
    "    ]\n",
    "    \n",
    "prob = cp.Problem(cp.Minimize(x+r),\n",
    "                  constraints)"
   ]
  },
  {
   "cell_type": "code",
   "execution_count": 129,
   "metadata": {},
   "outputs": [
    {
     "data": {
      "text/plain": [
       "0.8417785754109901"
      ]
     },
     "execution_count": 129,
     "metadata": {},
     "output_type": "execute_result"
    }
   ],
   "source": [
    "prob.solve(solver=cp.MOSEK, verbose=False)"
   ]
  },
  {
   "cell_type": "code",
   "execution_count": 130,
   "metadata": {},
   "outputs": [
    {
     "data": {
      "text/plain": [
       "array([[0.47906978]])"
      ]
     },
     "execution_count": 130,
     "metadata": {},
     "output_type": "execute_result"
    }
   ],
   "source": [
    "x.value"
   ]
  },
  {
   "cell_type": "code",
   "execution_count": 132,
   "metadata": {},
   "outputs": [
    {
     "data": {
      "text/plain": [
       "array([[0.84177858]])"
      ]
     },
     "execution_count": 132,
     "metadata": {},
     "output_type": "execute_result"
    }
   ],
   "source": [
    "x.value+r.value"
   ]
  },
  {
   "cell_type": "code",
   "execution_count": null,
   "metadata": {},
   "outputs": [],
   "source": []
  }
 ],
 "metadata": {
  "kernelspec": {
   "display_name": "Python 3",
   "language": "python",
   "name": "python3"
  },
  "language_info": {
   "codemirror_mode": {
    "name": "ipython",
    "version": 3
   },
   "file_extension": ".py",
   "mimetype": "text/x-python",
   "name": "python",
   "nbconvert_exporter": "python",
   "pygments_lexer": "ipython3",
   "version": "3.6.7"
  }
 },
 "nbformat": 4,
 "nbformat_minor": 2
}
