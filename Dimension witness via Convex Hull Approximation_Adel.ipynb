{
 "cells": [
  {
   "cell_type": "code",
   "execution_count": 2,
   "metadata": {},
   "outputs": [],
   "source": [
    "import numpy as np\n",
    "import cvxpy as cp\n",
    "from general_method.basis_generator import rand_moment, generate_basis, sel_seq, rand_rho, rand_projs, proj_mul\n",
    "from numpy import linalg as LA\n",
    "import matplotlib.pyplot as plt\n",
    "import random"
   ]
  },
  {
   "cell_type": "code",
   "execution_count": 1,
   "metadata": {},
   "outputs": [],
   "source": [
    "num_obs = 3\n",
    "len_seq = 3\n",
    "out_max = 1\n",
    "seq_method = \"sel_sequences\"\n",
    "remove_last_out = True"
   ]
  },
  {
   "cell_type": "code",
   "execution_count": 3,
   "metadata": {},
   "outputs": [
    {
     "data": {
      "text/plain": [
       "(27,)"
      ]
     },
     "execution_count": 3,
     "metadata": {},
     "output_type": "execute_result"
    }
   ],
   "source": [
    "#behavior d=3\n",
    "\n",
    "dim = 3\n",
    "\n",
    "X = rand_moment(dim, num_obs, len_seq, out_max, seq_method, [len_seq], remove_last_out=remove_last_out)\n",
    "B_3d = np.real(np.diag(X)[1:])\n",
    "\n",
    "B_3d.shape"
   ]
  },
  {
   "cell_type": "code",
   "execution_count": 25,
   "metadata": {},
   "outputs": [],
   "source": [
    "#Convex Hull approximation d=2\n",
    "\n",
    "dim = 2\n",
    "B_2d = []\n",
    "\n",
    "for i in range(1000000):\n",
    "    X = rand_moment(dim, num_obs, len_seq, out_max, seq_method, [len_seq], remove_last_out=remove_last_out)\n",
    "    B_2d.append(np.real(np.diag(X)[1:]))"
   ]
  },
  {
   "cell_type": "code",
   "execution_count": 26,
   "metadata": {},
   "outputs": [
    {
     "name": "stdout",
     "output_type": "stream",
     "text": [
      "Solving...\n",
      "\n",
      "\n",
      "Problem\n",
      "  Name                   :                 \n",
      "  Objective sense        : min             \n",
      "  Type                   : LO (linear optimization problem)\n",
      "  Constraints            : 1000001         \n",
      "  Cones                  : 0               \n",
      "  Scalar variables       : 28              \n",
      "  Matrix variables       : 0               \n",
      "  Integer variables      : 0               \n",
      "\n",
      "Optimizer started.\n",
      "Problem\n",
      "  Name                   :                 \n",
      "  Objective sense        : min             \n",
      "  Type                   : LO (linear optimization problem)\n",
      "  Constraints            : 1000001         \n",
      "  Cones                  : 0               \n",
      "  Scalar variables       : 28              \n",
      "  Matrix variables       : 0               \n",
      "  Integer variables      : 0               \n",
      "\n",
      "Optimizer  - threads                : 4               \n",
      "Optimizer  - solved problem         : the dual        \n",
      "Optimizer  - Constraints            : 22\n",
      "Optimizer  - Cones                  : 0\n",
      "Optimizer  - Scalar variables       : 1000001           conic                  : 0               \n",
      "Optimizer  - Semi-definite variables: 0                 scalarized             : 0               \n",
      "Factor     - setup time             : 1.26              dense det. time        : 0.00            \n",
      "Factor     - ML order time          : 0.00              GP order time          : 0.00            \n",
      "Factor     - nonzeros before factor : 253               after factor           : 253             \n",
      "Factor     - dense dim.             : 0                 flops                  : 5.06e+08        \n",
      "ITE PFEAS    DFEAS    GFEAS    PRSTATUS   POBJ              DOBJ              MU       TIME  \n",
      "0   2.0e+00  2.0e+06  4.0e+00  0.00e+00   0.000000000e+00   -1.000000000e+00  4.0e+00  8.75  \n",
      "1   1.0e+00  1.0e+06  2.0e+00  1.00e+00   3.276978230e-01   -3.445810356e-01  2.0e+00  10.34 \n",
      "2   6.6e-01  6.6e+05  1.3e+00  5.44e+00   7.156757662e-03   -1.118169827e-06  1.3e+00  10.74 \n",
      "3   1.1e-01  1.1e+05  2.2e-01  3.98e+02   2.155941758e-05   -4.091208778e-12  2.2e-01  11.13 \n",
      "4   2.2e-02  2.2e+04  4.4e-02  -2.65e-01  2.050386322e-05   -9.049758567e-10  4.4e-02  11.82 \n",
      "5   2.0e-03  2.0e+03  3.9e-03  -8.23e-01  1.829056341e-05   -1.646272715e-08  3.9e-03  12.56 \n",
      "6   7.6e-07  7.6e-01  1.5e-06  -9.85e-01  -5.533549425e-03  -3.882787882e-05  1.5e-06  12.88 \n",
      "7   3.9e-09  3.9e-03  7.9e-09  -1.00e+00  -9.896451454e-01  -4.181073047e-01  7.9e-09  13.26 \n",
      "8   1.4e-10  1.4e-04  2.8e-10  9.52e-01   -9.798192796e-01  -9.797030327e-01  2.8e-10  13.51 \n",
      "9   2.4e-14  1.4e-08  2.9e-14  9.60e-01   -9.999979404e-01  -9.999978800e-01  2.9e-14  13.77 \n",
      "10  1.1e-14  1.4e-12  4.7e-16  1.00e+00   -9.999999998e-01  -9.999999998e-01  2.9e-18  14.03 \n",
      "Basis identification started.\n",
      "Primal basis identification phase started.\n",
      "Primal basis identification phase terminated. Time: 0.03\n",
      "Dual basis identification phase started.\n",
      "Dual basis identification phase terminated. Time: 0.69\n",
      "Basis identification terminated. Time: 1.69\n",
      "Optimizer terminated. Time: 17.04   \n",
      "\n",
      "\n",
      "Interior-point solution summary\n",
      "  Problem status  : PRIMAL_AND_DUAL_FEASIBLE\n",
      "  Solution status : OPTIMAL\n",
      "  Primal.  obj: -9.9999999979e-01   nrm: 1e+04    Viol.  con: 1e-11    var: 0e+00  \n",
      "  Dual.    obj: -9.9999999979e-01   nrm: 1e+00    Viol.  con: 0e+00    var: 1e-09  \n",
      "\n",
      "Basic solution summary\n",
      "  Problem status  : PRIMAL_AND_DUAL_FEASIBLE\n",
      "  Solution status : OPTIMAL\n",
      "  Primal.  obj: -9.9999999979e-01   nrm: 3e+02    Viol.  con: 2e-10    var: 0e+00  \n",
      "  Dual.    obj: -1.0000000000e+00   nrm: 1e+00    Viol.  con: 0e+00    var: 0e+00  \n"
     ]
    },
    {
     "data": {
      "text/plain": [
       "0.9999999997929194"
      ]
     },
     "execution_count": 26,
     "metadata": {},
     "output_type": "execute_result"
    }
   ],
   "source": [
    "#Create the LP instance...\n",
    "# Adel's method\n",
    "\n",
    "gamma = cp.Variable(B_3d.shape)\n",
    "Bnd_2d = cp.Variable(1)\n",
    "\n",
    "constraints = [B_3d @ gamma.T - Bnd_2d <= 1]\n",
    "for b2d in B_2d:\n",
    "    constraints += [b2d @ gamma.T - Bnd_2d <= 0]\n",
    "\n",
    "prob = cp.Problem(cp.Maximize(B_3d @ gamma.T - Bnd_2d),\n",
    "                  constraints)\n",
    "\n",
    "print(\"Solving...\")\n",
    "prob.solve(solver=cp.MOSEK, verbose=True)"
   ]
  },
  {
   "cell_type": "code",
   "execution_count": 27,
   "metadata": {},
   "outputs": [
    {
     "data": {
      "text/plain": [
       "array([1.])"
      ]
     },
     "execution_count": 27,
     "metadata": {},
     "output_type": "execute_result"
    }
   ],
   "source": [
    "B_3d @ gamma.value.T - Bnd_2d.value"
   ]
  },
  {
   "cell_type": "code",
   "execution_count": null,
   "metadata": {
    "scrolled": true
   },
   "outputs": [],
   "source": [
    "#Create the LP instance...\n",
    "#WNR method\n",
    "\n",
    "alpha = cp.Variable((len(B_2d),1))\n",
    "eta = cp.Variable(1)\n",
    "\n",
    "constraints = [eta*B_3d +(1-eta)/2 == cp.sum([alpha[i]*B_2d[i] for i in range(len(B_2d))])]\n",
    "for i in range(len(B_2d)):\n",
    "    constraints += [alpha[i] >= 0]\n",
    "constraints += [cp.sum(alpha) == 1]\n",
    "constraints += [eta <= 10]\n",
    "constraints += [eta >= 0]\n",
    "\n",
    "prob = cp.Problem(cp.Maximize(eta),\n",
    "                  constraints)\n",
    "\n",
    "print(\"Solving...\")\n",
    "prob.solve(solver=cp.MOSEK, verbose=True)"
   ]
  },
  {
   "cell_type": "code",
   "execution_count": null,
   "metadata": {
    "scrolled": true
   },
   "outputs": [],
   "source": [
    "#Create the LP instance...\n",
    "# WNR method\n",
    "\n",
    "alpha = cp.Variable((len(B_2d),1))\n",
    "beta = cp.Variable((len(B_2d),1))\n",
    "eta = cp.Variable(1)\n",
    "\n",
    "constraints = [B_3d  == cp.sum([(alpha[i]-beta[i])*B_2d[i] for i in range(len(B_2d))])]\n",
    "for i in range(len(B_2d)):\n",
    "    constraints += [alpha[i] >= 0]\n",
    "    constraints += [beta[i] >= 0]\n",
    "\n",
    "constraints += [cp.sum(alpha) == 1]\n",
    "constraints += [cp.sum(beta) == 1 - eta]\n",
    "\n",
    "prob = cp.Problem(cp.Maximize(eta),\n",
    "                  constraints)\n",
    "\n",
    "print(\"Solving...\")\n",
    "prob.solve(solver=cp.MOSEK, verbose=True)"
   ]
  },
  {
   "cell_type": "code",
   "execution_count": null,
   "metadata": {},
   "outputs": [],
   "source": []
  }
 ],
 "metadata": {
  "kernelspec": {
   "display_name": "Python 3",
   "language": "python",
   "name": "python3"
  },
  "language_info": {
   "codemirror_mode": {
    "name": "ipython",
    "version": 3
   },
   "file_extension": ".py",
   "mimetype": "text/x-python",
   "name": "python",
   "nbconvert_exporter": "python",
   "pygments_lexer": "ipython3",
   "version": "3.7.6"
  }
 },
 "nbformat": 4,
 "nbformat_minor": 2
}
