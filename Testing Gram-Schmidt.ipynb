{
 "cells": [
  {
   "cell_type": "code",
   "execution_count": 100,
   "metadata": {},
   "outputs": [],
   "source": [
    "import numpy as np\n",
    "from numpy import linalg as LA\n",
    "import multiprocessing\n",
    "\n",
    "from public.basis_generator import generate_basis, rank_basis, rand_moment\n",
    "import cvxpy as cp"
   ]
  },
  {
   "cell_type": "code",
   "execution_count": 257,
   "metadata": {},
   "outputs": [],
   "source": [
    "# Parameters\n",
    "dim = 2\n",
    "num_obs = 3\n",
    "len_seq = 2\n",
    "out_max = 1\n",
    "seq_method = \"sel_sequences\"\n",
    "remove_last_out = True\n",
    "batch_size = 40\n",
    "level = 1"
   ]
  },
  {
   "cell_type": "code",
   "execution_count": 258,
   "metadata": {},
   "outputs": [
    {
     "data": {
      "text/plain": [
       "(10, 10)"
      ]
     },
     "execution_count": 258,
     "metadata": {},
     "output_type": "execute_result"
    }
   ],
   "source": [
    "# Preparing the multiprocessing\n",
    "CPUs = multiprocessing.cpu_count()\n",
    "input = [(dim, num_obs, len_seq, out_max, seq_method, [len_seq + level -1], remove_last_out)]\n",
    "pool = multiprocessing.Pool(processes = CPUs)\n",
    "\n",
    "# Compute a basis\n",
    "X_basis = pool.starmap(rand_moment, input*batch_init)\n",
    "X_basis[0].shape"
   ]
  },
  {
   "cell_type": "code",
   "execution_count": 259,
   "metadata": {},
   "outputs": [],
   "source": [
    "X_basis = [rand_moment(dim, num_obs, len_seq, out_max, seq_method=seq_method, sel_sequences=[len_seq], remove_last_out=remove_last_out) for __ in range(batch_size)]"
   ]
  },
  {
   "cell_type": "code",
   "execution_count": 260,
   "metadata": {},
   "outputs": [
    {
     "data": {
      "text/plain": [
       "35"
      ]
     },
     "execution_count": 260,
     "metadata": {},
     "output_type": "execute_result"
    }
   ],
   "source": [
    "# Compute rank\n",
    "rank = rank_basis(X_basis)\n",
    "rank"
   ]
  },
  {
   "cell_type": "code",
   "execution_count": 268,
   "metadata": {},
   "outputs": [],
   "source": [
    "# def gram_schmidt(X_basis):\n",
    "#     X = X_basis\n",
    "#     X[0] = X[0]/LA.norm(X[0])\n",
    "#     for j in range(1,len(X)):\n",
    "#         X[j] = X[j] - np.sum([X[k] for k in range(j)])\n",
    "#         X[j] = X[j] / LA.norm(X[j])\n",
    "#         print(LA.norm(X[j]))\n",
    "#         if (LA.norm(X[j])<0.99) or (LA.norm(X[j])>1.01):\n",
    "#             print(j)\n",
    "#             flag = j\n",
    "#             return X[:j]\n",
    "#     return X\n",
    "\n",
    "def gram_schmidt(X_basis):\n",
    "    X = X_basis\n",
    "    X[0] = X[0]/LA.norm(X[0])\n",
    "    for j in range(1,len(X)):\n",
    "        X[j] -= np.sum([X[k] for k in range(j)])\n",
    "        print(LA.norm(X[j]))\n",
    "        X[j] = X[j] / LA.norm(X[j])\n",
    "        print(LA.norm(X[j]))\n",
    "#         print(j)\n",
    "#         print(LA.norm(X[j]))\n",
    "#         if (LA.norm(X[j])==\"nan\") or (LA.norm(X[j])==0):\n",
    "#             print(j)\n",
    "    return X"
   ]
  },
  {
   "cell_type": "code",
   "execution_count": 269,
   "metadata": {},
   "outputs": [
    {
     "name": "stdout",
     "output_type": "stream",
     "text": [
      "57.646594830114054\n",
      "1.0\n",
      "44.35340516988572\n",
      "1.0\n",
      "57.646594830114054\n",
      "1.0\n",
      "44.35340516988578\n",
      "0.9999999999999999\n",
      "57.64659483011403\n",
      "1.0\n",
      "44.353405169885825\n",
      "0.9999999999999999\n",
      "57.64659483011402\n",
      "1.0\n",
      "44.35340516988583\n",
      "0.9999999999999999\n",
      "57.64659483011401\n",
      "0.9999999999999999\n",
      "44.35340516988578\n",
      "1.0\n",
      "57.646594830114\n",
      "0.9999999999999998\n",
      "44.35340516988579\n",
      "1.0\n",
      "57.64659483011396\n",
      "1.0000000000000002\n",
      "44.35340516988578\n",
      "0.9999999999999999\n",
      "57.64659483011397\n",
      "0.9999999999999999\n",
      "44.35340516988584\n",
      "0.9999999999999999\n",
      "57.64659483011399\n",
      "1.0\n",
      "44.35340516988588\n",
      "1.0\n",
      "57.646594830113976\n",
      "0.9999999999999998\n",
      "44.353405169885896\n",
      "0.9999999999999999\n",
      "57.646594830113955\n",
      "1.0\n",
      "44.35340516988586\n",
      "1.0\n",
      "57.646594830113926\n",
      "1.0\n",
      "44.35340516988586\n",
      "0.9999999999999999\n",
      "57.64659483011391\n",
      "0.9999999999999999\n",
      "44.35340516988591\n",
      "1.0\n",
      "57.64659483011397\n",
      "1.0\n",
      "44.35340516988585\n",
      "0.9999999999999998\n",
      "57.64659483011397\n",
      "1.0\n",
      "44.35340516988577\n",
      "1.0000000000000002\n",
      "57.646594830113884\n",
      "0.9999999999999999\n",
      "44.35340516988574\n",
      "1.0\n",
      "57.64659483011395\n",
      "1.0\n",
      "44.3534051698859\n",
      "1.0\n",
      "57.64659483011392\n",
      "0.9999999999999999\n",
      "44.35340516988581\n",
      "1.0\n",
      "57.64659483011388\n",
      "1.0\n",
      "44.35340516988585\n",
      "1.0\n",
      "57.64659483011384\n",
      "1.0\n"
     ]
    }
   ],
   "source": [
    "X_gs = gram_schmidt(X_basis)"
   ]
  },
  {
   "cell_type": "code",
   "execution_count": null,
   "metadata": {},
   "outputs": [],
   "source": []
  },
  {
   "cell_type": "code",
   "execution_count": null,
   "metadata": {},
   "outputs": [],
   "source": []
  }
 ],
 "metadata": {
  "kernelspec": {
   "display_name": "Python 3",
   "language": "python",
   "name": "python3"
  },
  "language_info": {
   "codemirror_mode": {
    "name": "ipython",
    "version": 3
   },
   "file_extension": ".py",
   "mimetype": "text/x-python",
   "name": "python",
   "nbconvert_exporter": "python",
   "pygments_lexer": "ipython3",
   "version": "3.7.6"
  }
 },
 "nbformat": 4,
 "nbformat_minor": 2
}
