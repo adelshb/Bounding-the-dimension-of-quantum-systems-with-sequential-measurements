{
 "cells": [
  {
   "cell_type": "code",
   "execution_count": 209,
   "metadata": {},
   "outputs": [],
   "source": [
    "import numpy as np\n",
    "from numpy import linalg as LA\n",
    "import multiprocessing\n",
    "\n",
    "from public.basis_generator import generate_basis, rank_basis, rand_moment\n",
    "import cvxpy as cp"
   ]
  },
  {
   "cell_type": "code",
   "execution_count": 263,
   "metadata": {},
   "outputs": [],
   "source": [
    "# Parameters\n",
    "dim = 3\n",
    "num_obs = 4\n",
    "len_seq = 2\n",
    "out_max = 1\n",
    "seq_method = \"sel_sequences\"\n",
    "remove_last_out = True\n",
    "batch_size = 200\n",
    "level = 1"
   ]
  },
  {
   "cell_type": "code",
   "execution_count": 252,
   "metadata": {},
   "outputs": [],
   "source": [
    "X_basis = [rand_moment(dim, num_obs, len_seq, out_max, seq_method=seq_method, sel_sequences=[len_seq], remove_last_out=remove_last_out) for __ in range(batch_size)]"
   ]
  },
  {
   "cell_type": "code",
   "execution_count": 253,
   "metadata": {},
   "outputs": [
    {
     "data": {
      "text/plain": [
       "35"
      ]
     },
     "execution_count": 253,
     "metadata": {},
     "output_type": "execute_result"
    }
   ],
   "source": [
    "# Compute rank\n",
    "rank = rank_basis(X_basis)\n",
    "rank"
   ]
  },
  {
   "cell_type": "code",
   "execution_count": 254,
   "metadata": {},
   "outputs": [],
   "source": [
    "def gram_schmidt(X_basis):\n",
    "    X = X_basis\n",
    "    X[0] = X[0]/LA.norm(X[0])\n",
    "    for j in range(1,len(X)):\n",
    "        for k in range(j):\n",
    "            X[j] -= X[k]*np.sum(X[k]*np.conjugate(X[j]))\n",
    "        #print(LA.norm(np.sum([sum(X[k]*np.conjugate(X[j])) for k in range(j)])))\n",
    "        #print(LA.norm(X[j]))\n",
    "        if LA.norm(X[j]) < 0.000001:\n",
    "            print(\"Nul matrix found\")\n",
    "            return X[:j]\n",
    "        else:\n",
    "            X[j] = X[j]/LA.norm(X[j])\n",
    "    print(\"Matrices all proccessed\")\n",
    "    return X"
   ]
  },
  {
   "cell_type": "code",
   "execution_count": 255,
   "metadata": {
    "scrolled": false
   },
   "outputs": [
    {
     "name": "stdout",
     "output_type": "stream",
     "text": [
      "Nul matrix found\n"
     ]
    },
    {
     "data": {
      "text/plain": [
       "35"
      ]
     },
     "execution_count": 255,
     "metadata": {},
     "output_type": "execute_result"
    }
   ],
   "source": [
    "X_gs = gram_schmidt(X_basis)\n",
    "len(X_gs)"
   ]
  },
  {
   "cell_type": "code",
   "execution_count": 265,
   "metadata": {},
   "outputs": [
    {
     "name": "stdout",
     "output_type": "stream",
     "text": [
      "Nul matrix found\n",
      "Number of LI moment matrices:  161\n"
     ]
    }
   ],
   "source": [
    "# Parameters\n",
    "dim = 3\n",
    "num_obs = 4\n",
    "len_seq = 2\n",
    "out_max = 1\n",
    "seq_method = \"sel_sequences\"\n",
    "remove_last_out = True\n",
    "level = 1\n",
    "\n",
    "flag = False\n",
    "count = 1\n",
    "stop = 10000\n",
    "norm_sens = 0.000000001\n",
    "\n",
    "X_basis = []\n",
    "\n",
    "# Initialization\n",
    "X = rand_moment(dim, num_obs, len_seq, out_max, seq_method=seq_method, sel_sequences=[len_seq], \n",
    "                remove_last_out=remove_last_out)\n",
    "X = X/LA.norm(X)\n",
    "X_basis.append(X)\n",
    "\n",
    "while flag==False:\n",
    "    X = rand_moment(dim, num_obs, len_seq, out_max, seq_method=seq_method, sel_sequences=[len_seq], \n",
    "                remove_last_out=remove_last_out)\n",
    "    for k in range(len(X_basis)):\n",
    "        X -= X_basis[k]*np.sum(X_basis[k]*np.conjugate(X))\n",
    "    if LA.norm(X) < norm_sens:\n",
    "        print(\"Nul matrix found\")\n",
    "        print(\"Number of LI moment matrices: \", len(X_basis))\n",
    "        flag=True\n",
    "    else:\n",
    "        X = X/LA.norm(X)\n",
    "        X_basis.append(X)\n",
    "        count+=1\n",
    "    if count > stop:\n",
    "        print(\"Cannot find the basis\")"
   ]
  },
  {
   "cell_type": "code",
   "execution_count": null,
   "metadata": {},
   "outputs": [],
   "source": [
    "# Parameters\n",
    "dim = 3\n",
    "num_obs = 4\n",
    "len_seq = 2\n",
    "out_max = 1\n",
    "seq_method = \"sel_sequences\"\n",
    "remove_last_out = True\n",
    "level = 1\n",
    "\n",
    "flag = False\n",
    "count = 1\n",
    "stop = 10000\n",
    "norm_sens = 0.000000001\n",
    "\n",
    "X_basis = []\n",
    "\n",
    "# Initialization\n",
    "X = rand_moment(dim, num_obs, len_seq, out_max, seq_method=seq_method, sel_sequences=[len_seq], \n",
    "                remove_last_out=remove_last_out)\n",
    "X = X/LA.norm(X)\n",
    "X_basis.append(X)\n",
    "\n",
    "while flag==False:\n",
    "    X = rand_moment(dim, num_obs, len_seq, out_max, seq_method=seq_method, sel_sequences=[len_seq], \n",
    "                remove_last_out=remove_last_out)\n",
    "    for k in range(len(X_basis)):\n",
    "        X -= X_basis[k]*np.sum(X_basis[k]*np.conjugate(X))\n",
    "    if LA.norm(X) < norm_sens:\n",
    "        print(\"Nul matrix found\")\n",
    "        print(\"Number of LI moment matrices: \", len(X_basis))\n",
    "        flag=True\n",
    "    else:\n",
    "        X = X/LA.norm(X)\n",
    "        X_basis.append(X)\n",
    "        count+=1\n",
    "    if count > stop:\n",
    "        print(\"Cannot find the basis\")"
   ]
  },
  {
   "cell_type": "code",
   "execution_count": 269,
   "metadata": {},
   "outputs": [
    {
     "data": {
      "text/plain": [
       "12"
      ]
     },
     "execution_count": 269,
     "metadata": {},
     "output_type": "execute_result"
    }
   ],
   "source": [
    "# Preparing the multiprocessing\n",
    "CPUs = multiprocessing.cpu_count()\n",
    "input = [(dim, num_obs, len_seq, out_max, seq_method, [len_seq + level -1], remove_last_out)]\n",
    "pool = multiprocessing.Pool(processes = CPUs)\n",
    "# Compute a basis\n",
    "X_basis = pool.starmap(rand_moment, input*CPUs)\n",
    "len(X_basis)"
   ]
  },
  {
   "cell_type": "code",
   "execution_count": 276,
   "metadata": {},
   "outputs": [
    {
     "data": {
      "text/plain": [
       "array([[ True,  True, False,  True, False, False, False, False, False,\n",
       "         True, False,  True, False, False, False, False, False],\n",
       "       [ True,  True, False,  True, False, False, False, False, False,\n",
       "         True, False,  True, False, False, False, False, False],\n",
       "       [False, False, False, False, False, False, False, False, False,\n",
       "        False, False, False, False, False, False, False, False],\n",
       "       [ True,  True, False,  True, False, False, False, False, False,\n",
       "         True, False,  True, False, False, False, False, False],\n",
       "       [False, False, False, False, False, False, False, False, False,\n",
       "        False, False, False, False, False, False, False, False],\n",
       "       [False, False, False, False, False, False, False, False, False,\n",
       "        False, False, False, False, False, False, False, False],\n",
       "       [False, False, False, False, False, False, False, False, False,\n",
       "        False, False, False, False, False, False, False, False],\n",
       "       [False, False, False, False, False, False, False, False, False,\n",
       "        False, False, False, False, False, False, False, False],\n",
       "       [False, False, False, False, False, False, False, False, False,\n",
       "        False, False, False, False, False, False, False, False],\n",
       "       [ True,  True, False,  True, False, False, False, False, False,\n",
       "         True, False,  True, False, False, False, False, False],\n",
       "       [False, False, False, False, False, False, False, False, False,\n",
       "        False, False, False, False, False, False, False, False],\n",
       "       [ True,  True, False,  True, False, False, False, False, False,\n",
       "         True, False,  True, False, False, False, False, False],\n",
       "       [False, False, False, False, False, False, False, False, False,\n",
       "        False, False, False, False, False, False, False, False],\n",
       "       [False, False, False, False, False, False, False, False, False,\n",
       "        False, False, False, False, False, False, False, False],\n",
       "       [False, False, False, False, False, False, False, False, False,\n",
       "        False, False, False, False, False, False, False, False],\n",
       "       [False, False, False, False, False, False, False, False, False,\n",
       "        False, False, False, False, False, False, False, False],\n",
       "       [False, False, False, False, False, False, False, False, False,\n",
       "        False, False, False, False, False, False, False, False]])"
      ]
     },
     "execution_count": 276,
     "metadata": {},
     "output_type": "execute_result"
    }
   ],
   "source": [
    "X_basis[0] == X_basis[7]"
   ]
  },
  {
   "cell_type": "code",
   "execution_count": null,
   "metadata": {},
   "outputs": [],
   "source": []
  }
 ],
 "metadata": {
  "kernelspec": {
   "display_name": "Python 3",
   "language": "python",
   "name": "python3"
  },
  "language_info": {
   "codemirror_mode": {
    "name": "ipython",
    "version": 3
   },
   "file_extension": ".py",
   "mimetype": "text/x-python",
   "name": "python",
   "nbconvert_exporter": "python",
   "pygments_lexer": "ipython3",
   "version": "3.6.7"
  }
 },
 "nbformat": 4,
 "nbformat_minor": 2
}
