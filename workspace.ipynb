{
 "cells": [
  {
   "cell_type": "code",
   "execution_count": 1,
   "metadata": {},
   "outputs": [],
   "source": [
    "import numpy as np\n",
    "import cvxpy as cp\n",
    "from public.basis_generator import rand_moment\n",
    "from numpy import linalg as LA\n",
    "import matplotlib.pyplot as plt\n",
    "import random"
   ]
  },
  {
   "cell_type": "code",
   "execution_count": 4,
   "metadata": {},
   "outputs": [],
   "source": [
    "X = rand_moment(dim=3,\n",
    "             num_obs=2,\n",
    "             len_seq=2,\n",
    "             num_out=3,\n",
    "             sel_sequences = [2],\n",
    "             remove_last_out = True)"
   ]
  },
  {
   "cell_type": "code",
   "execution_count": 6,
   "metadata": {},
   "outputs": [
    {
     "data": {
      "text/plain": [
       "(17, 17)"
      ]
     },
     "execution_count": 6,
     "metadata": {},
     "output_type": "execute_result"
    }
   ],
   "source": [
    "X.shape"
   ]
  },
  {
   "cell_type": "code",
   "execution_count": 7,
   "metadata": {},
   "outputs": [],
   "source": [
    "X = rand_moment(dim=3,\n",
    "             num_obs=3,\n",
    "             len_seq=2,\n",
    "             num_out=3,\n",
    "             sel_sequences = [2],\n",
    "             remove_last_out = True)"
   ]
  },
  {
   "cell_type": "code",
   "execution_count": 8,
   "metadata": {},
   "outputs": [
    {
     "data": {
      "text/plain": [
       "(37, 37)"
      ]
     },
     "execution_count": 8,
     "metadata": {},
     "output_type": "execute_result"
    }
   ],
   "source": [
    "X.shape"
   ]
  },
  {
   "cell_type": "markdown",
   "metadata": {},
   "source": [
    "# Define the Scenario"
   ]
  },
  {
   "cell_type": "code",
   "execution_count": 2,
   "metadata": {},
   "outputs": [],
   "source": [
    "num_obs = 3\n",
    "len_seq = 3\n",
    "out_max = 1\n",
    "seq_method = \"sel_sequences\"\n",
    "remove_last_out = True"
   ]
  },
  {
   "cell_type": "code",
   "execution_count": 3,
   "metadata": {},
   "outputs": [
    {
     "data": {
      "text/plain": [
       "[((0, 0, 0), (0, 0, 0)),\n",
       " ((0, 0, 0), (0, 0, 1)),\n",
       " ((0, 0, 0), (0, 0, 2)),\n",
       " ((0, 0, 0), (0, 1, 0)),\n",
       " ((0, 0, 0), (0, 1, 1)),\n",
       " ((0, 0, 0), (0, 1, 2)),\n",
       " ((0, 0, 0), (0, 2, 0)),\n",
       " ((0, 0, 0), (0, 2, 1)),\n",
       " ((0, 0, 0), (0, 2, 2)),\n",
       " ((0, 0, 0), (1, 0, 0)),\n",
       " ((0, 0, 0), (1, 0, 1)),\n",
       " ((0, 0, 0), (1, 0, 2)),\n",
       " ((0, 0, 0), (1, 1, 0)),\n",
       " ((0, 0, 0), (1, 1, 1)),\n",
       " ((0, 0, 0), (1, 1, 2)),\n",
       " ((0, 0, 0), (1, 2, 0)),\n",
       " ((0, 0, 0), (1, 2, 1)),\n",
       " ((0, 0, 0), (1, 2, 2)),\n",
       " ((0, 0, 0), (2, 0, 0)),\n",
       " ((0, 0, 0), (2, 0, 1)),\n",
       " ((0, 0, 0), (2, 0, 2)),\n",
       " ((0, 0, 0), (2, 1, 0)),\n",
       " ((0, 0, 0), (2, 1, 1)),\n",
       " ((0, 0, 0), (2, 1, 2)),\n",
       " ((0, 0, 0), (2, 2, 0)),\n",
       " ((0, 0, 0), (2, 2, 1)),\n",
       " ((0, 0, 0), (2, 2, 2))]"
      ]
     },
     "execution_count": 3,
     "metadata": {},
     "output_type": "execute_result"
    }
   ],
   "source": [
    "sequences = sel_seq(n = num_obs,\n",
    "                    r = len_seq,\n",
    "                    out_max = out_max,\n",
    "                    remove_last_out = remove_last_out)\n",
    "\n",
    "sequences"
   ]
  },
  {
   "cell_type": "markdown",
   "metadata": {},
   "source": [
    "# Sampling Q3 "
   ]
  },
  {
   "cell_type": "code",
   "execution_count": 4,
   "metadata": {},
   "outputs": [],
   "source": [
    "dim = 3\n",
    "sel_sequences = [len_seq]"
   ]
  },
  {
   "cell_type": "code",
   "execution_count": 5,
   "metadata": {},
   "outputs": [
    {
     "data": {
      "text/plain": [
       "(28, 28)"
      ]
     },
     "execution_count": 5,
     "metadata": {},
     "output_type": "execute_result"
    }
   ],
   "source": [
    "X = rand_moment(dim, num_obs, len_seq, out_max, seq_method, sel_sequences ,remove_last_out=remove_last_out)\n",
    "X.shape"
   ]
  },
  {
   "cell_type": "code",
   "execution_count": null,
   "metadata": {},
   "outputs": [],
   "source": [
    "np.real(np.diag(X))"
   ]
  },
  {
   "cell_type": "code",
   "execution_count": null,
   "metadata": {},
   "outputs": [],
   "source": [
    "\n",
    "sequences = []\n",
    "for r in list(set(sel_sequences)):\n",
    "    sequences.append(sel_seq(num_obs, r, out_max=1, remove_last_out=True))\n",
    "sequences = sum(sequences, [])\n",
    "\n",
    "rho = rand_rho(dim)\n",
    "\n",
    "P = []\n",
    "for k in range(num_obs):\n",
    "    P_temp = rand_projs(dim, out_max)\n",
    "    P.append(P_temp)\n",
    "\n",
    "X = np.eye(len(sequences)+1, dtype=complex)\n",
    "for i, seq_row in enumerate(sequences):\n",
    "    Pi = proj_mul([P[k] for k in seq_row[1]], seq_row[0])\n",
    "    X[0,i+1] = np.trace(Pi @ np.eye(dim) @ rho)\n",
    "    X[i+1,0] = np.trace(np.eye(dim) @ np.conjugate(Pi.T) @ rho)\n",
    "    for j, seq_col in enumerate(sequences):\n",
    "        Pj= proj_mul([P[k] for k in seq_col[1]], seq_col[0])\n",
    "        X[i+1,j+1] = np.trace(Pi @ np.conjugate(Pj.T) @ rho)\n",
    "        \n",
    "X.shape"
   ]
  },
  {
   "cell_type": "code",
   "execution_count": null,
   "metadata": {},
   "outputs": [],
   "source": [
    "np.savetxt(\"rho.csv\", rho, delimiter=\",\")\n",
    "rho"
   ]
  },
  {
   "cell_type": "code",
   "execution_count": null,
   "metadata": {},
   "outputs": [],
   "source": [
    "np.savetxt(\"A1.csv\", P[0][0], delimiter=\",\")\n",
    "np.savetxt(\"A2.csv\", P[1][0], delimiter=\",\")\n",
    "np.savetxt(\"A3.csv\", P[2][0], delimiter=\",\")\n",
    "\n",
    "P"
   ]
  },
  {
   "cell_type": "markdown",
   "metadata": {},
   "source": [
    "# Generate Q2,NPAk set"
   ]
  },
  {
   "cell_type": "code",
   "execution_count": 6,
   "metadata": {},
   "outputs": [],
   "source": [
    "dim = 2\n",
    "level = 1\n",
    "batch_size = 100"
   ]
  },
  {
   "cell_type": "code",
   "execution_count": 7,
   "metadata": {},
   "outputs": [
    {
     "name": "stdout",
     "output_type": "stream",
     "text": [
      "(28, 28)\n"
     ]
    },
    {
     "data": {
      "text/plain": [
       "84"
      ]
     },
     "execution_count": 7,
     "metadata": {},
     "output_type": "execute_result"
    }
   ],
   "source": [
    "X_basis_2d, rank = generate_basis(dim = dim, \n",
    "                                  num_obs = num_obs, \n",
    "                                  len_seq= len_seq + level - 1,\n",
    "                                  out_max = out_max,\n",
    "                                  batch_size = batch_size,\n",
    "                                  seq_method=seq_method,\n",
    "                                  sel_sequences = [len_seq, len_seq + level - 1],\n",
    "                                  remove_last_out=remove_last_out)\n",
    "\n",
    "print(X_basis_2d[0].shape)\n",
    "rank"
   ]
  },
  {
   "cell_type": "code",
   "execution_count": 8,
   "metadata": {},
   "outputs": [],
   "source": [
    "#X_basis_2d = []\n",
    "\n",
    "for i in range(100):\n",
    "    X_basis_2d.append(rand_moment(dim, num_obs, len_seq, out_max, seq_method, [len_seq, len_seq + level - 1], remove_last_out=remove_last_out))"
   ]
  },
  {
   "cell_type": "code",
   "execution_count": 9,
   "metadata": {},
   "outputs": [
    {
     "name": "stdout",
     "output_type": "stream",
     "text": [
      "eigenvalues:  [ 3.99816115e+00+0.00000000e+00j  7.09601188e-01+0.00000000e+00j\n",
      "  6.71966500e-01+0.00000000e+00j  5.70205774e-01+0.00000000e+00j\n",
      "  2.59251622e-01+0.00000000e+00j  2.23893102e-01+0.00000000e+00j\n",
      "  2.02032963e-01+0.00000000e+00j  6.98536336e-02+0.00000000e+00j\n",
      "  5.97679247e-02+0.00000000e+00j  3.95671890e-02+0.00000000e+00j\n",
      "  2.78221063e-02+0.00000000e+00j  2.50616063e-02+0.00000000e+00j\n",
      "  2.49217370e-03+0.00000000e+00j  2.00968479e-02+0.00000000e+00j\n",
      "  1.53829472e-02+0.00000000e+00j  1.39557293e-02+0.00000000e+00j\n",
      "  1.22269972e-02+0.00000000e+00j  1.00780549e-02+0.00000000e+00j\n",
      "  8.38294738e-03+0.00000000e+00j  8.13553916e-03+0.00000000e+00j\n",
      "  1.44610362e-16+0.00000000e+00j  7.30892017e-17+0.00000000e+00j\n",
      "  6.11589728e-17+0.00000000e+00j -4.44866985e-17+0.00000000e+00j\n",
      " -3.27860580e-17+4.84557536e-18j -3.27860580e-17-4.84557536e-18j\n",
      " -1.03146927e-18+2.87490185e-18j -1.03146927e-18-2.87490185e-18j]\n",
      "trace : 6.94793599344248\n"
     ]
    },
    {
     "data": {
      "image/png": "[encoded data removed]",
      "text/plain": [
       "<Figure size 432x288 with 1 Axes>"
      ]
     },
     "metadata": {
      "needs_background": "light"
     },
     "output_type": "display_data"
    }
   ],
   "source": [
    "T = np.real(sum(X_basis_2d))/len(X_basis_2d)\n",
    "\n",
    "vals, vecs = LA.eig(T)\n",
    "\n",
    "print(\"eigenvalues: \", vals)\n",
    "print(\"trace :\", np.trace(T))\n",
    "\n",
    "plt.plot(np.abs(vals),'bs')\n",
    "plt.show()\n"
   ]
  },
  {
   "cell_type": "markdown",
   "metadata": {},
   "source": [
    "# Testing via SDP"
   ]
  },
  {
   "cell_type": "code",
   "execution_count": 11,
   "metadata": {
    "scrolled": false
   },
   "outputs": [
    {
     "name": "stdout",
     "output_type": "stream",
     "text": [
      "\n",
      "\n",
      "Problem\n",
      "  Name                   :                 \n",
      "  Objective sense        : min             \n",
      "  Type                   : CONIC (conic optimization problem)\n",
      "  Constraints            : 3192            \n",
      "  Cones                  : 0               \n",
      "  Scalar variables       : 201             \n",
      "  Matrix variables       : 1               \n",
      "  Integer variables      : 0               \n",
      "\n",
      "Optimizer started.\n",
      "Problem\n",
      "  Name                   :                 \n",
      "  Objective sense        : min             \n",
      "  Type                   : CONIC (conic optimization problem)\n",
      "  Constraints            : 3192            \n",
      "  Cones                  : 0               \n",
      "  Scalar variables       : 201             \n",
      "  Matrix variables       : 1               \n",
      "  Integer variables      : 0               \n",
      "\n",
      "Optimizer  - threads                : 4               \n",
      "Optimizer  - solved problem         : the primal      \n",
      "Optimizer  - Constraints            : 3158\n",
      "Optimizer  - Cones                  : 1\n",
      "Optimizer  - Scalar variables       : 202               conic                  : 202             \n",
      "Optimizer  - Semi-definite variables: 1                 scalarized             : 1596            \n",
      "Factor     - setup time             : 1.44              dense det. time        : 0.21            \n",
      "Factor     - ML order time          : 0.59              GP order time          : 0.00            \n",
      "Factor     - nonzeros before factor : 4.98e+06          after factor           : 4.99e+06        \n",
      "Factor     - dense dim.             : 0                 flops                  : 1.21e+10        \n",
      "ITE PFEAS    DFEAS    GFEAS    PRSTATUS   POBJ              DOBJ              MU       TIME  \n",
      "0   1.0e+00  1.0e+00  1.0e+00  0.00e+00   0.000000000e+00   0.000000000e+00   1.0e+00  1.55  \n",
      "1   1.3e-01  1.3e-01  6.5e-02  -1.20e-01  -3.678284683e-01  -3.372859133e-01  1.3e-01  2.41  \n",
      "2   1.5e-02  1.5e-02  1.2e-03  1.03e+00   -6.544362536e-01  -6.675824662e-01  1.5e-02  2.89  \n",
      "3   2.1e-03  2.1e-03  2.2e-04  3.62e-01   -4.453616176e-01  -4.416354396e-01  2.1e-03  3.33  \n",
      "4   7.3e-04  7.3e-04  3.9e-05  6.18e-01   -2.571232685e-01  -2.567118606e-01  7.3e-04  4.00  \n",
      "5   7.6e-05  7.6e-05  7.8e-07  9.97e-01   -1.259000461e-01  -1.260843824e-01  7.6e-05  4.44  \n",
      "6   8.4e-06  8.4e-06  3.0e-08  7.87e-01   -9.256838412e-02  -9.259673411e-02  8.5e-06  4.83  \n",
      "7   1.3e-06  1.0e-06  5.5e-09  6.81e-01   -8.576608049e-02  -8.574365300e-02  1.1e-06  5.48  \n",
      "8   4.0e-07  1.5e-07  3.9e-10  7.98e-01   -8.433137832e-02  -8.432623643e-02  1.5e-07  5.82  \n",
      "9   4.0e-07  1.5e-07  3.9e-10  9.97e-01   -8.433137832e-02  -8.432623643e-02  1.5e-07  6.52  \n",
      "10  4.0e-07  1.5e-07  3.9e-10  1.00e+00   -8.433137832e-02  -8.432623643e-02  1.5e-07  6.89  \n",
      "Optimizer terminated. Time: 7.27    \n",
      "\n",
      "\n",
      "Interior-point solution summary\n",
      "  Problem status  : PRIMAL_AND_DUAL_FEASIBLE\n",
      "  Solution status : OPTIMAL\n",
      "  Primal.  obj: -8.4331378323e-02   nrm: 1e+00    Viol.  con: 3e-06    var: 0e+00    barvar: 0e+00  \n",
      "  Dual.    obj: -8.4326236432e-02   nrm: 2e+02    Viol.  con: 0e+00    var: 1e-08    barvar: 1e-06  \n"
     ]
    },
    {
     "data": {
      "text/plain": [
       "0.08433137832265054"
      ]
     },
     "execution_count": 11,
     "metadata": {},
     "output_type": "execute_result"
    }
   ],
   "source": [
    "eta = cp.Variable((1, 1))\n",
    "alpha = cp.Variable((len(X_basis_2d), 1))\n",
    "\n",
    "#constraints = [eta <= 10]\n",
    "constraints = [sum([alpha[j]*X_basis_2d[j] for j in range(len(X_basis_2d))]) >> 0]\n",
    "constraints += [sum([alpha[j]*X_basis_2d[j] for j in range(len(X_basis_2d))])[0,0] == 1]\n",
    "for i in range(1,len(X)):\n",
    "    constraints += [\n",
    "        eta*X[i,i] + (1-eta)*X_basis_2d[0][i,i] == sum([alpha[j]*X_basis_2d[j][i,i] for j in range(len(X_basis_2d))]) \n",
    "    ]\n",
    "\n",
    "prob = cp.Problem(cp.Maximize(eta),\n",
    "                  constraints)\n",
    "\n",
    "prob.solve(solver=cp.MOSEK, verbose=True)"
   ]
  },
  {
   "cell_type": "code",
   "execution_count": 12,
   "metadata": {
    "scrolled": false
   },
   "outputs": [
    {
     "name": "stdout",
     "output_type": "stream",
     "text": [
      "\n",
      "\n",
      "Problem\n",
      "  Name                   :                 \n",
      "  Objective sense        : min             \n",
      "  Type                   : CONIC (conic optimization problem)\n",
      "  Constraints            : 4761            \n",
      "  Cones                  : 0               \n",
      "  Scalar variables       : 1769            \n",
      "  Matrix variables       : 1               \n",
      "  Integer variables      : 0               \n",
      "\n",
      "Optimizer started.\n",
      "Problem\n",
      "  Name                   :                 \n",
      "  Objective sense        : min             \n",
      "  Type                   : CONIC (conic optimization problem)\n",
      "  Constraints            : 4761            \n",
      "  Cones                  : 0               \n",
      "  Scalar variables       : 1769            \n",
      "  Matrix variables       : 1               \n",
      "  Integer variables      : 0               \n",
      "\n",
      "Optimizer  - threads                : 4               \n",
      "Optimizer  - solved problem         : the primal      \n",
      "Optimizer  - Constraints            : 4526\n",
      "Optimizer  - Cones                  : 1\n",
      "Optimizer  - Scalar variables       : 1570              conic                  : 1569            \n",
      "Optimizer  - Semi-definite variables: 1                 scalarized             : 1596            \n",
      "Factor     - setup time             : 1.44              dense det. time        : 0.24            \n",
      "Factor     - ML order time          : 0.63              GP order time          : 0.00            \n",
      "Factor     - nonzeros before factor : 5.21e+06          after factor           : 5.76e+06        \n",
      "Factor     - dense dim.             : 202               flops                  : 1.21e+10        \n",
      "ITE PFEAS    DFEAS    GFEAS    PRSTATUS   POBJ              DOBJ              MU       TIME  \n",
      "0   4.0e+00  2.0e+00  1.0e+00  0.00e+00   0.000000000e+00   0.000000000e+00   1.0e+00  1.50  \n",
      "1   6.0e-01  3.0e-01  2.1e-01  -6.34e-01  -2.252190126e-01  1.305822591e+00   1.5e-01  2.19  \n",
      "2   1.4e-01  6.8e-02  2.1e-02  2.29e-01   -6.585326438e-01  -4.128588212e-01  3.4e-02  2.51  \n",
      "3   1.3e-02  6.6e-03  4.6e-04  1.26e+00   -6.742991241e-01  -6.647125266e-01  3.3e-03  2.89  \n",
      "4   1.8e-03  8.9e-04  6.1e-05  6.08e-01   -4.072853843e-01  -3.910539242e-01  4.4e-04  3.25  \n",
      "5   3.1e-04  1.5e-04  1.0e-05  -3.67e-01  -1.593433412e-01  -1.427553393e-01  7.7e-05  3.87  \n",
      "6   4.5e-05  2.3e-05  8.2e-07  3.28e-01   -3.590768883e-02  -3.089073084e-02  1.1e-05  4.23  \n",
      "7   2.8e-06  1.4e-06  4.2e-09  7.72e-01   -3.553757049e-03  -3.535041671e-03  7.5e-07  4.86  \n",
      "8   1.4e-06  7.0e-07  2.7e-09  3.04e-01   -1.886211125e-03  -1.835072787e-03  3.6e-07  5.18  \n",
      "9   1.8e-07  9.2e-08  1.9e-10  1.04e+00   -2.767579519e-04  -2.605282442e-04  4.9e-08  5.50  \n",
      "10  1.2e-07  6.2e-08  1.1e-10  8.81e-01   -1.727211023e-04  -1.599309281e-04  3.3e-08  6.07  \n",
      "11  4.9e-08  2.5e-08  2.9e-11  1.05e+00   -7.036095787e-05  -6.529079363e-05  1.3e-08  6.46  \n",
      "12  1.9e-08  9.6e-09  7.7e-12  9.81e-01   -2.248211992e-05  -1.999070569e-05  5.1e-09  6.84  \n",
      "13  7.7e-09  2.3e-09  9.0e-13  1.00e+00   -6.095324140e-06  -5.495460408e-06  1.2e-09  7.22  \n",
      "14  7.7e-09  2.3e-09  9.0e-13  1.00e+00   -6.095324140e-06  -5.495460408e-06  1.2e-09  7.91  \n",
      "15  7.5e-09  2.3e-09  9.0e-13  1.00e+00   -6.092673291e-06  -5.493385070e-06  1.2e-09  8.26  \n",
      "Optimizer terminated. Time: 8.64    \n",
      "\n",
      "\n",
      "Interior-point solution summary\n",
      "  Problem status  : PRIMAL_AND_DUAL_FEASIBLE\n",
      "  Solution status : OPTIMAL\n",
      "  Primal.  obj: -6.0926732908e-06   nrm: 2e+00    Viol.  con: 2e-07    var: 0e+00    barvar: 0e+00  \n",
      "  Dual.    obj: -5.4933854559e-06   nrm: 3e+02    Viol.  con: 0e+00    var: 4e-09    barvar: 3e-08  \n"
     ]
    },
    {
     "data": {
      "text/plain": [
       "6.092673290794778e-06"
      ]
     },
     "execution_count": 12,
     "metadata": {},
     "output_type": "execute_result"
    }
   ],
   "source": [
    "alpha = cp.Variable((len(X_basis_2d), 1))\n",
    "eta = cp.Variable((1, 1))\n",
    "\n",
    "Gamma = cp.Variable((len(X), len(X)), complex = True)\n",
    "\n",
    "constraints = [eta <= 10]\n",
    "constraints += [Gamma >> 0]\n",
    "constraints += [Gamma[0,0] == 1]\n",
    "constraints += [Gamma == sum([alpha[j]*X_basis_2d[j] for j in range(len(X_basis_2d))])]\n",
    "\n",
    "for i in range(1,len(X)):\n",
    "    constraints += [\n",
    "        Gamma[i,i] == eta*X[i,i] + (1-eta)/2\n",
    "    ]\n",
    "\n",
    "prob = cp.Problem(cp.Maximize(eta),\n",
    "                  constraints)\n",
    "\n",
    "prob.solve(solver=cp.MOSEK, verbose=True)"
   ]
  },
  {
   "cell_type": "markdown",
   "metadata": {},
   "source": [
    "# Random Inequality"
   ]
  },
  {
   "cell_type": "code",
   "execution_count": null,
   "metadata": {},
   "outputs": [],
   "source": [
    "C = np.diag([random.randint(0,1) for i in range(len(X))])"
   ]
  },
  {
   "cell_type": "code",
   "execution_count": null,
   "metadata": {},
   "outputs": [],
   "source": [
    "np.trace(C @ X)"
   ]
  },
  {
   "cell_type": "code",
   "execution_count": null,
   "metadata": {},
   "outputs": [],
   "source": [
    "Gamma = cp.Variable((len(X), len(X)), complex = True)\n",
    "alpha = cp.Variable((len(X_basis_2d), 1))\n",
    "\n",
    "constraints = [Gamma >> 0]\n",
    "constraints += [Gamma[0,0] == 1]\n",
    "constraints += [ Gamma == sum([alpha[j]*X_basis_2d[j] for j in range(len(X_basis_2d))])]\n",
    "\n",
    "prob = cp.Problem(cp.Maximize(cp.real(cp.trace(C @ Gamma))),\n",
    "                  constraints)\n",
    "\n",
    "prob.solve(verbose=True)"
   ]
  },
  {
   "cell_type": "markdown",
   "metadata": {},
   "source": [
    "# Compare dimension behavior"
   ]
  },
  {
   "cell_type": "code",
   "execution_count": 13,
   "metadata": {},
   "outputs": [],
   "source": [
    "num_obs = 3\n",
    "len_seq = 3\n",
    "out_max = 1\n",
    "seq_method = \"sel_sequences\"\n",
    "remove_last_out = True"
   ]
  },
  {
   "cell_type": "code",
   "execution_count": 29,
   "metadata": {},
   "outputs": [
    {
     "data": {
      "text/plain": [
       "(27,)"
      ]
     },
     "execution_count": 29,
     "metadata": {},
     "output_type": "execute_result"
    }
   ],
   "source": [
    "#behavior d=3\n",
    "\n",
    "dim = 3\n",
    "B_3d = []\n",
    "\n",
    "#for i in range(100):\n",
    "#    X = rand_moment(dim, num_obs, len_seq, out_max, seq_method, [len_seq], remove_last_out=remove_last_out)\n",
    "#    B_3d.append(np.real(np.diag(X)[1:]))\n",
    "  \n",
    "#B_3d = np.array(B_3d) \n",
    "#print(B_3d.shape)\n",
    "\n",
    "#rank = np.linalg.matrix_rank(B_3d)\n",
    "\n",
    "#rank\n",
    "\n",
    "X = rand_moment(dim, num_obs, len_seq, out_max, seq_method, [len_seq], remove_last_out=remove_last_out)\n",
    "B_3d = np.real(np.diag(X)[1:])\n",
    "\n",
    "B_3d.shape"
   ]
  },
  {
   "cell_type": "code",
   "execution_count": 31,
   "metadata": {},
   "outputs": [],
   "source": [
    "#Convex Hull approximation d=2\n",
    "\n",
    "dim = 2\n",
    "B_2d = []\n",
    "\n",
    "for i in range(100):\n",
    "    X = rand_moment(dim, num_obs, len_seq, out_max, seq_method, [len_seq], remove_last_out=remove_last_out)\n",
    "    B_2d.append(np.real(np.diag(X)[1:]))\n",
    "\n",
    "#B_2d = np.array(B_2d) \n",
    "#print(B_2d.shape)\n",
    "\n",
    "#rank = np.linalg.matrix_rank(B_2d)\n",
    "\n",
    "#rank"
   ]
  },
  {
   "cell_type": "code",
   "execution_count": 32,
   "metadata": {},
   "outputs": [
    {
     "name": "stdout",
     "output_type": "stream",
     "text": [
      "Create the LP instance...\n",
      "Solving...\n",
      "\n",
      "\n",
      "Problem\n",
      "  Name                   :                 \n",
      "  Objective sense        : min             \n",
      "  Type                   : LO (linear optimization problem)\n",
      "  Constraints            : 101             \n",
      "  Cones                  : 0               \n",
      "  Scalar variables       : 28              \n",
      "  Matrix variables       : 0               \n",
      "  Integer variables      : 0               \n",
      "\n",
      "Optimizer started.\n",
      "Problem\n",
      "  Name                   :                 \n",
      "  Objective sense        : min             \n",
      "  Type                   : LO (linear optimization problem)\n",
      "  Constraints            : 101             \n",
      "  Cones                  : 0               \n",
      "  Scalar variables       : 28              \n",
      "  Matrix variables       : 0               \n",
      "  Integer variables      : 0               \n",
      "\n",
      "Optimizer  - threads                : 4               \n",
      "Optimizer  - solved problem         : the dual        \n",
      "Optimizer  - Constraints            : 22\n",
      "Optimizer  - Cones                  : 0\n",
      "Optimizer  - Scalar variables       : 101               conic                  : 0               \n",
      "Optimizer  - Semi-definite variables: 0                 scalarized             : 0               \n",
      "Factor     - setup time             : 0.01              dense det. time        : 0.00            \n",
      "Factor     - ML order time          : 0.00              GP order time          : 0.00            \n",
      "Factor     - nonzeros before factor : 253               after factor           : 253             \n",
      "Factor     - dense dim.             : 0                 flops                  : 5.49e+04        \n",
      "ITE PFEAS    DFEAS    GFEAS    PRSTATUS   POBJ              DOBJ              MU       TIME  \n",
      "0   2.0e+00  2.0e+02  4.0e+00  0.00e+00   0.000000000e+00   -1.000000000e+00  4.0e+00  0.06  \n",
      "1   7.6e-02  7.6e+00  1.5e-01  1.00e+00   -4.321013092e-01  -4.328982296e-01  1.5e-01  0.12  \n",
      "2   1.9e-03  1.9e-01  3.8e-03  -9.07e-02  -9.986761080e-01  -9.702133811e-01  3.8e-03  0.12  \n",
      "3   3.7e-07  3.7e-05  7.3e-07  9.97e-01   -9.999986052e-01  -9.999959921e-01  7.3e-07  0.13  \n",
      "4   3.7e-11  3.7e-09  7.3e-11  1.00e+00   -9.999999999e-01  -9.999999996e-01  7.3e-11  0.13  \n",
      "Basis identification started.\n",
      "Primal basis identification phase started.\n",
      "Primal basis identification phase terminated. Time: 0.01\n",
      "Dual basis identification phase started.\n",
      "Dual basis identification phase terminated. Time: 0.00\n",
      "Basis identification terminated. Time: 0.02\n",
      "Optimizer terminated. Time: 0.18    \n",
      "\n",
      "\n",
      "Interior-point solution summary\n",
      "  Problem status  : PRIMAL_AND_DUAL_FEASIBLE\n",
      "  Solution status : OPTIMAL\n",
      "  Primal.  obj: -9.9999999986e-01   nrm: 1e+01    Viol.  con: 2e-11    var: 0e+00  \n",
      "  Dual.    obj: -9.9999999960e-01   nrm: 1e+00    Viol.  con: 0e+00    var: 1e-09  \n",
      "\n",
      "Basic solution summary\n",
      "  Problem status  : PRIMAL_AND_DUAL_FEASIBLE\n",
      "  Solution status : OPTIMAL\n",
      "  Primal.  obj: -9.9999999986e-01   nrm: 1e+01    Viol.  con: 1e-10    var: 0e+00  \n",
      "  Dual.    obj: -1.0000000000e+00   nrm: 1e+00    Viol.  con: 0e+00    var: 0e+00  \n"
     ]
    },
    {
     "data": {
      "text/plain": [
       "array([0.98768473])"
      ]
     },
     "execution_count": 32,
     "metadata": {},
     "output_type": "execute_result"
    }
   ],
   "source": [
    "print(\"Create the LP instance...\")\n",
    "gamma = cp.Variable(B_3d.shape)\n",
    "Bnd_2d = cp.Variable(1)\n",
    "\n",
    "constraints = [B_3d @ gamma.T - Bnd_2d <= 1]\n",
    "for b2d in B_2d:\n",
    "    constraints += [b2d @ gamma.T - Bnd_2d <= 0]\n",
    "\n",
    "prob = cp.Problem(cp.Maximize(B_3d @ gamma.T - Bnd_2d),\n",
    "                  constraints)\n",
    "\n",
    "print(\"Solving...\")\n",
    "prob.solve(solver=cp.MOSEK, verbose=True)\n",
    "Bnd_2d.value"
   ]
  },
  {
   "cell_type": "code",
   "execution_count": 34,
   "metadata": {},
   "outputs": [
    {
     "data": {
      "text/plain": [
       "array([1.])"
      ]
     },
     "execution_count": 34,
     "metadata": {},
     "output_type": "execute_result"
    }
   ],
   "source": [
    "B_3d @ gamma.value.T - Bnd_2d.value"
   ]
  },
  {
   "cell_type": "code",
   "execution_count": null,
   "metadata": {},
   "outputs": [],
   "source": [
    "#behavior d=3\n",
    "dim = 3\n",
    "X = rand_moment(dim, num_obs, len_seq, out_max, seq_method, [len_seq], remove_last_out=remove_last_out)\n",
    "B_3d = np.real(np.diag(X)[1:])\n",
    "\n",
    "#Convex Hull approximation d=2\n",
    "dim = 2\n",
    "B_2d = []\n",
    "\n",
    "for i in range(100):\n",
    "    X = rand_moment(dim, num_obs, len_seq, out_max, seq_method, [len_seq], remove_last_out=remove_last_out)\n",
    "    B_2d.append(np.real(np.diag(X)[1:]))\n",
    "\n",
    "\n",
    "#Create the LP instance\n",
    "gamma = cp.Variable(B_3d.shape)\n",
    "Bnd_2d = cp.Variable(1)\n",
    "\n",
    "constraints = [B_3d @ gamma.T - Bnd_2d <= 1]\n",
    "for b2d in B_2d:\n",
    "    constraints += [b2d @ gamma.T - Bnd_2d <= 0]\n",
    "\n",
    "prob = cp.Problem(cp.Maximize(B_3d @ gamma.T - Bnd_2d),\n",
    "                  constraints)\n",
    "\n",
    "prob.solve(solver=cp.MOSEK, verbose=True)\n",
    "print(B_3d @ gamma.value.T - Bnd_2d.value)"
   ]
  }
 ],
 "metadata": {
  "kernelspec": {
   "display_name": "Python 3",
   "language": "python",
   "name": "python3"
  },
  "language_info": {
   "codemirror_mode": {
    "name": "ipython",
    "version": 3
   },
   "file_extension": ".py",
   "mimetype": "text/x-python",
   "name": "python",
   "nbconvert_exporter": "python",
   "pygments_lexer": "ipython3",
   "version": "3.7.3"
  }
 },
 "nbformat": 4,
 "nbformat_minor": 2
}
