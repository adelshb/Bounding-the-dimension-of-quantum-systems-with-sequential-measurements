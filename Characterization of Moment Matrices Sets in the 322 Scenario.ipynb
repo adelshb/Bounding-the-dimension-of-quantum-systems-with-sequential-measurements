{
 "cells": [
  {
   "cell_type": "code",
   "execution_count": 1,
   "metadata": {},
   "outputs": [],
   "source": [
    "import numpy as np\n",
    "import multiprocessing\n",
    "\n",
    "from public.basis_generator import generate_basis, rank_basis, rand_moment\n",
    "import cvxpy as cp"
   ]
  },
  {
   "cell_type": "markdown",
   "metadata": {},
   "source": [
    "# Characterization of Moment Matrices Sets in the 322 Scenario"
   ]
  },
  {
   "cell_type": "markdown",
   "metadata": {},
   "source": [
    "## Dim = 2"
   ]
  },
  {
   "cell_type": "markdown",
   "metadata": {},
   "source": [
    "### With sequences of length 2 only"
   ]
  },
  {
   "cell_type": "code",
   "execution_count": 18,
   "metadata": {},
   "outputs": [],
   "source": [
    "# Parameters\n",
    "dim = 2\n",
    "num_obs = 3\n",
    "len_seq = 2\n",
    "out_max = 1\n",
    "seq_method = \"sel_sequences\"\n",
    "remove_last_out = True\n",
    "batch_init = 40\n",
    "level = 1"
   ]
  },
  {
   "cell_type": "code",
   "execution_count": 19,
   "metadata": {},
   "outputs": [],
   "source": [
    "# Preparing the multiprocessing\n",
    "CPUs = multiprocessing.cpu_count()\n",
    "input = [(dim, num_obs, len_seq, out_max, seq_method, [len_seq + level -1], remove_last_out)]\n",
    "pool = multiprocessing.Pool(processes = CPUs)"
   ]
  },
  {
   "cell_type": "code",
   "execution_count": 20,
   "metadata": {},
   "outputs": [
    {
     "data": {
      "text/plain": [
       "(10, 10)"
      ]
     },
     "execution_count": 20,
     "metadata": {},
     "output_type": "execute_result"
    }
   ],
   "source": [
    "# Compute a basis\n",
    "X_basis = pool.starmap(rand_moment, input*batch_init)\n",
    "X_basis[0].shape"
   ]
  },
  {
   "cell_type": "code",
   "execution_count": 21,
   "metadata": {},
   "outputs": [
    {
     "data": {
      "text/plain": [
       "5"
      ]
     },
     "execution_count": 21,
     "metadata": {},
     "output_type": "execute_result"
    }
   ],
   "source": [
    "# Compute rank\n",
    "rank = rank_basis(X_basis)\n",
    "rank"
   ]
  },
  {
   "cell_type": "code",
   "execution_count": 23,
   "metadata": {},
   "outputs": [
    {
     "data": {
      "text/plain": [
       "array([[ True,  True,  True,  True,  True,  True,  True,  True,  True,\n",
       "         True],\n",
       "       [ True,  True,  True,  True,  True,  True,  True,  True,  True,\n",
       "         True],\n",
       "       [ True,  True,  True,  True,  True,  True,  True,  True,  True,\n",
       "         True],\n",
       "       [ True,  True,  True,  True,  True,  True,  True,  True,  True,\n",
       "         True],\n",
       "       [ True,  True,  True,  True,  True,  True,  True,  True,  True,\n",
       "         True],\n",
       "       [ True,  True,  True,  True,  True,  True,  True,  True,  True,\n",
       "         True],\n",
       "       [ True,  True,  True,  True,  True,  True,  True,  True,  True,\n",
       "         True],\n",
       "       [ True,  True,  True,  True,  True,  True,  True,  True,  True,\n",
       "         True],\n",
       "       [ True,  True,  True,  True,  True,  True,  True,  True,  True,\n",
       "         True],\n",
       "       [ True,  True,  True,  True,  True,  True,  True,  True,  True,\n",
       "         True]])"
      ]
     },
     "execution_count": 23,
     "metadata": {},
     "output_type": "execute_result"
    }
   ],
   "source": [
    "X_basis[0] == X_basis[1]"
   ]
  },
  {
   "cell_type": "markdown",
   "metadata": {},
   "source": [
    "### All sequences"
   ]
  },
  {
   "cell_type": "code",
   "execution_count": 6,
   "metadata": {},
   "outputs": [],
   "source": [
    "# Parameters\n",
    "dim = 2\n",
    "num_obs = 3\n",
    "len_seq = 2\n",
    "out_max = 1\n",
    "seq_method = \"all_sequences\"\n",
    "remove_last_out = True\n",
    "batch_init = 100\n",
    "level = 1"
   ]
  },
  {
   "cell_type": "code",
   "execution_count": 7,
   "metadata": {},
   "outputs": [],
   "source": [
    "# Preparing the multiprocessing\n",
    "CPUs = multiprocessing.cpu_count()\n",
    "input = [(dim, num_obs, len_seq, out_max, seq_method, [len_seq + level -1], remove_last_out)]\n",
    "pool = multiprocessing.Pool(processes = CPUs)"
   ]
  },
  {
   "cell_type": "code",
   "execution_count": 8,
   "metadata": {},
   "outputs": [
    {
     "data": {
      "text/plain": [
       "(13, 13)"
      ]
     },
     "execution_count": 8,
     "metadata": {},
     "output_type": "execute_result"
    }
   ],
   "source": [
    "# Compute a basis\n",
    "X_basis = pool.starmap(rand_moment, input*batch_init)\n",
    "X_basis[0].shape"
   ]
  },
  {
   "cell_type": "code",
   "execution_count": 9,
   "metadata": {},
   "outputs": [
    {
     "data": {
      "text/plain": [
       "9"
      ]
     },
     "execution_count": 9,
     "metadata": {},
     "output_type": "execute_result"
    }
   ],
   "source": [
    "# Compute rank\n",
    "rank = rank_basis(X_basis)\n",
    "rank"
   ]
  },
  {
   "cell_type": "markdown",
   "metadata": {},
   "source": [
    "# Dim = 3"
   ]
  },
  {
   "cell_type": "markdown",
   "metadata": {},
   "source": [
    "### With sequences of length 2 only"
   ]
  },
  {
   "cell_type": "code",
   "execution_count": 6,
   "metadata": {},
   "outputs": [],
   "source": [
    "# Parameters\n",
    "dim = 3\n",
    "num_obs = 3\n",
    "len_seq = 2\n",
    "out_max = 1\n",
    "seq_method = \"sel_sequences\"\n",
    "remove_last_out = True\n",
    "batch_init = 100\n",
    "level = 1"
   ]
  },
  {
   "cell_type": "code",
   "execution_count": 7,
   "metadata": {},
   "outputs": [],
   "source": [
    "# Preparing the multiprocessing\n",
    "CPUs = multiprocessing.cpu_count()\n",
    "input = [(dim, num_obs, len_seq, out_max, seq_method, [len_seq + level -1], remove_last_out)]\n",
    "pool = multiprocessing.Pool(processes = CPUs)"
   ]
  },
  {
   "cell_type": "code",
   "execution_count": 8,
   "metadata": {},
   "outputs": [
    {
     "data": {
      "text/plain": [
       "(10, 10)"
      ]
     },
     "execution_count": 8,
     "metadata": {},
     "output_type": "execute_result"
    }
   ],
   "source": [
    "# Compute a basis\n",
    "X_basis = pool.starmap(rand_moment, input*batch_init)\n",
    "X_basis[0].shape"
   ]
  },
  {
   "cell_type": "code",
   "execution_count": 9,
   "metadata": {},
   "outputs": [
    {
     "data": {
      "text/plain": [
       "46"
      ]
     },
     "execution_count": 9,
     "metadata": {},
     "output_type": "execute_result"
    }
   ],
   "source": [
    "# Compute rank\n",
    "rank = rank_basis(X_basis)\n",
    "rank"
   ]
  },
  {
   "cell_type": "markdown",
   "metadata": {},
   "source": [
    "### With all sequences"
   ]
  },
  {
   "cell_type": "code",
   "execution_count": 10,
   "metadata": {},
   "outputs": [],
   "source": [
    "# Parameters\n",
    "dim = 3\n",
    "num_obs = 3\n",
    "len_seq = 2\n",
    "out_max = 1\n",
    "seq_method = \"all_sequences\"\n",
    "remove_last_out = True\n",
    "batch_init = 100\n",
    "level = 1"
   ]
  },
  {
   "cell_type": "code",
   "execution_count": 11,
   "metadata": {},
   "outputs": [],
   "source": [
    "# Preparing the multiprocessing\n",
    "CPUs = multiprocessing.cpu_count()\n",
    "input = [(dim, num_obs, len_seq, out_max, seq_method, [len_seq + level -1], remove_last_out)]\n",
    "pool = multiprocessing.Pool(processes = CPUs)"
   ]
  },
  {
   "cell_type": "code",
   "execution_count": 12,
   "metadata": {},
   "outputs": [
    {
     "data": {
      "text/plain": [
       "(13, 13)"
      ]
     },
     "execution_count": 12,
     "metadata": {},
     "output_type": "execute_result"
    }
   ],
   "source": [
    "# Compute a basis\n",
    "X_basis = pool.starmap(rand_moment, input*batch_init)\n",
    "X_basis[0].shape"
   ]
  },
  {
   "cell_type": "code",
   "execution_count": 13,
   "metadata": {},
   "outputs": [
    {
     "data": {
      "text/plain": [
       "46"
      ]
     },
     "execution_count": 13,
     "metadata": {},
     "output_type": "execute_result"
    }
   ],
   "source": [
    "# Compute rank\n",
    "rank = rank_basis(X_basis)\n",
    "rank"
   ]
  },
  {
   "cell_type": "markdown",
   "metadata": {},
   "source": [
    "## Visibility"
   ]
  },
  {
   "cell_type": "code",
   "execution_count": 10,
   "metadata": {},
   "outputs": [],
   "source": [
    "dimX = 3\n",
    "dim_basis = 2\n",
    "num_obs = 3\n",
    "len_seq = 2\n",
    "out_max = 1\n",
    "seq_method = \"sel_sequences\"\n",
    "remove_last_out = True\n",
    "batch_init = 100\n",
    "level = 1"
   ]
  },
  {
   "cell_type": "code",
   "execution_count": 11,
   "metadata": {},
   "outputs": [
    {
     "data": {
      "text/plain": [
       "(10, 10)"
      ]
     },
     "execution_count": 11,
     "metadata": {},
     "output_type": "execute_result"
    }
   ],
   "source": [
    "# Compute a basis\n",
    "CPUs = multiprocessing.cpu_count()\n",
    "input = [(dim_basis, num_obs, len_seq, out_max, seq_method, [len_seq + level -1], remove_last_out)]\n",
    "pool = multiprocessing.Pool(processes = CPUs)\n",
    "\n",
    "X_basis = pool.starmap(rand_moment, input*batch_init)\n",
    "X_basis[0].shape"
   ]
  },
  {
   "cell_type": "code",
   "execution_count": 12,
   "metadata": {
    "scrolled": false
   },
   "outputs": [
    {
     "name": "stdout",
     "output_type": "stream",
     "text": [
      "0.9852884924126553\n"
     ]
    }
   ],
   "source": [
    "# Code used in public.save_vibility.py (function single_behavior_visibility)\n",
    "\n",
    "X = rand_moment(dimX, num_obs, len_seq, out_max, seq_method, [len_seq], remove_last_out=True)\n",
    "\n",
    "eta = cp.Variable((1, 1))\n",
    "alpha = cp.Variable((len(X_basis), 1))\n",
    "\n",
    "constraints = [sum([alpha[j]*X_basis[j] for j in range(len(X_basis))]) >> 0]\n",
    "constraints += [sum([alpha[j]*X_basis[j] for j in range(len(X_basis))])[0,0] == 1]\n",
    "for i in range(1,len(X)):\n",
    "    constraints += [\n",
    "        eta*X[i,i] + (1-eta)/2 == sum([alpha[j]*X_basis[j][i,i] for j in range(len(X_basis))])\n",
    "    ]\n",
    "\n",
    "prob = cp.Problem(cp.Maximize(eta),\n",
    "                  constraints)\n",
    "try:\n",
    "    prob.solve(solver=cp.MOSEK, verbose=False)\n",
    "    print(eta.value[0][0])\n",
    "except:\n",
    "    print(\"Error\")"
   ]
  }
 ],
 "metadata": {
  "kernelspec": {
   "display_name": "Python 3",
   "language": "python",
   "name": "python3"
  },
  "language_info": {
   "codemirror_mode": {
    "name": "ipython",
    "version": 3
   },
   "file_extension": ".py",
   "mimetype": "text/x-python",
   "name": "python",
   "nbconvert_exporter": "python",
   "pygments_lexer": "ipython3",
   "version": "3.6.7"
  }
 },
 "nbformat": 4,
 "nbformat_minor": 2
}
