{
 "cells": [
  {
   "cell_type": "code",
   "execution_count": 1,
   "metadata": {},
   "outputs": [],
   "source": [
    "from general_method.set_geom_prob import visibility\n",
    "import matplotlib.pyplot as plt\n",
    "import seaborn as sns"
   ]
  },
  {
   "cell_type": "markdown",
   "metadata": {},
   "source": [
    "# Q2 in Q2NPA1"
   ]
  },
  {
   "cell_type": "code",
   "execution_count": 2,
   "metadata": {},
   "outputs": [
    {
     "name": "stdout",
     "output_type": "stream",
     "text": [
      "Data size:  9983\n",
      "Min:  0.9999996979576565\n",
      "Max:  3.2964570999023435\n",
      "Probability out:  0.0\n"
     ]
    },
    {
     "data": {
      "image/png": "[encoded data removed]",
      "text/plain": [
       "<Figure size 720x360 with 1 Axes>"
      ]
     },
     "metadata": {
      "needs_background": "light"
     },
     "output_type": "display_data"
    }
   ],
   "source": [
    "size = 10000\n",
    "X2 = []\n",
    "eta2 = []\n",
    "for __ in range(size):\n",
    "    try:\n",
    "        temp_X, temp_eta = visibility(dimX=2)\n",
    "        X2.append(temp_X)\n",
    "        eta2.append(temp_eta[0][0])\n",
    "    except:\n",
    "        continue\n",
    "        \n",
    "plt.figure(figsize=(10,5))\n",
    "ax = sns.distplot(eta2, hist=True, kde=True,\n",
    "             bins=int(len(eta2)/10), color = 'darkblue',\n",
    "             hist_kws={'edgecolor':'black'},\n",
    "             kde_kws={'linewidth': 4})\n",
    "ax.set(xlabel='Visibility')\n",
    "\n",
    "eta2_in = [i for i in eta2 if i>=0.9999]\n",
    "eta2_out = [i for i in eta2 if i<0.9999]\n",
    "\n",
    "\n",
    "print(\"Data size: \", len(eta2))\n",
    "print(\"Min: \", min(eta2))\n",
    "print(\"Max: \", max(eta2))\n",
    "print(\"Probability out: \", len(eta2_out)/len(eta2))"
   ]
  },
  {
   "cell_type": "markdown",
   "metadata": {},
   "source": [
    "# Q3 in Q2NPA1"
   ]
  },
  {
   "cell_type": "code",
   "execution_count": 3,
   "metadata": {
    "scrolled": false
   },
   "outputs": [
    {
     "name": "stdout",
     "output_type": "stream",
     "text": [
      "Data size:  9780\n",
      "Min:  4.3650042657023553e-07\n",
      "Max:  3.158432751924337\n",
      "Probability out:  0.37750511247443763\n"
     ]
    },
    {
     "data": {
      "image/png": "[encoded data removed]",
      "text/plain": [
       "<Figure size 720x360 with 1 Axes>"
      ]
     },
     "metadata": {
      "needs_background": "light"
     },
     "output_type": "display_data"
    }
   ],
   "source": [
    "size = 10000\n",
    "X3 = []\n",
    "eta3 = []\n",
    "for __ in range(size):\n",
    "    try:\n",
    "        temp_X, temp_eta = visibility()\n",
    "        X3.append(temp_X)\n",
    "        eta3.append(temp_eta[0][0])\n",
    "    except:\n",
    "        continue\n",
    "        \n",
    "plt.figure(figsize=(10,5))\n",
    "ax = sns.distplot(eta3, hist=True, kde=True,\n",
    "             bins=int(len(eta3)/10), color = 'darkblue',\n",
    "             hist_kws={'edgecolor':'black'},\n",
    "             kde_kws={'linewidth': 4})\n",
    "ax.set(xlabel='Visibility')\n",
    "\n",
    "eta3_in = [i for i in eta3 if i>=0.9999]\n",
    "eta3_out = [i for i in eta3 if i<0.9999]\n",
    "\n",
    "\n",
    "print(\"Data size: \", len(eta3))\n",
    "print(\"Min: \", min(eta3))\n",
    "print(\"Max: \", max(eta3))\n",
    "print(\"Probability out: \", len(eta3_out)/len(eta3))"
   ]
  },
  {
   "cell_type": "code",
   "execution_count": null,
   "metadata": {},
   "outputs": [],
   "source": []
  }
 ],
 "metadata": {
  "kernelspec": {
   "display_name": "Python 3",
   "language": "python",
   "name": "python3"
  },
  "language_info": {
   "codemirror_mode": {
    "name": "ipython",
    "version": 3
   },
   "file_extension": ".py",
   "mimetype": "text/x-python",
   "name": "python",
   "nbconvert_exporter": "python",
   "pygments_lexer": "ipython3",
   "version": "3.7.6"
  }
 },
 "nbformat": 4,
 "nbformat_minor": 2
}
