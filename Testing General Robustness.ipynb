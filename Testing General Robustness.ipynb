{
 "cells": [
  {
   "cell_type": "code",
   "execution_count": 8,
   "metadata": {},
   "outputs": [],
   "source": [
    "import numpy as np\n",
    "import cvxpy as cp\n",
    "from public.basis_generator_v2 import rand_moment\n",
    "from numpy import linalg as LA"
   ]
  },
  {
   "cell_type": "code",
   "execution_count": 18,
   "metadata": {},
   "outputs": [
    {
     "name": "stdout",
     "output_type": "stream",
     "text": [
      "Nul matrix found\n",
      "Number of LI moment matrices:  35\n"
     ]
    }
   ],
   "source": [
    "# Parameters\n",
    "dim = 2\n",
    "num_obs = 3\n",
    "len_seq = 2\n",
    "num_out = 2\n",
    "remove_last_out = True\n",
    "level = 1\n",
    "\n",
    "flag = False\n",
    "count = 1\n",
    "stop = 10000\n",
    "norm_sens = 0.000000001\n",
    "\n",
    "X_basis = []\n",
    "\n",
    "# Initialization\n",
    "X = rand_moment(dim,\n",
    "             num_obs,\n",
    "             len_seq,\n",
    "             num_out,\n",
    "             sel_sequences = [len_seq],\n",
    "             remove_last_out = True)\n",
    "\n",
    "X = X/LA.norm(X)\n",
    "X_basis.append(X)\n",
    "\n",
    "while flag==False:\n",
    "    X = rand_moment(dim,\n",
    "             num_obs,\n",
    "             len_seq,\n",
    "             num_out,\n",
    "             sel_sequences = [len_seq],\n",
    "             remove_last_out = True)\n",
    "    \n",
    "    for k in range(len(X_basis)):\n",
    "        X -= X_basis[k]*np.sum(X_basis[k]*np.conjugate(X))\n",
    "    if LA.norm(X) < norm_sens:\n",
    "        print(\"Nul matrix found\")\n",
    "        print(\"Number of LI moment matrices: \", len(X_basis))\n",
    "        flag=True\n",
    "    else:\n",
    "        X = X/LA.norm(X)\n",
    "        X_basis.append(X)\n",
    "        count+=1\n",
    "    if count > stop:\n",
    "        print(\"Cannot find the basis\")\n",
    "        \n",
    "        \n",
    "X_basis_2d = X_basis"
   ]
  },
  {
   "cell_type": "code",
   "execution_count": 19,
   "metadata": {},
   "outputs": [
    {
     "data": {
      "text/plain": [
       "(10, 10)"
      ]
     },
     "execution_count": 19,
     "metadata": {},
     "output_type": "execute_result"
    }
   ],
   "source": [
    "X_basis_2d[0].shape"
   ]
  },
  {
   "cell_type": "code",
   "execution_count": 59,
   "metadata": {},
   "outputs": [],
   "source": [
    "# Parameters\n",
    "dim = 3\n",
    "num_obs = 3\n",
    "len_seq = 2\n",
    "num_out = 2\n",
    "remove_last_out = True\n",
    "level = 1\n",
    "\n",
    "X = rand_moment(dim,\n",
    "             num_obs,\n",
    "             len_seq,\n",
    "             num_out,\n",
    "             sel_sequences = [len_seq],\n",
    "             remove_last_out = True)"
   ]
  },
  {
   "cell_type": "code",
   "execution_count": 69,
   "metadata": {
    "scrolled": false
   },
   "outputs": [],
   "source": [
    "Eta = []\n",
    "\n",
    "for k in range(100):\n",
    "    X = rand_moment(dim,\n",
    "             num_obs,\n",
    "             len_seq,\n",
    "             num_out,\n",
    "             sel_sequences = [len_seq],\n",
    "             remove_last_out = True)\n",
    "    \n",
    "    eta = cp.Variable((1, 1))\n",
    "    alpha = cp.Variable((len(X_basis_2d), 1))\n",
    "    beta = cp.Variable((len(X_basis_2d), 1))\n",
    "    M = cp.Variable(X_basis_2d[0].shape)\n",
    "    N = cp.Variable(X_basis_2d[0].shape)\n",
    "\n",
    "    constraints = [N >> 0]\n",
    "    constraints += [N == sum([beta[j]*X_basis_2d[j] for j in range(len(X_basis_2d))])]\n",
    "    constraints += [N[0,0] == 1 - eta]\n",
    "\n",
    "    for i in range(1,len(X)):\n",
    "        constraints += [\n",
    "            eta*X[i,i] + N[i,i] == M[i,i]\n",
    "        ]\n",
    "\n",
    "    constraints += [M >> 0]\n",
    "    constraints += [M == sum([alpha[j]*X_basis_2d[j] for j in range(len(X_basis_2d))])]\n",
    "    constraints += [M[0,0] == 1]\n",
    "\n",
    "    prob = cp.Problem(cp.Maximize(eta),\n",
    "                      constraints)\n",
    "\n",
    "    prob.solve(solver=cp.MOSEK, verbose=False)\n",
    "    Eta.append(eta.value[0][0])"
   ]
  },
  {
   "cell_type": "code",
   "execution_count": 70,
   "metadata": {},
   "outputs": [
    {
     "data": {
      "text/plain": [
       "0.9514229648993894"
      ]
     },
     "execution_count": 70,
     "metadata": {},
     "output_type": "execute_result"
    }
   ],
   "source": [
    "min(Eta)"
   ]
  },
  {
   "cell_type": "code",
   "execution_count": 71,
   "metadata": {},
   "outputs": [
    {
     "data": {
      "text/plain": [
       "1.0000000000007403"
      ]
     },
     "execution_count": 71,
     "metadata": {},
     "output_type": "execute_result"
    }
   ],
   "source": [
    "max(Eta)"
   ]
  },
  {
   "cell_type": "code",
   "execution_count": null,
   "metadata": {},
   "outputs": [],
   "source": []
  }
 ],
 "metadata": {
  "kernelspec": {
   "display_name": "Python 3",
   "language": "python",
   "name": "python3"
  },
  "language_info": {
   "codemirror_mode": {
    "name": "ipython",
    "version": 3
   },
   "file_extension": ".py",
   "mimetype": "text/x-python",
   "name": "python",
   "nbconvert_exporter": "python",
   "pygments_lexer": "ipython3",
   "version": "3.7.6"
  }
 },
 "nbformat": 4,
 "nbformat_minor": 2
}
